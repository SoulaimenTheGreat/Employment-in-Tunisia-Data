{
 "cells": [
  {
   "cell_type": "code",
   "execution_count": 61,
   "metadata": {},
   "outputs": [],
   "source": [
    "import pandas as pd\n",
    "import numpy as np\n",
    "import plotly.express as px\n",
    "import plotly.graph_objects as go\n",
    "from sklearn.preprocessing import MinMaxScaler\n",
    "from plotly.subplots import make_subplots"
   ]
  },
  {
   "cell_type": "code",
   "execution_count": 71,
   "metadata": {},
   "outputs": [
    {
     "data": {
      "text/html": [
       "<div>\n",
       "<style scoped>\n",
       "    .dataframe tbody tr th:only-of-type {\n",
       "        vertical-align: middle;\n",
       "    }\n",
       "\n",
       "    .dataframe tbody tr th {\n",
       "        vertical-align: top;\n",
       "    }\n",
       "\n",
       "    .dataframe thead th {\n",
       "        text-align: right;\n",
       "    }\n",
       "</style>\n",
       "<table border=\"1\" class=\"dataframe\">\n",
       "  <thead>\n",
       "    <tr style=\"text-align: right;\">\n",
       "      <th></th>\n",
       "      <th></th>\n",
       "      <th>Evolution de la population active occupée</th>\n",
       "      <th>Population active occupée Masculine</th>\n",
       "      <th>Population active occupée Féminine</th>\n",
       "    </tr>\n",
       "  </thead>\n",
       "  <tbody>\n",
       "    <tr>\n",
       "      <th>0</th>\n",
       "      <td>II trimestre 2011</td>\n",
       "      <td>3139.8</td>\n",
       "      <td>2394.1</td>\n",
       "      <td>745.7</td>\n",
       "    </tr>\n",
       "    <tr>\n",
       "      <th>1</th>\n",
       "      <td>IV trimestre 2011</td>\n",
       "      <td>3170.7</td>\n",
       "      <td>2405.0</td>\n",
       "      <td>765.7</td>\n",
       "    </tr>\n",
       "    <tr>\n",
       "      <th>2</th>\n",
       "      <td>I trimestre 2012</td>\n",
       "      <td>3207.1</td>\n",
       "      <td>2423.9</td>\n",
       "      <td>783.2</td>\n",
       "    </tr>\n",
       "    <tr>\n",
       "      <th>3</th>\n",
       "      <td>II trimestre 2012</td>\n",
       "      <td>3231.6</td>\n",
       "      <td>2434.9</td>\n",
       "      <td>796.7</td>\n",
       "    </tr>\n",
       "    <tr>\n",
       "      <th>4</th>\n",
       "      <td>III trimestre 2012</td>\n",
       "      <td>3242.9</td>\n",
       "      <td>2444.3</td>\n",
       "      <td>798.6</td>\n",
       "    </tr>\n",
       "  </tbody>\n",
       "</table>\n",
       "</div>"
      ],
      "text/plain": [
       "                       Evolution de la population active occupée  \\\n",
       "0   II trimestre 2011                                     3139.8   \n",
       "1   IV trimestre 2011                                     3170.7   \n",
       "2    I trimestre 2012                                     3207.1   \n",
       "3   II trimestre 2012                                     3231.6   \n",
       "4  III trimestre 2012                                     3242.9   \n",
       "\n",
       "   Population active occupée Masculine  Population active occupée Féminine  \n",
       "0                               2394.1                               745.7  \n",
       "1                               2405.0                               765.7  \n",
       "2                               2423.9                               783.2  \n",
       "3                               2434.9                               796.7  \n",
       "4                               2444.3                               798.6  "
      ]
     },
     "execution_count": 71,
     "metadata": {},
     "output_type": "execute_result"
    }
   ],
   "source": [
    "scaler = MinMaxScaler()\n",
    "df_Population_A_1=pd.read_csv(\"~/data_viz/Project_Employement/data/tidy_data/Population active/Evolution de la population active occupée selon le sexe.csv\",\n",
    "                                header=1)\n",
    "df_Population_A_1.head()"
   ]
  },
  {
   "cell_type": "code",
   "execution_count": 82,
   "metadata": {},
   "outputs": [
    {
     "data": {
      "application/vnd.plotly.v1+json": {
       "config": {
        "plotlyServerURL": "https://plot.ly"
       },
       "data": [
        {
         "line": {
          "color": "royalblue"
         },
         "name": "Total",
         "type": "scatter",
         "x": [
          "II trimestre 2011",
          "IV trimestre 2011",
          "I trimestre 2012",
          "II trimestre 2012",
          "III trimestre 2012",
          "IV trimestre 2012",
          "I trimestre 2013",
          "II trimestre 2013",
          "III trimestre 2013",
          "IV trimestre 2013",
          "I trimestre 2014",
          "II trimestre 2014",
          "III trimestre 2014",
          "IV trimestre 2014",
          "I trimestre 2015",
          "II trimestre 2015",
          "III trimestre 2015",
          "IV trimestre 2015",
          "I trimestre 2016",
          "II trimestre 2016",
          "III trimestre 2016",
          "IV trimestre 2016",
          "I trimestre 2017",
          "II trimestre 2017",
          "III trimestre 2017",
          "IV trimestre 2017",
          "I trimestre 2018",
          "II trimestre 2018",
          "III trimestre 2018",
          "IV trimestre 2018",
          "I trimestre 2019",
          "II trimestre 2019",
          "III trimestre 2019",
          "IV trimestre 2019"
         ],
         "xaxis": "x",
         "y": [
          3139.8,
          3170.7,
          3207.1,
          3231.6,
          3242.9,
          3255.8,
          3281.2,
          3315.3,
          3341.2,
          3368.7,
          3392.5,
          3294.4,
          3399.2,
          3413.7,
          3398.6,
          3386.3,
          3392.1,
          3402,
          3414.7,
          3417.6,
          3425.9,
          3436.7,
          3451.5,
          3458.1,
          3472.2,
          3480,
          3491.9,
          3497.7,
          3502.7,
          3507.6,
          3520.4,
          3527.9,
          3543.6,
          3566.4
         ],
         "yaxis": "y"
        },
        {
         "line": {
          "color": "green"
         },
         "name": "Homme",
         "type": "scatter",
         "x": [
          "II trimestre 2011",
          "IV trimestre 2011",
          "I trimestre 2012",
          "II trimestre 2012",
          "III trimestre 2012",
          "IV trimestre 2012",
          "I trimestre 2013",
          "II trimestre 2013",
          "III trimestre 2013",
          "IV trimestre 2013",
          "I trimestre 2014",
          "II trimestre 2014",
          "III trimestre 2014",
          "IV trimestre 2014",
          "I trimestre 2015",
          "II trimestre 2015",
          "III trimestre 2015",
          "IV trimestre 2015",
          "I trimestre 2016",
          "II trimestre 2016",
          "III trimestre 2016",
          "IV trimestre 2016",
          "I trimestre 2017",
          "II trimestre 2017",
          "III trimestre 2017",
          "IV trimestre 2017",
          "I trimestre 2018",
          "II trimestre 2018",
          "III trimestre 2018",
          "IV trimestre 2018",
          "I trimestre 2019",
          "II trimestre 2019",
          "III trimestre 2019",
          "IV trimestre 2019"
         ],
         "xaxis": "x2",
         "y": [
          2394.1,
          2405,
          2423.9,
          2434.9,
          2444.3,
          2451,
          2466,
          2482.4,
          2495.3,
          2505.6,
          2515,
          2351.1,
          2519,
          2523.3,
          2520.7,
          2513.8,
          2515.8,
          2521.3,
          2525.3,
          2527.9,
          2529.6,
          2537.1,
          2546.2,
          2550.1,
          2560.2,
          2566.8,
          2573.9,
          2577.5,
          2579.3,
          2582.5,
          2590.7,
          2594.5,
          2603.2,
          2613.7
         ],
         "yaxis": "y2"
        },
        {
         "line": {
          "color": "firebrick"
         },
         "name": "Femme",
         "type": "scatter",
         "x": [
          "II trimestre 2011",
          "IV trimestre 2011",
          "I trimestre 2012",
          "II trimestre 2012",
          "III trimestre 2012",
          "IV trimestre 2012",
          "I trimestre 2013",
          "II trimestre 2013",
          "III trimestre 2013",
          "IV trimestre 2013",
          "I trimestre 2014",
          "II trimestre 2014",
          "III trimestre 2014",
          "IV trimestre 2014",
          "I trimestre 2015",
          "II trimestre 2015",
          "III trimestre 2015",
          "IV trimestre 2015",
          "I trimestre 2016",
          "II trimestre 2016",
          "III trimestre 2016",
          "IV trimestre 2016",
          "I trimestre 2017",
          "II trimestre 2017",
          "III trimestre 2017",
          "IV trimestre 2017",
          "I trimestre 2018",
          "II trimestre 2018",
          "III trimestre 2018",
          "IV trimestre 2018",
          "I trimestre 2019",
          "II trimestre 2019",
          "III trimestre 2019",
          "IV trimestre 2019"
         ],
         "xaxis": "x3",
         "y": [
          745.7,
          765.7,
          783.2,
          796.7,
          798.6,
          804.8,
          815.2,
          832.9,
          845.9,
          863.1,
          877.5,
          943.3,
          880.2,
          890.4,
          877.9,
          872.5,
          876.3,
          880.7,
          889.4,
          889.7,
          896.3,
          899.6,
          905.3,
          908,
          912,
          913.2,
          918,
          920.2,
          923.4,
          925.1,
          929.7,
          933.4,
          940.4,
          952.7
         ],
         "yaxis": "y3"
        }
       ],
       "layout": {
        "annotations": [
         {
          "font": {
           "size": 16
          },
          "showarrow": false,
          "text": "Evolution de la population active occupée",
          "x": 0.5,
          "xanchor": "center",
          "xref": "paper",
          "y": 1,
          "yanchor": "bottom",
          "yref": "paper"
         },
         {
          "font": {
           "size": 16
          },
          "showarrow": false,
          "text": "Population active occupée Masculine",
          "x": 0.225,
          "xanchor": "center",
          "xref": "paper",
          "y": 0.375,
          "yanchor": "bottom",
          "yref": "paper"
         },
         {
          "font": {
           "size": 16
          },
          "showarrow": false,
          "text": "Population active occupée Féminine",
          "x": 0.775,
          "xanchor": "center",
          "xref": "paper",
          "y": 0.375,
          "yanchor": "bottom",
          "yref": "paper"
         }
        ],
        "template": {
         "data": {
          "bar": [
           {
            "error_x": {
             "color": "#2a3f5f"
            },
            "error_y": {
             "color": "#2a3f5f"
            },
            "marker": {
             "line": {
              "color": "#E5ECF6",
              "width": 0.5
             }
            },
            "type": "bar"
           }
          ],
          "barpolar": [
           {
            "marker": {
             "line": {
              "color": "#E5ECF6",
              "width": 0.5
             }
            },
            "type": "barpolar"
           }
          ],
          "carpet": [
           {
            "aaxis": {
             "endlinecolor": "#2a3f5f",
             "gridcolor": "white",
             "linecolor": "white",
             "minorgridcolor": "white",
             "startlinecolor": "#2a3f5f"
            },
            "baxis": {
             "endlinecolor": "#2a3f5f",
             "gridcolor": "white",
             "linecolor": "white",
             "minorgridcolor": "white",
             "startlinecolor": "#2a3f5f"
            },
            "type": "carpet"
           }
          ],
          "choropleth": [
           {
            "colorbar": {
             "outlinewidth": 0,
             "ticks": ""
            },
            "type": "choropleth"
           }
          ],
          "contour": [
           {
            "colorbar": {
             "outlinewidth": 0,
             "ticks": ""
            },
            "colorscale": [
             [
              0,
              "#0d0887"
             ],
             [
              0.1111111111111111,
              "#46039f"
             ],
             [
              0.2222222222222222,
              "#7201a8"
             ],
             [
              0.3333333333333333,
              "#9c179e"
             ],
             [
              0.4444444444444444,
              "#bd3786"
             ],
             [
              0.5555555555555556,
              "#d8576b"
             ],
             [
              0.6666666666666666,
              "#ed7953"
             ],
             [
              0.7777777777777778,
              "#fb9f3a"
             ],
             [
              0.8888888888888888,
              "#fdca26"
             ],
             [
              1,
              "#f0f921"
             ]
            ],
            "type": "contour"
           }
          ],
          "contourcarpet": [
           {
            "colorbar": {
             "outlinewidth": 0,
             "ticks": ""
            },
            "type": "contourcarpet"
           }
          ],
          "heatmap": [
           {
            "colorbar": {
             "outlinewidth": 0,
             "ticks": ""
            },
            "colorscale": [
             [
              0,
              "#0d0887"
             ],
             [
              0.1111111111111111,
              "#46039f"
             ],
             [
              0.2222222222222222,
              "#7201a8"
             ],
             [
              0.3333333333333333,
              "#9c179e"
             ],
             [
              0.4444444444444444,
              "#bd3786"
             ],
             [
              0.5555555555555556,
              "#d8576b"
             ],
             [
              0.6666666666666666,
              "#ed7953"
             ],
             [
              0.7777777777777778,
              "#fb9f3a"
             ],
             [
              0.8888888888888888,
              "#fdca26"
             ],
             [
              1,
              "#f0f921"
             ]
            ],
            "type": "heatmap"
           }
          ],
          "heatmapgl": [
           {
            "colorbar": {
             "outlinewidth": 0,
             "ticks": ""
            },
            "colorscale": [
             [
              0,
              "#0d0887"
             ],
             [
              0.1111111111111111,
              "#46039f"
             ],
             [
              0.2222222222222222,
              "#7201a8"
             ],
             [
              0.3333333333333333,
              "#9c179e"
             ],
             [
              0.4444444444444444,
              "#bd3786"
             ],
             [
              0.5555555555555556,
              "#d8576b"
             ],
             [
              0.6666666666666666,
              "#ed7953"
             ],
             [
              0.7777777777777778,
              "#fb9f3a"
             ],
             [
              0.8888888888888888,
              "#fdca26"
             ],
             [
              1,
              "#f0f921"
             ]
            ],
            "type": "heatmapgl"
           }
          ],
          "histogram": [
           {
            "marker": {
             "colorbar": {
              "outlinewidth": 0,
              "ticks": ""
             }
            },
            "type": "histogram"
           }
          ],
          "histogram2d": [
           {
            "colorbar": {
             "outlinewidth": 0,
             "ticks": ""
            },
            "colorscale": [
             [
              0,
              "#0d0887"
             ],
             [
              0.1111111111111111,
              "#46039f"
             ],
             [
              0.2222222222222222,
              "#7201a8"
             ],
             [
              0.3333333333333333,
              "#9c179e"
             ],
             [
              0.4444444444444444,
              "#bd3786"
             ],
             [
              0.5555555555555556,
              "#d8576b"
             ],
             [
              0.6666666666666666,
              "#ed7953"
             ],
             [
              0.7777777777777778,
              "#fb9f3a"
             ],
             [
              0.8888888888888888,
              "#fdca26"
             ],
             [
              1,
              "#f0f921"
             ]
            ],
            "type": "histogram2d"
           }
          ],
          "histogram2dcontour": [
           {
            "colorbar": {
             "outlinewidth": 0,
             "ticks": ""
            },
            "colorscale": [
             [
              0,
              "#0d0887"
             ],
             [
              0.1111111111111111,
              "#46039f"
             ],
             [
              0.2222222222222222,
              "#7201a8"
             ],
             [
              0.3333333333333333,
              "#9c179e"
             ],
             [
              0.4444444444444444,
              "#bd3786"
             ],
             [
              0.5555555555555556,
              "#d8576b"
             ],
             [
              0.6666666666666666,
              "#ed7953"
             ],
             [
              0.7777777777777778,
              "#fb9f3a"
             ],
             [
              0.8888888888888888,
              "#fdca26"
             ],
             [
              1,
              "#f0f921"
             ]
            ],
            "type": "histogram2dcontour"
           }
          ],
          "mesh3d": [
           {
            "colorbar": {
             "outlinewidth": 0,
             "ticks": ""
            },
            "type": "mesh3d"
           }
          ],
          "parcoords": [
           {
            "line": {
             "colorbar": {
              "outlinewidth": 0,
              "ticks": ""
             }
            },
            "type": "parcoords"
           }
          ],
          "pie": [
           {
            "automargin": true,
            "type": "pie"
           }
          ],
          "scatter": [
           {
            "marker": {
             "colorbar": {
              "outlinewidth": 0,
              "ticks": ""
             }
            },
            "type": "scatter"
           }
          ],
          "scatter3d": [
           {
            "line": {
             "colorbar": {
              "outlinewidth": 0,
              "ticks": ""
             }
            },
            "marker": {
             "colorbar": {
              "outlinewidth": 0,
              "ticks": ""
             }
            },
            "type": "scatter3d"
           }
          ],
          "scattercarpet": [
           {
            "marker": {
             "colorbar": {
              "outlinewidth": 0,
              "ticks": ""
             }
            },
            "type": "scattercarpet"
           }
          ],
          "scattergeo": [
           {
            "marker": {
             "colorbar": {
              "outlinewidth": 0,
              "ticks": ""
             }
            },
            "type": "scattergeo"
           }
          ],
          "scattergl": [
           {
            "marker": {
             "colorbar": {
              "outlinewidth": 0,
              "ticks": ""
             }
            },
            "type": "scattergl"
           }
          ],
          "scattermapbox": [
           {
            "marker": {
             "colorbar": {
              "outlinewidth": 0,
              "ticks": ""
             }
            },
            "type": "scattermapbox"
           }
          ],
          "scatterpolar": [
           {
            "marker": {
             "colorbar": {
              "outlinewidth": 0,
              "ticks": ""
             }
            },
            "type": "scatterpolar"
           }
          ],
          "scatterpolargl": [
           {
            "marker": {
             "colorbar": {
              "outlinewidth": 0,
              "ticks": ""
             }
            },
            "type": "scatterpolargl"
           }
          ],
          "scatterternary": [
           {
            "marker": {
             "colorbar": {
              "outlinewidth": 0,
              "ticks": ""
             }
            },
            "type": "scatterternary"
           }
          ],
          "surface": [
           {
            "colorbar": {
             "outlinewidth": 0,
             "ticks": ""
            },
            "colorscale": [
             [
              0,
              "#0d0887"
             ],
             [
              0.1111111111111111,
              "#46039f"
             ],
             [
              0.2222222222222222,
              "#7201a8"
             ],
             [
              0.3333333333333333,
              "#9c179e"
             ],
             [
              0.4444444444444444,
              "#bd3786"
             ],
             [
              0.5555555555555556,
              "#d8576b"
             ],
             [
              0.6666666666666666,
              "#ed7953"
             ],
             [
              0.7777777777777778,
              "#fb9f3a"
             ],
             [
              0.8888888888888888,
              "#fdca26"
             ],
             [
              1,
              "#f0f921"
             ]
            ],
            "type": "surface"
           }
          ],
          "table": [
           {
            "cells": {
             "fill": {
              "color": "#EBF0F8"
             },
             "line": {
              "color": "white"
             }
            },
            "header": {
             "fill": {
              "color": "#C8D4E3"
             },
             "line": {
              "color": "white"
             }
            },
            "type": "table"
           }
          ]
         },
         "layout": {
          "annotationdefaults": {
           "arrowcolor": "#2a3f5f",
           "arrowhead": 0,
           "arrowwidth": 1
          },
          "coloraxis": {
           "colorbar": {
            "outlinewidth": 0,
            "ticks": ""
           }
          },
          "colorscale": {
           "diverging": [
            [
             0,
             "#8e0152"
            ],
            [
             0.1,
             "#c51b7d"
            ],
            [
             0.2,
             "#de77ae"
            ],
            [
             0.3,
             "#f1b6da"
            ],
            [
             0.4,
             "#fde0ef"
            ],
            [
             0.5,
             "#f7f7f7"
            ],
            [
             0.6,
             "#e6f5d0"
            ],
            [
             0.7,
             "#b8e186"
            ],
            [
             0.8,
             "#7fbc41"
            ],
            [
             0.9,
             "#4d9221"
            ],
            [
             1,
             "#276419"
            ]
           ],
           "sequential": [
            [
             0,
             "#0d0887"
            ],
            [
             0.1111111111111111,
             "#46039f"
            ],
            [
             0.2222222222222222,
             "#7201a8"
            ],
            [
             0.3333333333333333,
             "#9c179e"
            ],
            [
             0.4444444444444444,
             "#bd3786"
            ],
            [
             0.5555555555555556,
             "#d8576b"
            ],
            [
             0.6666666666666666,
             "#ed7953"
            ],
            [
             0.7777777777777778,
             "#fb9f3a"
            ],
            [
             0.8888888888888888,
             "#fdca26"
            ],
            [
             1,
             "#f0f921"
            ]
           ],
           "sequentialminus": [
            [
             0,
             "#0d0887"
            ],
            [
             0.1111111111111111,
             "#46039f"
            ],
            [
             0.2222222222222222,
             "#7201a8"
            ],
            [
             0.3333333333333333,
             "#9c179e"
            ],
            [
             0.4444444444444444,
             "#bd3786"
            ],
            [
             0.5555555555555556,
             "#d8576b"
            ],
            [
             0.6666666666666666,
             "#ed7953"
            ],
            [
             0.7777777777777778,
             "#fb9f3a"
            ],
            [
             0.8888888888888888,
             "#fdca26"
            ],
            [
             1,
             "#f0f921"
            ]
           ]
          },
          "colorway": [
           "#636efa",
           "#EF553B",
           "#00cc96",
           "#ab63fa",
           "#FFA15A",
           "#19d3f3",
           "#FF6692",
           "#B6E880",
           "#FF97FF",
           "#FECB52"
          ],
          "font": {
           "color": "#2a3f5f"
          },
          "geo": {
           "bgcolor": "white",
           "lakecolor": "white",
           "landcolor": "#E5ECF6",
           "showlakes": true,
           "showland": true,
           "subunitcolor": "white"
          },
          "hoverlabel": {
           "align": "left"
          },
          "hovermode": "closest",
          "mapbox": {
           "style": "light"
          },
          "paper_bgcolor": "white",
          "plot_bgcolor": "#E5ECF6",
          "polar": {
           "angularaxis": {
            "gridcolor": "white",
            "linecolor": "white",
            "ticks": ""
           },
           "bgcolor": "#E5ECF6",
           "radialaxis": {
            "gridcolor": "white",
            "linecolor": "white",
            "ticks": ""
           }
          },
          "scene": {
           "xaxis": {
            "backgroundcolor": "#E5ECF6",
            "gridcolor": "white",
            "gridwidth": 2,
            "linecolor": "white",
            "showbackground": true,
            "ticks": "",
            "zerolinecolor": "white"
           },
           "yaxis": {
            "backgroundcolor": "#E5ECF6",
            "gridcolor": "white",
            "gridwidth": 2,
            "linecolor": "white",
            "showbackground": true,
            "ticks": "",
            "zerolinecolor": "white"
           },
           "zaxis": {
            "backgroundcolor": "#E5ECF6",
            "gridcolor": "white",
            "gridwidth": 2,
            "linecolor": "white",
            "showbackground": true,
            "ticks": "",
            "zerolinecolor": "white"
           }
          },
          "shapedefaults": {
           "line": {
            "color": "#2a3f5f"
           }
          },
          "ternary": {
           "aaxis": {
            "gridcolor": "white",
            "linecolor": "white",
            "ticks": ""
           },
           "baxis": {
            "gridcolor": "white",
            "linecolor": "white",
            "ticks": ""
           },
           "bgcolor": "#E5ECF6",
           "caxis": {
            "gridcolor": "white",
            "linecolor": "white",
            "ticks": ""
           }
          },
          "title": {
           "x": 0.05
          },
          "xaxis": {
           "automargin": true,
           "gridcolor": "white",
           "linecolor": "white",
           "ticks": "",
           "title": {
            "standoff": 15
           },
           "zerolinecolor": "white",
           "zerolinewidth": 2
          },
          "yaxis": {
           "automargin": true,
           "gridcolor": "white",
           "linecolor": "white",
           "ticks": "",
           "title": {
            "standoff": 15
           },
           "zerolinecolor": "white",
           "zerolinewidth": 2
          }
         }
        },
        "title": {
         "text": "Average High and Low Temperatures in New York"
        },
        "xaxis": {
         "anchor": "y",
         "domain": [
          0,
          1
         ],
         "showticklabels": false
        },
        "xaxis2": {
         "anchor": "y2",
         "domain": [
          0,
          0.45
         ],
         "showticklabels": false
        },
        "xaxis3": {
         "anchor": "y3",
         "domain": [
          0.55,
          1
         ],
         "showticklabels": false
        },
        "yaxis": {
         "anchor": "x",
         "domain": [
          0.625,
          1
         ],
         "showticklabels": false
        },
        "yaxis2": {
         "anchor": "x2",
         "domain": [
          0,
          0.375
         ],
         "showticklabels": false
        },
        "yaxis3": {
         "anchor": "x3",
         "domain": [
          0,
          0.375
         ],
         "showticklabels": false
        }
       }
      },
      "text/html": [
       "<div>\n",
       "        \n",
       "        \n",
       "            <div id=\"aec71642-3d7c-41ef-9ba0-ba9ff02c8eed\" class=\"plotly-graph-div\" style=\"height:525px; width:100%;\"></div>\n",
       "            <script type=\"text/javascript\">\n",
       "                require([\"plotly\"], function(Plotly) {\n",
       "                    window.PLOTLYENV=window.PLOTLYENV || {};\n",
       "                    \n",
       "                if (document.getElementById(\"aec71642-3d7c-41ef-9ba0-ba9ff02c8eed\")) {\n",
       "                    Plotly.newPlot(\n",
       "                        'aec71642-3d7c-41ef-9ba0-ba9ff02c8eed',\n",
       "                        [{\"line\": {\"color\": \"royalblue\"}, \"name\": \"Total\", \"type\": \"scatter\", \"x\": [\"II trimestre 2011\", \"IV trimestre 2011\", \"I trimestre 2012\", \"II trimestre 2012\", \"III trimestre 2012\", \"IV trimestre 2012\", \"I trimestre 2013\", \"II trimestre 2013\", \"III trimestre 2013\", \"IV trimestre 2013\", \"I trimestre 2014\", \"II trimestre 2014\", \"III trimestre 2014\", \"IV trimestre 2014\", \"I trimestre 2015\", \"II trimestre 2015\", \"III trimestre 2015\", \"IV trimestre 2015\", \"I trimestre 2016\", \"II trimestre 2016\", \"III trimestre 2016\", \"IV trimestre 2016\", \"I trimestre 2017\", \"II trimestre 2017\", \"III trimestre 2017\", \"IV trimestre 2017\", \"I trimestre 2018\", \"II trimestre 2018\", \"III trimestre 2018\", \"IV trimestre 2018\", \"I trimestre 2019\", \"II trimestre 2019\", \"III trimestre 2019\", \"IV trimestre 2019\"], \"xaxis\": \"x\", \"y\": [3139.8, 3170.7, 3207.1, 3231.6, 3242.9, 3255.8, 3281.2, 3315.3, 3341.2, 3368.7, 3392.5, 3294.4, 3399.2, 3413.7, 3398.6, 3386.3, 3392.1, 3402.0, 3414.7, 3417.6, 3425.9, 3436.7, 3451.5, 3458.1, 3472.2, 3480.0, 3491.9, 3497.7, 3502.7, 3507.6, 3520.4, 3527.9, 3543.6, 3566.4], \"yaxis\": \"y\"}, {\"line\": {\"color\": \"green\"}, \"name\": \"Homme\", \"type\": \"scatter\", \"x\": [\"II trimestre 2011\", \"IV trimestre 2011\", \"I trimestre 2012\", \"II trimestre 2012\", \"III trimestre 2012\", \"IV trimestre 2012\", \"I trimestre 2013\", \"II trimestre 2013\", \"III trimestre 2013\", \"IV trimestre 2013\", \"I trimestre 2014\", \"II trimestre 2014\", \"III trimestre 2014\", \"IV trimestre 2014\", \"I trimestre 2015\", \"II trimestre 2015\", \"III trimestre 2015\", \"IV trimestre 2015\", \"I trimestre 2016\", \"II trimestre 2016\", \"III trimestre 2016\", \"IV trimestre 2016\", \"I trimestre 2017\", \"II trimestre 2017\", \"III trimestre 2017\", \"IV trimestre 2017\", \"I trimestre 2018\", \"II trimestre 2018\", \"III trimestre 2018\", \"IV trimestre 2018\", \"I trimestre 2019\", \"II trimestre 2019\", \"III trimestre 2019\", \"IV trimestre 2019\"], \"xaxis\": \"x2\", \"y\": [2394.1, 2405.0, 2423.9, 2434.9, 2444.3, 2451.0, 2466.0, 2482.4, 2495.3, 2505.6, 2515.0, 2351.1, 2519.0, 2523.3, 2520.7, 2513.8, 2515.8, 2521.3, 2525.3, 2527.9, 2529.6, 2537.1, 2546.2, 2550.1, 2560.2, 2566.8, 2573.9, 2577.5, 2579.3, 2582.5, 2590.7, 2594.5, 2603.2, 2613.7], \"yaxis\": \"y2\"}, {\"line\": {\"color\": \"firebrick\"}, \"name\": \"Femme\", \"type\": \"scatter\", \"x\": [\"II trimestre 2011\", \"IV trimestre 2011\", \"I trimestre 2012\", \"II trimestre 2012\", \"III trimestre 2012\", \"IV trimestre 2012\", \"I trimestre 2013\", \"II trimestre 2013\", \"III trimestre 2013\", \"IV trimestre 2013\", \"I trimestre 2014\", \"II trimestre 2014\", \"III trimestre 2014\", \"IV trimestre 2014\", \"I trimestre 2015\", \"II trimestre 2015\", \"III trimestre 2015\", \"IV trimestre 2015\", \"I trimestre 2016\", \"II trimestre 2016\", \"III trimestre 2016\", \"IV trimestre 2016\", \"I trimestre 2017\", \"II trimestre 2017\", \"III trimestre 2017\", \"IV trimestre 2017\", \"I trimestre 2018\", \"II trimestre 2018\", \"III trimestre 2018\", \"IV trimestre 2018\", \"I trimestre 2019\", \"II trimestre 2019\", \"III trimestre 2019\", \"IV trimestre 2019\"], \"xaxis\": \"x3\", \"y\": [745.7, 765.7, 783.2, 796.7, 798.6, 804.8, 815.2, 832.9, 845.9, 863.1, 877.5, 943.3, 880.2, 890.4, 877.9, 872.5, 876.3, 880.7, 889.4, 889.7, 896.3, 899.6, 905.3, 908.0, 912.0, 913.2, 918.0, 920.2, 923.4, 925.1, 929.7, 933.4, 940.4, 952.7], \"yaxis\": \"y3\"}],\n",
       "                        {\"annotations\": [{\"font\": {\"size\": 16}, \"showarrow\": false, \"text\": \"Evolution de la population active occup\\u00e9e\", \"x\": 0.5, \"xanchor\": \"center\", \"xref\": \"paper\", \"y\": 1.0, \"yanchor\": \"bottom\", \"yref\": \"paper\"}, {\"font\": {\"size\": 16}, \"showarrow\": false, \"text\": \"Population active occup\\u00e9e Masculine\", \"x\": 0.225, \"xanchor\": \"center\", \"xref\": \"paper\", \"y\": 0.375, \"yanchor\": \"bottom\", \"yref\": \"paper\"}, {\"font\": {\"size\": 16}, \"showarrow\": false, \"text\": \"Population active occup\\u00e9e F\\u00e9minine\", \"x\": 0.775, \"xanchor\": \"center\", \"xref\": \"paper\", \"y\": 0.375, \"yanchor\": \"bottom\", \"yref\": \"paper\"}], \"template\": {\"data\": {\"bar\": [{\"error_x\": {\"color\": \"#2a3f5f\"}, \"error_y\": {\"color\": \"#2a3f5f\"}, \"marker\": {\"line\": {\"color\": \"#E5ECF6\", \"width\": 0.5}}, \"type\": \"bar\"}], \"barpolar\": [{\"marker\": {\"line\": {\"color\": \"#E5ECF6\", \"width\": 0.5}}, \"type\": \"barpolar\"}], \"carpet\": [{\"aaxis\": {\"endlinecolor\": \"#2a3f5f\", \"gridcolor\": \"white\", \"linecolor\": \"white\", \"minorgridcolor\": \"white\", \"startlinecolor\": \"#2a3f5f\"}, \"baxis\": {\"endlinecolor\": \"#2a3f5f\", \"gridcolor\": \"white\", \"linecolor\": \"white\", \"minorgridcolor\": \"white\", \"startlinecolor\": \"#2a3f5f\"}, \"type\": \"carpet\"}], \"choropleth\": [{\"colorbar\": {\"outlinewidth\": 0, \"ticks\": \"\"}, \"type\": \"choropleth\"}], \"contour\": [{\"colorbar\": {\"outlinewidth\": 0, \"ticks\": \"\"}, \"colorscale\": [[0.0, \"#0d0887\"], [0.1111111111111111, \"#46039f\"], [0.2222222222222222, \"#7201a8\"], [0.3333333333333333, \"#9c179e\"], [0.4444444444444444, \"#bd3786\"], [0.5555555555555556, \"#d8576b\"], [0.6666666666666666, \"#ed7953\"], [0.7777777777777778, \"#fb9f3a\"], [0.8888888888888888, \"#fdca26\"], [1.0, \"#f0f921\"]], \"type\": \"contour\"}], \"contourcarpet\": [{\"colorbar\": {\"outlinewidth\": 0, \"ticks\": \"\"}, \"type\": \"contourcarpet\"}], \"heatmap\": [{\"colorbar\": {\"outlinewidth\": 0, \"ticks\": \"\"}, \"colorscale\": [[0.0, \"#0d0887\"], [0.1111111111111111, \"#46039f\"], [0.2222222222222222, \"#7201a8\"], [0.3333333333333333, \"#9c179e\"], [0.4444444444444444, \"#bd3786\"], [0.5555555555555556, \"#d8576b\"], [0.6666666666666666, \"#ed7953\"], [0.7777777777777778, \"#fb9f3a\"], [0.8888888888888888, \"#fdca26\"], [1.0, \"#f0f921\"]], \"type\": \"heatmap\"}], \"heatmapgl\": [{\"colorbar\": {\"outlinewidth\": 0, \"ticks\": \"\"}, \"colorscale\": [[0.0, \"#0d0887\"], [0.1111111111111111, \"#46039f\"], [0.2222222222222222, \"#7201a8\"], [0.3333333333333333, \"#9c179e\"], [0.4444444444444444, \"#bd3786\"], [0.5555555555555556, \"#d8576b\"], [0.6666666666666666, \"#ed7953\"], [0.7777777777777778, \"#fb9f3a\"], [0.8888888888888888, \"#fdca26\"], [1.0, \"#f0f921\"]], \"type\": \"heatmapgl\"}], \"histogram\": [{\"marker\": {\"colorbar\": {\"outlinewidth\": 0, \"ticks\": \"\"}}, \"type\": \"histogram\"}], \"histogram2d\": [{\"colorbar\": {\"outlinewidth\": 0, \"ticks\": \"\"}, \"colorscale\": [[0.0, \"#0d0887\"], [0.1111111111111111, \"#46039f\"], [0.2222222222222222, \"#7201a8\"], [0.3333333333333333, \"#9c179e\"], [0.4444444444444444, \"#bd3786\"], [0.5555555555555556, \"#d8576b\"], [0.6666666666666666, \"#ed7953\"], [0.7777777777777778, \"#fb9f3a\"], [0.8888888888888888, \"#fdca26\"], [1.0, \"#f0f921\"]], \"type\": \"histogram2d\"}], \"histogram2dcontour\": [{\"colorbar\": {\"outlinewidth\": 0, \"ticks\": \"\"}, \"colorscale\": [[0.0, \"#0d0887\"], [0.1111111111111111, \"#46039f\"], [0.2222222222222222, \"#7201a8\"], [0.3333333333333333, \"#9c179e\"], [0.4444444444444444, \"#bd3786\"], [0.5555555555555556, \"#d8576b\"], [0.6666666666666666, \"#ed7953\"], [0.7777777777777778, \"#fb9f3a\"], [0.8888888888888888, \"#fdca26\"], [1.0, \"#f0f921\"]], \"type\": \"histogram2dcontour\"}], \"mesh3d\": [{\"colorbar\": {\"outlinewidth\": 0, \"ticks\": \"\"}, \"type\": \"mesh3d\"}], \"parcoords\": [{\"line\": {\"colorbar\": {\"outlinewidth\": 0, \"ticks\": \"\"}}, \"type\": \"parcoords\"}], \"pie\": [{\"automargin\": true, \"type\": \"pie\"}], \"scatter\": [{\"marker\": {\"colorbar\": {\"outlinewidth\": 0, \"ticks\": \"\"}}, \"type\": \"scatter\"}], \"scatter3d\": [{\"line\": {\"colorbar\": {\"outlinewidth\": 0, \"ticks\": \"\"}}, \"marker\": {\"colorbar\": {\"outlinewidth\": 0, \"ticks\": \"\"}}, \"type\": \"scatter3d\"}], \"scattercarpet\": [{\"marker\": {\"colorbar\": {\"outlinewidth\": 0, \"ticks\": \"\"}}, \"type\": \"scattercarpet\"}], \"scattergeo\": [{\"marker\": {\"colorbar\": {\"outlinewidth\": 0, \"ticks\": \"\"}}, \"type\": \"scattergeo\"}], \"scattergl\": [{\"marker\": {\"colorbar\": {\"outlinewidth\": 0, \"ticks\": \"\"}}, \"type\": \"scattergl\"}], \"scattermapbox\": [{\"marker\": {\"colorbar\": {\"outlinewidth\": 0, \"ticks\": \"\"}}, \"type\": \"scattermapbox\"}], \"scatterpolar\": [{\"marker\": {\"colorbar\": {\"outlinewidth\": 0, \"ticks\": \"\"}}, \"type\": \"scatterpolar\"}], \"scatterpolargl\": [{\"marker\": {\"colorbar\": {\"outlinewidth\": 0, \"ticks\": \"\"}}, \"type\": \"scatterpolargl\"}], \"scatterternary\": [{\"marker\": {\"colorbar\": {\"outlinewidth\": 0, \"ticks\": \"\"}}, \"type\": \"scatterternary\"}], \"surface\": [{\"colorbar\": {\"outlinewidth\": 0, \"ticks\": \"\"}, \"colorscale\": [[0.0, \"#0d0887\"], [0.1111111111111111, \"#46039f\"], [0.2222222222222222, \"#7201a8\"], [0.3333333333333333, \"#9c179e\"], [0.4444444444444444, \"#bd3786\"], [0.5555555555555556, \"#d8576b\"], [0.6666666666666666, \"#ed7953\"], [0.7777777777777778, \"#fb9f3a\"], [0.8888888888888888, \"#fdca26\"], [1.0, \"#f0f921\"]], \"type\": \"surface\"}], \"table\": [{\"cells\": {\"fill\": {\"color\": \"#EBF0F8\"}, \"line\": {\"color\": \"white\"}}, \"header\": {\"fill\": {\"color\": \"#C8D4E3\"}, \"line\": {\"color\": \"white\"}}, \"type\": \"table\"}]}, \"layout\": {\"annotationdefaults\": {\"arrowcolor\": \"#2a3f5f\", \"arrowhead\": 0, \"arrowwidth\": 1}, \"coloraxis\": {\"colorbar\": {\"outlinewidth\": 0, \"ticks\": \"\"}}, \"colorscale\": {\"diverging\": [[0, \"#8e0152\"], [0.1, \"#c51b7d\"], [0.2, \"#de77ae\"], [0.3, \"#f1b6da\"], [0.4, \"#fde0ef\"], [0.5, \"#f7f7f7\"], [0.6, \"#e6f5d0\"], [0.7, \"#b8e186\"], [0.8, \"#7fbc41\"], [0.9, \"#4d9221\"], [1, \"#276419\"]], \"sequential\": [[0.0, \"#0d0887\"], [0.1111111111111111, \"#46039f\"], [0.2222222222222222, \"#7201a8\"], [0.3333333333333333, \"#9c179e\"], [0.4444444444444444, \"#bd3786\"], [0.5555555555555556, \"#d8576b\"], [0.6666666666666666, \"#ed7953\"], [0.7777777777777778, \"#fb9f3a\"], [0.8888888888888888, \"#fdca26\"], [1.0, \"#f0f921\"]], \"sequentialminus\": [[0.0, \"#0d0887\"], [0.1111111111111111, \"#46039f\"], [0.2222222222222222, \"#7201a8\"], [0.3333333333333333, \"#9c179e\"], [0.4444444444444444, \"#bd3786\"], [0.5555555555555556, \"#d8576b\"], [0.6666666666666666, \"#ed7953\"], [0.7777777777777778, \"#fb9f3a\"], [0.8888888888888888, \"#fdca26\"], [1.0, \"#f0f921\"]]}, \"colorway\": [\"#636efa\", \"#EF553B\", \"#00cc96\", \"#ab63fa\", \"#FFA15A\", \"#19d3f3\", \"#FF6692\", \"#B6E880\", \"#FF97FF\", \"#FECB52\"], \"font\": {\"color\": \"#2a3f5f\"}, \"geo\": {\"bgcolor\": \"white\", \"lakecolor\": \"white\", \"landcolor\": \"#E5ECF6\", \"showlakes\": true, \"showland\": true, \"subunitcolor\": \"white\"}, \"hoverlabel\": {\"align\": \"left\"}, \"hovermode\": \"closest\", \"mapbox\": {\"style\": \"light\"}, \"paper_bgcolor\": \"white\", \"plot_bgcolor\": \"#E5ECF6\", \"polar\": {\"angularaxis\": {\"gridcolor\": \"white\", \"linecolor\": \"white\", \"ticks\": \"\"}, \"bgcolor\": \"#E5ECF6\", \"radialaxis\": {\"gridcolor\": \"white\", \"linecolor\": \"white\", \"ticks\": \"\"}}, \"scene\": {\"xaxis\": {\"backgroundcolor\": \"#E5ECF6\", \"gridcolor\": \"white\", \"gridwidth\": 2, \"linecolor\": \"white\", \"showbackground\": true, \"ticks\": \"\", \"zerolinecolor\": \"white\"}, \"yaxis\": {\"backgroundcolor\": \"#E5ECF6\", \"gridcolor\": \"white\", \"gridwidth\": 2, \"linecolor\": \"white\", \"showbackground\": true, \"ticks\": \"\", \"zerolinecolor\": \"white\"}, \"zaxis\": {\"backgroundcolor\": \"#E5ECF6\", \"gridcolor\": \"white\", \"gridwidth\": 2, \"linecolor\": \"white\", \"showbackground\": true, \"ticks\": \"\", \"zerolinecolor\": \"white\"}}, \"shapedefaults\": {\"line\": {\"color\": \"#2a3f5f\"}}, \"ternary\": {\"aaxis\": {\"gridcolor\": \"white\", \"linecolor\": \"white\", \"ticks\": \"\"}, \"baxis\": {\"gridcolor\": \"white\", \"linecolor\": \"white\", \"ticks\": \"\"}, \"bgcolor\": \"#E5ECF6\", \"caxis\": {\"gridcolor\": \"white\", \"linecolor\": \"white\", \"ticks\": \"\"}}, \"title\": {\"x\": 0.05}, \"xaxis\": {\"automargin\": true, \"gridcolor\": \"white\", \"linecolor\": \"white\", \"ticks\": \"\", \"title\": {\"standoff\": 15}, \"zerolinecolor\": \"white\", \"zerolinewidth\": 2}, \"yaxis\": {\"automargin\": true, \"gridcolor\": \"white\", \"linecolor\": \"white\", \"ticks\": \"\", \"title\": {\"standoff\": 15}, \"zerolinecolor\": \"white\", \"zerolinewidth\": 2}}}, \"title\": {\"text\": \"Average High and Low Temperatures in New York\"}, \"xaxis\": {\"anchor\": \"y\", \"domain\": [0.0, 1.0], \"showticklabels\": false}, \"xaxis2\": {\"anchor\": \"y2\", \"domain\": [0.0, 0.45], \"showticklabels\": false}, \"xaxis3\": {\"anchor\": \"y3\", \"domain\": [0.55, 1.0], \"showticklabels\": false}, \"yaxis\": {\"anchor\": \"x\", \"domain\": [0.625, 1.0], \"showticklabels\": false}, \"yaxis2\": {\"anchor\": \"x2\", \"domain\": [0.0, 0.375], \"showticklabels\": false}, \"yaxis3\": {\"anchor\": \"x3\", \"domain\": [0.0, 0.375], \"showticklabels\": false}},\n",
       "                        {\"responsive\": true}\n",
       "                    ).then(function(){\n",
       "                            \n",
       "var gd = document.getElementById('aec71642-3d7c-41ef-9ba0-ba9ff02c8eed');\n",
       "var x = new MutationObserver(function (mutations, observer) {{\n",
       "        var display = window.getComputedStyle(gd).display;\n",
       "        if (!display || display === 'none') {{\n",
       "            console.log([gd, 'removed!']);\n",
       "            Plotly.purge(gd);\n",
       "            observer.disconnect();\n",
       "        }}\n",
       "}});\n",
       "\n",
       "// Listen for the removal of the full notebook cells\n",
       "var notebookContainer = gd.closest('#notebook-container');\n",
       "if (notebookContainer) {{\n",
       "    x.observe(notebookContainer, {childList: true});\n",
       "}}\n",
       "\n",
       "// Listen for the clearing of the current output cell\n",
       "var outputEl = gd.closest('.output');\n",
       "if (outputEl) {{\n",
       "    x.observe(outputEl, {childList: true});\n",
       "}}\n",
       "\n",
       "                        })\n",
       "                };\n",
       "                });\n",
       "            </script>\n",
       "        </div>"
      ]
     },
     "metadata": {},
     "output_type": "display_data"
    }
   ],
   "source": [
    "# Initialize figure with subplots\n",
    "fig = make_subplots(\n",
    "    rows=2, cols=2,\n",
    "    specs=[[{\"colspan\": 2}, None],\n",
    "        [{}, {}]\n",
    "           ],\n",
    "    subplot_titles=(\"Evolution de la population active occupée\",\"Population active occupée Masculine\", \"Population active occupée Féminine\"))\n",
    "\n",
    "# fig = go.Figure()\n",
    "fig.add_trace(go.Scatter(x=df_Population_A_1[' '], y=df_Population_A_1['Evolution de la population active occupée'], name='Total',\n",
    "                          line = dict(color='royalblue')),row=1, col=1)\n",
    "fig.add_trace(go.Scatter(x=df_Population_A_1[' '], y=df_Population_A_1['Population active occupée Masculine'], name='Homme',\n",
    "                         line = dict(color='green')),row=2, col=1)\n",
    "fig.add_trace(go.Scatter(x=df_Population_A_1[' '], y=df_Population_A_1['Population active occupée Féminine'], name='Femme',\n",
    "                         line = dict(color='firebrick')),row=2, col=2)\n",
    "# Edit the layout\n",
    "fig.update_layout(title='Average High and Low Temperatures in New York')\n",
    "fig.update_xaxes(showticklabels=False)\n",
    "fig.update_yaxes(showticklabels=False)\n",
    "fig.show()\n"
   ]
  },
  {
   "cell_type": "code",
   "execution_count": 30,
   "metadata": {},
   "outputs": [
    {
     "data": {
      "text/html": [
       "<div>\n",
       "<style scoped>\n",
       "    .dataframe tbody tr th:only-of-type {\n",
       "        vertical-align: middle;\n",
       "    }\n",
       "\n",
       "    .dataframe tbody tr th {\n",
       "        vertical-align: top;\n",
       "    }\n",
       "\n",
       "    .dataframe thead th {\n",
       "        text-align: right;\n",
       "    }\n",
       "</style>\n",
       "<table border=\"1\" class=\"dataframe\">\n",
       "  <thead>\n",
       "    <tr style=\"text-align: right;\">\n",
       "      <th></th>\n",
       "      <th></th>\n",
       "      <th>Evolution de la population active</th>\n",
       "      <th>Evolution de la population active Masculine</th>\n",
       "      <th>Evolution de la population active Féminine</th>\n",
       "    </tr>\n",
       "  </thead>\n",
       "  <tbody>\n",
       "    <tr>\n",
       "      <th>0</th>\n",
       "      <td>II trimestre 2011</td>\n",
       "      <td>3844.6</td>\n",
       "      <td>2817.9</td>\n",
       "      <td>1026.7</td>\n",
       "    </tr>\n",
       "    <tr>\n",
       "      <th>1</th>\n",
       "      <td>IV trimestre 2011</td>\n",
       "      <td>3909.1</td>\n",
       "      <td>2842.1</td>\n",
       "      <td>1067.0</td>\n",
       "    </tr>\n",
       "    <tr>\n",
       "      <th>2</th>\n",
       "      <td>I trimestre 2012</td>\n",
       "      <td>3916.9</td>\n",
       "      <td>2849.7</td>\n",
       "      <td>1067.2</td>\n",
       "    </tr>\n",
       "    <tr>\n",
       "      <th>3</th>\n",
       "      <td>II trimestre 2012</td>\n",
       "      <td>3923.2</td>\n",
       "      <td>2852.3</td>\n",
       "      <td>1070.9</td>\n",
       "    </tr>\n",
       "    <tr>\n",
       "      <th>4</th>\n",
       "      <td>III trimestre 2012</td>\n",
       "      <td>3907.9</td>\n",
       "      <td>2844.4</td>\n",
       "      <td>1063.5</td>\n",
       "    </tr>\n",
       "  </tbody>\n",
       "</table>\n",
       "</div>"
      ],
      "text/plain": [
       "                       Evolution de la population active  \\\n",
       "0   II trimestre 2011                             3844.6   \n",
       "1   IV trimestre 2011                             3909.1   \n",
       "2    I trimestre 2012                             3916.9   \n",
       "3   II trimestre 2012                             3923.2   \n",
       "4  III trimestre 2012                             3907.9   \n",
       "\n",
       "   Evolution de la population active Masculine  \\\n",
       "0                                       2817.9   \n",
       "1                                       2842.1   \n",
       "2                                       2849.7   \n",
       "3                                       2852.3   \n",
       "4                                       2844.4   \n",
       "\n",
       "   Evolution de la population active Féminine  \n",
       "0                                      1026.7  \n",
       "1                                      1067.0  \n",
       "2                                      1067.2  \n",
       "3                                      1070.9  \n",
       "4                                      1063.5  "
      ]
     },
     "execution_count": 30,
     "metadata": {},
     "output_type": "execute_result"
    }
   ],
   "source": [
    "df_Population_A_2=pd.read_csv(\"~/data_viz/Project_Employement/data/tidy_data/Population active/Evolution de la population active selon le sexe.csv\",\n",
    "                                header=1)\n",
    "df_Population_A_2.head()"
   ]
  },
  {
   "cell_type": "code",
   "execution_count": 68,
   "metadata": {},
   "outputs": [],
   "source": [
    "df_Population_A_2.iloc[:,[1,2,3]] = scaler.fit_transform(df_Population_A_2.iloc[:,[1,2,3]])"
   ]
  },
  {
   "cell_type": "code",
   "execution_count": 69,
   "metadata": {},
   "outputs": [
    {
     "data": {
      "application/vnd.plotly.v1+json": {
       "config": {
        "plotlyServerURL": "https://plot.ly"
       },
       "data": [
        {
         "line": {
          "color": "royalblue"
         },
         "name": "Total",
         "type": "scatter",
         "x": [
          "II trimestre 2011",
          "IV trimestre 2011",
          "I trimestre 2012",
          "II trimestre 2012",
          "III trimestre 2012",
          "IV trimestre 2012",
          "I trimestre 2013",
          "II trimestre 2013",
          "III trimestre 2013",
          "IV trimestre 2013",
          "I trimestre 2014",
          "II trimestre 2014",
          "III trimestre 2014",
          "IV trimestre 2014",
          "I trimestre 2015",
          "II trimestre 2015",
          "III trimestre 2015",
          "IV trimestre 2015",
          "I trimestre 2016",
          "II trimestre 2016",
          "III trimestre 2016",
          "IV trimestre 2016",
          "I trimestre 2017",
          "II trimestre 2017",
          "III trimestre 2017",
          "IV trimestre 2017",
          "I trimestre 2018",
          "II trimestre 2018",
          "III trimestre 2018",
          "IV trimestre 2018",
          "I trimestre 2019",
          "II trimestre 2019",
          "III trimestre 2019",
          "IV trimestre 2019"
         ],
         "y": [
          0,
          0.1865779577668505,
          0.2091408735898188,
          0.22736476713913767,
          0.1831067399479327,
          0.18802429852473246,
          0.23922476135377657,
          0.2866647382123233,
          0.33902227364767157,
          0.387619323112526,
          0.444605148973098,
          0.06334972519525728,
          0.4553080705814292,
          0.49059878507376276,
          0.44952270754989954,
          0.42464564651431935,
          0.4616719699161127,
          0.5096904830778133,
          0.5577089962395139,
          0.5857680069424358,
          0.6112236042811681,
          0.6496962684408434,
          0.6725484524153895,
          0.6930864911773202,
          0.7411050043390226,
          0.7937518079259469,
          0.8142898466878812,
          0.8420595892392235,
          0.8704078680937233,
          0.890656638704078,
          0.9068556551923646,
          0.9204512583164597,
          0.9467746601099201,
          1
         ]
        },
        {
         "line": {
          "color": "green"
         },
         "name": "Homme",
         "type": "scatter",
         "x": [
          "II trimestre 2011",
          "IV trimestre 2011",
          "I trimestre 2012",
          "II trimestre 2012",
          "III trimestre 2012",
          "IV trimestre 2012",
          "I trimestre 2013",
          "II trimestre 2013",
          "III trimestre 2013",
          "IV trimestre 2013",
          "I trimestre 2014",
          "II trimestre 2014",
          "III trimestre 2014",
          "IV trimestre 2014",
          "I trimestre 2015",
          "II trimestre 2015",
          "III trimestre 2015",
          "IV trimestre 2015",
          "I trimestre 2016",
          "II trimestre 2016",
          "III trimestre 2016",
          "IV trimestre 2016",
          "I trimestre 2017",
          "II trimestre 2017",
          "III trimestre 2017",
          "IV trimestre 2017",
          "I trimestre 2018",
          "II trimestre 2018",
          "III trimestre 2018",
          "IV trimestre 2018",
          "I trimestre 2019",
          "II trimestre 2019",
          "III trimestre 2019",
          "IV trimestre 2019"
         ],
         "y": [
          0.5115842204132761,
          0.5873512836568562,
          0.6111458985597995,
          0.6192861615529122,
          0.5945522855353804,
          0.6039448966812788,
          0.6571696931747031,
          0.6496556042579851,
          0.6772072636192874,
          0.6834690043832197,
          0.7056981840951799,
          0,
          0.7119599248591122,
          0.7216656230432061,
          0.7063243581715728,
          0.673763306199124,
          0.6856606136505956,
          0.7154038822792739,
          0.7229179711959937,
          0.7213525360050106,
          0.7357545397620537,
          0.7673763306199124,
          0.7858484658735136,
          0.8018159048215399,
          0.829367564182844,
          0.8750782717595502,
          0.8913587977457738,
          0.9107701941139652,
          0.9226675015654351,
          0.9342517219787112,
          0.9464621164683784,
          0.9561678146524741,
          0.9743268628678763,
          1
         ]
        },
        {
         "line": {
          "color": "firebrick"
         },
         "name": "Femme",
         "type": "scatter",
         "x": [
          "II trimestre 2011",
          "IV trimestre 2011",
          "I trimestre 2012",
          "II trimestre 2012",
          "III trimestre 2012",
          "IV trimestre 2012",
          "I trimestre 2013",
          "II trimestre 2013",
          "III trimestre 2013",
          "IV trimestre 2013",
          "I trimestre 2014",
          "II trimestre 2014",
          "III trimestre 2014",
          "IV trimestre 2014",
          "I trimestre 2015",
          "II trimestre 2015",
          "III trimestre 2015",
          "IV trimestre 2015",
          "I trimestre 2016",
          "II trimestre 2016",
          "III trimestre 2016",
          "IV trimestre 2016",
          "I trimestre 2017",
          "II trimestre 2017",
          "III trimestre 2017",
          "IV trimestre 2017",
          "I trimestre 2018",
          "II trimestre 2018",
          "III trimestre 2018",
          "IV trimestre 2018",
          "I trimestre 2019",
          "II trimestre 2019",
          "III trimestre 2019",
          "IV trimestre 2019"
         ],
         "y": [
          0,
          0.2124406958355296,
          0.21349499209277845,
          0.23299947285187184,
          0.19399051133368506,
          0.18713758566157068,
          0.1908276225619403,
          0.2899314707432792,
          0.3389562467053242,
          0.4169741697416969,
          0.48339483394834026,
          0.976805482340537,
          0.49235635213494966,
          0.5403268318397467,
          0.4913020558777017,
          0.500790722192936,
          0.548234053769109,
          0.585661570901423,
          0.6605166051660518,
          0.7148128624143384,
          0.7364259356879286,
          0.7532946758039003,
          0.7638376383763834,
          0.7743806009488656,
          0.8154981549815501,
          0.8344754876120186,
          0.8444913020558777,
          0.8624143384290983,
          0.8940432261465467,
          0.9114391143911433,
          0.9204006325777536,
          0.9288350026357408,
          0.9462308908803374,
          1
         ]
        }
       ],
       "layout": {
        "template": {
         "data": {
          "bar": [
           {
            "error_x": {
             "color": "#2a3f5f"
            },
            "error_y": {
             "color": "#2a3f5f"
            },
            "marker": {
             "line": {
              "color": "#E5ECF6",
              "width": 0.5
             }
            },
            "type": "bar"
           }
          ],
          "barpolar": [
           {
            "marker": {
             "line": {
              "color": "#E5ECF6",
              "width": 0.5
             }
            },
            "type": "barpolar"
           }
          ],
          "carpet": [
           {
            "aaxis": {
             "endlinecolor": "#2a3f5f",
             "gridcolor": "white",
             "linecolor": "white",
             "minorgridcolor": "white",
             "startlinecolor": "#2a3f5f"
            },
            "baxis": {
             "endlinecolor": "#2a3f5f",
             "gridcolor": "white",
             "linecolor": "white",
             "minorgridcolor": "white",
             "startlinecolor": "#2a3f5f"
            },
            "type": "carpet"
           }
          ],
          "choropleth": [
           {
            "colorbar": {
             "outlinewidth": 0,
             "ticks": ""
            },
            "type": "choropleth"
           }
          ],
          "contour": [
           {
            "colorbar": {
             "outlinewidth": 0,
             "ticks": ""
            },
            "colorscale": [
             [
              0,
              "#0d0887"
             ],
             [
              0.1111111111111111,
              "#46039f"
             ],
             [
              0.2222222222222222,
              "#7201a8"
             ],
             [
              0.3333333333333333,
              "#9c179e"
             ],
             [
              0.4444444444444444,
              "#bd3786"
             ],
             [
              0.5555555555555556,
              "#d8576b"
             ],
             [
              0.6666666666666666,
              "#ed7953"
             ],
             [
              0.7777777777777778,
              "#fb9f3a"
             ],
             [
              0.8888888888888888,
              "#fdca26"
             ],
             [
              1,
              "#f0f921"
             ]
            ],
            "type": "contour"
           }
          ],
          "contourcarpet": [
           {
            "colorbar": {
             "outlinewidth": 0,
             "ticks": ""
            },
            "type": "contourcarpet"
           }
          ],
          "heatmap": [
           {
            "colorbar": {
             "outlinewidth": 0,
             "ticks": ""
            },
            "colorscale": [
             [
              0,
              "#0d0887"
             ],
             [
              0.1111111111111111,
              "#46039f"
             ],
             [
              0.2222222222222222,
              "#7201a8"
             ],
             [
              0.3333333333333333,
              "#9c179e"
             ],
             [
              0.4444444444444444,
              "#bd3786"
             ],
             [
              0.5555555555555556,
              "#d8576b"
             ],
             [
              0.6666666666666666,
              "#ed7953"
             ],
             [
              0.7777777777777778,
              "#fb9f3a"
             ],
             [
              0.8888888888888888,
              "#fdca26"
             ],
             [
              1,
              "#f0f921"
             ]
            ],
            "type": "heatmap"
           }
          ],
          "heatmapgl": [
           {
            "colorbar": {
             "outlinewidth": 0,
             "ticks": ""
            },
            "colorscale": [
             [
              0,
              "#0d0887"
             ],
             [
              0.1111111111111111,
              "#46039f"
             ],
             [
              0.2222222222222222,
              "#7201a8"
             ],
             [
              0.3333333333333333,
              "#9c179e"
             ],
             [
              0.4444444444444444,
              "#bd3786"
             ],
             [
              0.5555555555555556,
              "#d8576b"
             ],
             [
              0.6666666666666666,
              "#ed7953"
             ],
             [
              0.7777777777777778,
              "#fb9f3a"
             ],
             [
              0.8888888888888888,
              "#fdca26"
             ],
             [
              1,
              "#f0f921"
             ]
            ],
            "type": "heatmapgl"
           }
          ],
          "histogram": [
           {
            "marker": {
             "colorbar": {
              "outlinewidth": 0,
              "ticks": ""
             }
            },
            "type": "histogram"
           }
          ],
          "histogram2d": [
           {
            "colorbar": {
             "outlinewidth": 0,
             "ticks": ""
            },
            "colorscale": [
             [
              0,
              "#0d0887"
             ],
             [
              0.1111111111111111,
              "#46039f"
             ],
             [
              0.2222222222222222,
              "#7201a8"
             ],
             [
              0.3333333333333333,
              "#9c179e"
             ],
             [
              0.4444444444444444,
              "#bd3786"
             ],
             [
              0.5555555555555556,
              "#d8576b"
             ],
             [
              0.6666666666666666,
              "#ed7953"
             ],
             [
              0.7777777777777778,
              "#fb9f3a"
             ],
             [
              0.8888888888888888,
              "#fdca26"
             ],
             [
              1,
              "#f0f921"
             ]
            ],
            "type": "histogram2d"
           }
          ],
          "histogram2dcontour": [
           {
            "colorbar": {
             "outlinewidth": 0,
             "ticks": ""
            },
            "colorscale": [
             [
              0,
              "#0d0887"
             ],
             [
              0.1111111111111111,
              "#46039f"
             ],
             [
              0.2222222222222222,
              "#7201a8"
             ],
             [
              0.3333333333333333,
              "#9c179e"
             ],
             [
              0.4444444444444444,
              "#bd3786"
             ],
             [
              0.5555555555555556,
              "#d8576b"
             ],
             [
              0.6666666666666666,
              "#ed7953"
             ],
             [
              0.7777777777777778,
              "#fb9f3a"
             ],
             [
              0.8888888888888888,
              "#fdca26"
             ],
             [
              1,
              "#f0f921"
             ]
            ],
            "type": "histogram2dcontour"
           }
          ],
          "mesh3d": [
           {
            "colorbar": {
             "outlinewidth": 0,
             "ticks": ""
            },
            "type": "mesh3d"
           }
          ],
          "parcoords": [
           {
            "line": {
             "colorbar": {
              "outlinewidth": 0,
              "ticks": ""
             }
            },
            "type": "parcoords"
           }
          ],
          "pie": [
           {
            "automargin": true,
            "type": "pie"
           }
          ],
          "scatter": [
           {
            "marker": {
             "colorbar": {
              "outlinewidth": 0,
              "ticks": ""
             }
            },
            "type": "scatter"
           }
          ],
          "scatter3d": [
           {
            "line": {
             "colorbar": {
              "outlinewidth": 0,
              "ticks": ""
             }
            },
            "marker": {
             "colorbar": {
              "outlinewidth": 0,
              "ticks": ""
             }
            },
            "type": "scatter3d"
           }
          ],
          "scattercarpet": [
           {
            "marker": {
             "colorbar": {
              "outlinewidth": 0,
              "ticks": ""
             }
            },
            "type": "scattercarpet"
           }
          ],
          "scattergeo": [
           {
            "marker": {
             "colorbar": {
              "outlinewidth": 0,
              "ticks": ""
             }
            },
            "type": "scattergeo"
           }
          ],
          "scattergl": [
           {
            "marker": {
             "colorbar": {
              "outlinewidth": 0,
              "ticks": ""
             }
            },
            "type": "scattergl"
           }
          ],
          "scattermapbox": [
           {
            "marker": {
             "colorbar": {
              "outlinewidth": 0,
              "ticks": ""
             }
            },
            "type": "scattermapbox"
           }
          ],
          "scatterpolar": [
           {
            "marker": {
             "colorbar": {
              "outlinewidth": 0,
              "ticks": ""
             }
            },
            "type": "scatterpolar"
           }
          ],
          "scatterpolargl": [
           {
            "marker": {
             "colorbar": {
              "outlinewidth": 0,
              "ticks": ""
             }
            },
            "type": "scatterpolargl"
           }
          ],
          "scatterternary": [
           {
            "marker": {
             "colorbar": {
              "outlinewidth": 0,
              "ticks": ""
             }
            },
            "type": "scatterternary"
           }
          ],
          "surface": [
           {
            "colorbar": {
             "outlinewidth": 0,
             "ticks": ""
            },
            "colorscale": [
             [
              0,
              "#0d0887"
             ],
             [
              0.1111111111111111,
              "#46039f"
             ],
             [
              0.2222222222222222,
              "#7201a8"
             ],
             [
              0.3333333333333333,
              "#9c179e"
             ],
             [
              0.4444444444444444,
              "#bd3786"
             ],
             [
              0.5555555555555556,
              "#d8576b"
             ],
             [
              0.6666666666666666,
              "#ed7953"
             ],
             [
              0.7777777777777778,
              "#fb9f3a"
             ],
             [
              0.8888888888888888,
              "#fdca26"
             ],
             [
              1,
              "#f0f921"
             ]
            ],
            "type": "surface"
           }
          ],
          "table": [
           {
            "cells": {
             "fill": {
              "color": "#EBF0F8"
             },
             "line": {
              "color": "white"
             }
            },
            "header": {
             "fill": {
              "color": "#C8D4E3"
             },
             "line": {
              "color": "white"
             }
            },
            "type": "table"
           }
          ]
         },
         "layout": {
          "annotationdefaults": {
           "arrowcolor": "#2a3f5f",
           "arrowhead": 0,
           "arrowwidth": 1
          },
          "coloraxis": {
           "colorbar": {
            "outlinewidth": 0,
            "ticks": ""
           }
          },
          "colorscale": {
           "diverging": [
            [
             0,
             "#8e0152"
            ],
            [
             0.1,
             "#c51b7d"
            ],
            [
             0.2,
             "#de77ae"
            ],
            [
             0.3,
             "#f1b6da"
            ],
            [
             0.4,
             "#fde0ef"
            ],
            [
             0.5,
             "#f7f7f7"
            ],
            [
             0.6,
             "#e6f5d0"
            ],
            [
             0.7,
             "#b8e186"
            ],
            [
             0.8,
             "#7fbc41"
            ],
            [
             0.9,
             "#4d9221"
            ],
            [
             1,
             "#276419"
            ]
           ],
           "sequential": [
            [
             0,
             "#0d0887"
            ],
            [
             0.1111111111111111,
             "#46039f"
            ],
            [
             0.2222222222222222,
             "#7201a8"
            ],
            [
             0.3333333333333333,
             "#9c179e"
            ],
            [
             0.4444444444444444,
             "#bd3786"
            ],
            [
             0.5555555555555556,
             "#d8576b"
            ],
            [
             0.6666666666666666,
             "#ed7953"
            ],
            [
             0.7777777777777778,
             "#fb9f3a"
            ],
            [
             0.8888888888888888,
             "#fdca26"
            ],
            [
             1,
             "#f0f921"
            ]
           ],
           "sequentialminus": [
            [
             0,
             "#0d0887"
            ],
            [
             0.1111111111111111,
             "#46039f"
            ],
            [
             0.2222222222222222,
             "#7201a8"
            ],
            [
             0.3333333333333333,
             "#9c179e"
            ],
            [
             0.4444444444444444,
             "#bd3786"
            ],
            [
             0.5555555555555556,
             "#d8576b"
            ],
            [
             0.6666666666666666,
             "#ed7953"
            ],
            [
             0.7777777777777778,
             "#fb9f3a"
            ],
            [
             0.8888888888888888,
             "#fdca26"
            ],
            [
             1,
             "#f0f921"
            ]
           ]
          },
          "colorway": [
           "#636efa",
           "#EF553B",
           "#00cc96",
           "#ab63fa",
           "#FFA15A",
           "#19d3f3",
           "#FF6692",
           "#B6E880",
           "#FF97FF",
           "#FECB52"
          ],
          "font": {
           "color": "#2a3f5f"
          },
          "geo": {
           "bgcolor": "white",
           "lakecolor": "white",
           "landcolor": "#E5ECF6",
           "showlakes": true,
           "showland": true,
           "subunitcolor": "white"
          },
          "hoverlabel": {
           "align": "left"
          },
          "hovermode": "closest",
          "mapbox": {
           "style": "light"
          },
          "paper_bgcolor": "white",
          "plot_bgcolor": "#E5ECF6",
          "polar": {
           "angularaxis": {
            "gridcolor": "white",
            "linecolor": "white",
            "ticks": ""
           },
           "bgcolor": "#E5ECF6",
           "radialaxis": {
            "gridcolor": "white",
            "linecolor": "white",
            "ticks": ""
           }
          },
          "scene": {
           "xaxis": {
            "backgroundcolor": "#E5ECF6",
            "gridcolor": "white",
            "gridwidth": 2,
            "linecolor": "white",
            "showbackground": true,
            "ticks": "",
            "zerolinecolor": "white"
           },
           "yaxis": {
            "backgroundcolor": "#E5ECF6",
            "gridcolor": "white",
            "gridwidth": 2,
            "linecolor": "white",
            "showbackground": true,
            "ticks": "",
            "zerolinecolor": "white"
           },
           "zaxis": {
            "backgroundcolor": "#E5ECF6",
            "gridcolor": "white",
            "gridwidth": 2,
            "linecolor": "white",
            "showbackground": true,
            "ticks": "",
            "zerolinecolor": "white"
           }
          },
          "shapedefaults": {
           "line": {
            "color": "#2a3f5f"
           }
          },
          "ternary": {
           "aaxis": {
            "gridcolor": "white",
            "linecolor": "white",
            "ticks": ""
           },
           "baxis": {
            "gridcolor": "white",
            "linecolor": "white",
            "ticks": ""
           },
           "bgcolor": "#E5ECF6",
           "caxis": {
            "gridcolor": "white",
            "linecolor": "white",
            "ticks": ""
           }
          },
          "title": {
           "x": 0.05
          },
          "xaxis": {
           "automargin": true,
           "gridcolor": "white",
           "linecolor": "white",
           "ticks": "",
           "title": {
            "standoff": 15
           },
           "zerolinecolor": "white",
           "zerolinewidth": 2
          },
          "yaxis": {
           "automargin": true,
           "gridcolor": "white",
           "linecolor": "white",
           "ticks": "",
           "title": {
            "standoff": 15
           },
           "zerolinecolor": "white",
           "zerolinewidth": 2
          }
         }
        },
        "title": {
         "text": "Evolution de la population active selon le sexe"
        }
       }
      },
      "text/html": [
       "<div>\n",
       "        \n",
       "        \n",
       "            <div id=\"facb0b46-bf42-44e7-b97f-ac302f5dc865\" class=\"plotly-graph-div\" style=\"height:525px; width:100%;\"></div>\n",
       "            <script type=\"text/javascript\">\n",
       "                require([\"plotly\"], function(Plotly) {\n",
       "                    window.PLOTLYENV=window.PLOTLYENV || {};\n",
       "                    \n",
       "                if (document.getElementById(\"facb0b46-bf42-44e7-b97f-ac302f5dc865\")) {\n",
       "                    Plotly.newPlot(\n",
       "                        'facb0b46-bf42-44e7-b97f-ac302f5dc865',\n",
       "                        [{\"line\": {\"color\": \"royalblue\"}, \"name\": \"Total\", \"type\": \"scatter\", \"x\": [\"II trimestre 2011\", \"IV trimestre 2011\", \"I trimestre 2012\", \"II trimestre 2012\", \"III trimestre 2012\", \"IV trimestre 2012\", \"I trimestre 2013\", \"II trimestre 2013\", \"III trimestre 2013\", \"IV trimestre 2013\", \"I trimestre 2014\", \"II trimestre 2014\", \"III trimestre 2014\", \"IV trimestre 2014\", \"I trimestre 2015\", \"II trimestre 2015\", \"III trimestre 2015\", \"IV trimestre 2015\", \"I trimestre 2016\", \"II trimestre 2016\", \"III trimestre 2016\", \"IV trimestre 2016\", \"I trimestre 2017\", \"II trimestre 2017\", \"III trimestre 2017\", \"IV trimestre 2017\", \"I trimestre 2018\", \"II trimestre 2018\", \"III trimestre 2018\", \"IV trimestre 2018\", \"I trimestre 2019\", \"II trimestre 2019\", \"III trimestre 2019\", \"IV trimestre 2019\"], \"y\": [0.0, 0.1865779577668505, 0.2091408735898188, 0.22736476713913767, 0.1831067399479327, 0.18802429852473246, 0.23922476135377657, 0.2866647382123233, 0.33902227364767157, 0.387619323112526, 0.444605148973098, 0.06334972519525728, 0.4553080705814292, 0.49059878507376276, 0.44952270754989954, 0.42464564651431935, 0.4616719699161127, 0.5096904830778133, 0.5577089962395139, 0.5857680069424358, 0.6112236042811681, 0.6496962684408434, 0.6725484524153895, 0.6930864911773202, 0.7411050043390226, 0.7937518079259469, 0.8142898466878812, 0.8420595892392235, 0.8704078680937233, 0.890656638704078, 0.9068556551923646, 0.9204512583164597, 0.9467746601099201, 1.0]}, {\"line\": {\"color\": \"green\"}, \"name\": \"Homme\", \"type\": \"scatter\", \"x\": [\"II trimestre 2011\", \"IV trimestre 2011\", \"I trimestre 2012\", \"II trimestre 2012\", \"III trimestre 2012\", \"IV trimestre 2012\", \"I trimestre 2013\", \"II trimestre 2013\", \"III trimestre 2013\", \"IV trimestre 2013\", \"I trimestre 2014\", \"II trimestre 2014\", \"III trimestre 2014\", \"IV trimestre 2014\", \"I trimestre 2015\", \"II trimestre 2015\", \"III trimestre 2015\", \"IV trimestre 2015\", \"I trimestre 2016\", \"II trimestre 2016\", \"III trimestre 2016\", \"IV trimestre 2016\", \"I trimestre 2017\", \"II trimestre 2017\", \"III trimestre 2017\", \"IV trimestre 2017\", \"I trimestre 2018\", \"II trimestre 2018\", \"III trimestre 2018\", \"IV trimestre 2018\", \"I trimestre 2019\", \"II trimestre 2019\", \"III trimestre 2019\", \"IV trimestre 2019\"], \"y\": [0.5115842204132761, 0.5873512836568562, 0.6111458985597995, 0.6192861615529122, 0.5945522855353804, 0.6039448966812788, 0.6571696931747031, 0.6496556042579851, 0.6772072636192874, 0.6834690043832197, 0.7056981840951799, 0.0, 0.7119599248591122, 0.7216656230432061, 0.7063243581715728, 0.673763306199124, 0.6856606136505956, 0.7154038822792739, 0.7229179711959937, 0.7213525360050106, 0.7357545397620537, 0.7673763306199124, 0.7858484658735136, 0.8018159048215399, 0.829367564182844, 0.8750782717595502, 0.8913587977457738, 0.9107701941139652, 0.9226675015654351, 0.9342517219787112, 0.9464621164683784, 0.9561678146524741, 0.9743268628678763, 1.0]}, {\"line\": {\"color\": \"firebrick\"}, \"name\": \"Femme\", \"type\": \"scatter\", \"x\": [\"II trimestre 2011\", \"IV trimestre 2011\", \"I trimestre 2012\", \"II trimestre 2012\", \"III trimestre 2012\", \"IV trimestre 2012\", \"I trimestre 2013\", \"II trimestre 2013\", \"III trimestre 2013\", \"IV trimestre 2013\", \"I trimestre 2014\", \"II trimestre 2014\", \"III trimestre 2014\", \"IV trimestre 2014\", \"I trimestre 2015\", \"II trimestre 2015\", \"III trimestre 2015\", \"IV trimestre 2015\", \"I trimestre 2016\", \"II trimestre 2016\", \"III trimestre 2016\", \"IV trimestre 2016\", \"I trimestre 2017\", \"II trimestre 2017\", \"III trimestre 2017\", \"IV trimestre 2017\", \"I trimestre 2018\", \"II trimestre 2018\", \"III trimestre 2018\", \"IV trimestre 2018\", \"I trimestre 2019\", \"II trimestre 2019\", \"III trimestre 2019\", \"IV trimestre 2019\"], \"y\": [0.0, 0.2124406958355296, 0.21349499209277845, 0.23299947285187184, 0.19399051133368506, 0.18713758566157068, 0.1908276225619403, 0.2899314707432792, 0.3389562467053242, 0.4169741697416969, 0.48339483394834026, 0.976805482340537, 0.49235635213494966, 0.5403268318397467, 0.4913020558777017, 0.500790722192936, 0.548234053769109, 0.585661570901423, 0.6605166051660518, 0.7148128624143384, 0.7364259356879286, 0.7532946758039003, 0.7638376383763834, 0.7743806009488656, 0.8154981549815501, 0.8344754876120186, 0.8444913020558777, 0.8624143384290983, 0.8940432261465467, 0.9114391143911433, 0.9204006325777536, 0.9288350026357408, 0.9462308908803374, 1.0]}],\n",
       "                        {\"template\": {\"data\": {\"bar\": [{\"error_x\": {\"color\": \"#2a3f5f\"}, \"error_y\": {\"color\": \"#2a3f5f\"}, \"marker\": {\"line\": {\"color\": \"#E5ECF6\", \"width\": 0.5}}, \"type\": \"bar\"}], \"barpolar\": [{\"marker\": {\"line\": {\"color\": \"#E5ECF6\", \"width\": 0.5}}, \"type\": \"barpolar\"}], \"carpet\": [{\"aaxis\": {\"endlinecolor\": \"#2a3f5f\", \"gridcolor\": \"white\", \"linecolor\": \"white\", \"minorgridcolor\": \"white\", \"startlinecolor\": \"#2a3f5f\"}, \"baxis\": {\"endlinecolor\": \"#2a3f5f\", \"gridcolor\": \"white\", \"linecolor\": \"white\", \"minorgridcolor\": \"white\", \"startlinecolor\": \"#2a3f5f\"}, \"type\": \"carpet\"}], \"choropleth\": [{\"colorbar\": {\"outlinewidth\": 0, \"ticks\": \"\"}, \"type\": \"choropleth\"}], \"contour\": [{\"colorbar\": {\"outlinewidth\": 0, \"ticks\": \"\"}, \"colorscale\": [[0.0, \"#0d0887\"], [0.1111111111111111, \"#46039f\"], [0.2222222222222222, \"#7201a8\"], [0.3333333333333333, \"#9c179e\"], [0.4444444444444444, \"#bd3786\"], [0.5555555555555556, \"#d8576b\"], [0.6666666666666666, \"#ed7953\"], [0.7777777777777778, \"#fb9f3a\"], [0.8888888888888888, \"#fdca26\"], [1.0, \"#f0f921\"]], \"type\": \"contour\"}], \"contourcarpet\": [{\"colorbar\": {\"outlinewidth\": 0, \"ticks\": \"\"}, \"type\": \"contourcarpet\"}], \"heatmap\": [{\"colorbar\": {\"outlinewidth\": 0, \"ticks\": \"\"}, \"colorscale\": [[0.0, \"#0d0887\"], [0.1111111111111111, \"#46039f\"], [0.2222222222222222, \"#7201a8\"], [0.3333333333333333, \"#9c179e\"], [0.4444444444444444, \"#bd3786\"], [0.5555555555555556, \"#d8576b\"], [0.6666666666666666, \"#ed7953\"], [0.7777777777777778, \"#fb9f3a\"], [0.8888888888888888, \"#fdca26\"], [1.0, \"#f0f921\"]], \"type\": \"heatmap\"}], \"heatmapgl\": [{\"colorbar\": {\"outlinewidth\": 0, \"ticks\": \"\"}, \"colorscale\": [[0.0, \"#0d0887\"], [0.1111111111111111, \"#46039f\"], [0.2222222222222222, \"#7201a8\"], [0.3333333333333333, \"#9c179e\"], [0.4444444444444444, \"#bd3786\"], [0.5555555555555556, \"#d8576b\"], [0.6666666666666666, \"#ed7953\"], [0.7777777777777778, \"#fb9f3a\"], [0.8888888888888888, \"#fdca26\"], [1.0, \"#f0f921\"]], \"type\": \"heatmapgl\"}], \"histogram\": [{\"marker\": {\"colorbar\": {\"outlinewidth\": 0, \"ticks\": \"\"}}, \"type\": \"histogram\"}], \"histogram2d\": [{\"colorbar\": {\"outlinewidth\": 0, \"ticks\": \"\"}, \"colorscale\": [[0.0, \"#0d0887\"], [0.1111111111111111, \"#46039f\"], [0.2222222222222222, \"#7201a8\"], [0.3333333333333333, \"#9c179e\"], [0.4444444444444444, \"#bd3786\"], [0.5555555555555556, \"#d8576b\"], [0.6666666666666666, \"#ed7953\"], [0.7777777777777778, \"#fb9f3a\"], [0.8888888888888888, \"#fdca26\"], [1.0, \"#f0f921\"]], \"type\": \"histogram2d\"}], \"histogram2dcontour\": [{\"colorbar\": {\"outlinewidth\": 0, \"ticks\": \"\"}, \"colorscale\": [[0.0, \"#0d0887\"], [0.1111111111111111, \"#46039f\"], [0.2222222222222222, \"#7201a8\"], [0.3333333333333333, \"#9c179e\"], [0.4444444444444444, \"#bd3786\"], [0.5555555555555556, \"#d8576b\"], [0.6666666666666666, \"#ed7953\"], [0.7777777777777778, \"#fb9f3a\"], [0.8888888888888888, \"#fdca26\"], [1.0, \"#f0f921\"]], \"type\": \"histogram2dcontour\"}], \"mesh3d\": [{\"colorbar\": {\"outlinewidth\": 0, \"ticks\": \"\"}, \"type\": \"mesh3d\"}], \"parcoords\": [{\"line\": {\"colorbar\": {\"outlinewidth\": 0, \"ticks\": \"\"}}, \"type\": \"parcoords\"}], \"pie\": [{\"automargin\": true, \"type\": \"pie\"}], \"scatter\": [{\"marker\": {\"colorbar\": {\"outlinewidth\": 0, \"ticks\": \"\"}}, \"type\": \"scatter\"}], \"scatter3d\": [{\"line\": {\"colorbar\": {\"outlinewidth\": 0, \"ticks\": \"\"}}, \"marker\": {\"colorbar\": {\"outlinewidth\": 0, \"ticks\": \"\"}}, \"type\": \"scatter3d\"}], \"scattercarpet\": [{\"marker\": {\"colorbar\": {\"outlinewidth\": 0, \"ticks\": \"\"}}, \"type\": \"scattercarpet\"}], \"scattergeo\": [{\"marker\": {\"colorbar\": {\"outlinewidth\": 0, \"ticks\": \"\"}}, \"type\": \"scattergeo\"}], \"scattergl\": [{\"marker\": {\"colorbar\": {\"outlinewidth\": 0, \"ticks\": \"\"}}, \"type\": \"scattergl\"}], \"scattermapbox\": [{\"marker\": {\"colorbar\": {\"outlinewidth\": 0, \"ticks\": \"\"}}, \"type\": \"scattermapbox\"}], \"scatterpolar\": [{\"marker\": {\"colorbar\": {\"outlinewidth\": 0, \"ticks\": \"\"}}, \"type\": \"scatterpolar\"}], \"scatterpolargl\": [{\"marker\": {\"colorbar\": {\"outlinewidth\": 0, \"ticks\": \"\"}}, \"type\": \"scatterpolargl\"}], \"scatterternary\": [{\"marker\": {\"colorbar\": {\"outlinewidth\": 0, \"ticks\": \"\"}}, \"type\": \"scatterternary\"}], \"surface\": [{\"colorbar\": {\"outlinewidth\": 0, \"ticks\": \"\"}, \"colorscale\": [[0.0, \"#0d0887\"], [0.1111111111111111, \"#46039f\"], [0.2222222222222222, \"#7201a8\"], [0.3333333333333333, \"#9c179e\"], [0.4444444444444444, \"#bd3786\"], [0.5555555555555556, \"#d8576b\"], [0.6666666666666666, \"#ed7953\"], [0.7777777777777778, \"#fb9f3a\"], [0.8888888888888888, \"#fdca26\"], [1.0, \"#f0f921\"]], \"type\": \"surface\"}], \"table\": [{\"cells\": {\"fill\": {\"color\": \"#EBF0F8\"}, \"line\": {\"color\": \"white\"}}, \"header\": {\"fill\": {\"color\": \"#C8D4E3\"}, \"line\": {\"color\": \"white\"}}, \"type\": \"table\"}]}, \"layout\": {\"annotationdefaults\": {\"arrowcolor\": \"#2a3f5f\", \"arrowhead\": 0, \"arrowwidth\": 1}, \"coloraxis\": {\"colorbar\": {\"outlinewidth\": 0, \"ticks\": \"\"}}, \"colorscale\": {\"diverging\": [[0, \"#8e0152\"], [0.1, \"#c51b7d\"], [0.2, \"#de77ae\"], [0.3, \"#f1b6da\"], [0.4, \"#fde0ef\"], [0.5, \"#f7f7f7\"], [0.6, \"#e6f5d0\"], [0.7, \"#b8e186\"], [0.8, \"#7fbc41\"], [0.9, \"#4d9221\"], [1, \"#276419\"]], \"sequential\": [[0.0, \"#0d0887\"], [0.1111111111111111, \"#46039f\"], [0.2222222222222222, \"#7201a8\"], [0.3333333333333333, \"#9c179e\"], [0.4444444444444444, \"#bd3786\"], [0.5555555555555556, \"#d8576b\"], [0.6666666666666666, \"#ed7953\"], [0.7777777777777778, \"#fb9f3a\"], [0.8888888888888888, \"#fdca26\"], [1.0, \"#f0f921\"]], \"sequentialminus\": [[0.0, \"#0d0887\"], [0.1111111111111111, \"#46039f\"], [0.2222222222222222, \"#7201a8\"], [0.3333333333333333, \"#9c179e\"], [0.4444444444444444, \"#bd3786\"], [0.5555555555555556, \"#d8576b\"], [0.6666666666666666, \"#ed7953\"], [0.7777777777777778, \"#fb9f3a\"], [0.8888888888888888, \"#fdca26\"], [1.0, \"#f0f921\"]]}, \"colorway\": [\"#636efa\", \"#EF553B\", \"#00cc96\", \"#ab63fa\", \"#FFA15A\", \"#19d3f3\", \"#FF6692\", \"#B6E880\", \"#FF97FF\", \"#FECB52\"], \"font\": {\"color\": \"#2a3f5f\"}, \"geo\": {\"bgcolor\": \"white\", \"lakecolor\": \"white\", \"landcolor\": \"#E5ECF6\", \"showlakes\": true, \"showland\": true, \"subunitcolor\": \"white\"}, \"hoverlabel\": {\"align\": \"left\"}, \"hovermode\": \"closest\", \"mapbox\": {\"style\": \"light\"}, \"paper_bgcolor\": \"white\", \"plot_bgcolor\": \"#E5ECF6\", \"polar\": {\"angularaxis\": {\"gridcolor\": \"white\", \"linecolor\": \"white\", \"ticks\": \"\"}, \"bgcolor\": \"#E5ECF6\", \"radialaxis\": {\"gridcolor\": \"white\", \"linecolor\": \"white\", \"ticks\": \"\"}}, \"scene\": {\"xaxis\": {\"backgroundcolor\": \"#E5ECF6\", \"gridcolor\": \"white\", \"gridwidth\": 2, \"linecolor\": \"white\", \"showbackground\": true, \"ticks\": \"\", \"zerolinecolor\": \"white\"}, \"yaxis\": {\"backgroundcolor\": \"#E5ECF6\", \"gridcolor\": \"white\", \"gridwidth\": 2, \"linecolor\": \"white\", \"showbackground\": true, \"ticks\": \"\", \"zerolinecolor\": \"white\"}, \"zaxis\": {\"backgroundcolor\": \"#E5ECF6\", \"gridcolor\": \"white\", \"gridwidth\": 2, \"linecolor\": \"white\", \"showbackground\": true, \"ticks\": \"\", \"zerolinecolor\": \"white\"}}, \"shapedefaults\": {\"line\": {\"color\": \"#2a3f5f\"}}, \"ternary\": {\"aaxis\": {\"gridcolor\": \"white\", \"linecolor\": \"white\", \"ticks\": \"\"}, \"baxis\": {\"gridcolor\": \"white\", \"linecolor\": \"white\", \"ticks\": \"\"}, \"bgcolor\": \"#E5ECF6\", \"caxis\": {\"gridcolor\": \"white\", \"linecolor\": \"white\", \"ticks\": \"\"}}, \"title\": {\"x\": 0.05}, \"xaxis\": {\"automargin\": true, \"gridcolor\": \"white\", \"linecolor\": \"white\", \"ticks\": \"\", \"title\": {\"standoff\": 15}, \"zerolinecolor\": \"white\", \"zerolinewidth\": 2}, \"yaxis\": {\"automargin\": true, \"gridcolor\": \"white\", \"linecolor\": \"white\", \"ticks\": \"\", \"title\": {\"standoff\": 15}, \"zerolinecolor\": \"white\", \"zerolinewidth\": 2}}}, \"title\": {\"text\": \"Evolution de la population active selon le sexe\"}},\n",
       "                        {\"responsive\": true}\n",
       "                    ).then(function(){\n",
       "                            \n",
       "var gd = document.getElementById('facb0b46-bf42-44e7-b97f-ac302f5dc865');\n",
       "var x = new MutationObserver(function (mutations, observer) {{\n",
       "        var display = window.getComputedStyle(gd).display;\n",
       "        if (!display || display === 'none') {{\n",
       "            console.log([gd, 'removed!']);\n",
       "            Plotly.purge(gd);\n",
       "            observer.disconnect();\n",
       "        }}\n",
       "}});\n",
       "\n",
       "// Listen for the removal of the full notebook cells\n",
       "var notebookContainer = gd.closest('#notebook-container');\n",
       "if (notebookContainer) {{\n",
       "    x.observe(notebookContainer, {childList: true});\n",
       "}}\n",
       "\n",
       "// Listen for the clearing of the current output cell\n",
       "var outputEl = gd.closest('.output');\n",
       "if (outputEl) {{\n",
       "    x.observe(outputEl, {childList: true});\n",
       "}}\n",
       "\n",
       "                        })\n",
       "                };\n",
       "                });\n",
       "            </script>\n",
       "        </div>"
      ]
     },
     "metadata": {},
     "output_type": "display_data"
    }
   ],
   "source": [
    "fig1 = go.Figure()\n",
    "fig1.add_trace(go.Scatter(x=df_Population_A_2[' '], y=df_Population_A_2['Evolution de la population active'], name='Total',\n",
    "                         line = dict(color='royalblue')))\n",
    "fig1.add_trace(go.Scatter(x=df_Population_A_2[' '], y=df_Population_A_2['Evolution de la population active Masculine'], name='Homme',\n",
    "                         line = dict(color='green')))\n",
    "fig1.add_trace(go.Scatter(x=df_Population_A_2[' '], y=df_Population_A_2['Evolution de la population active Féminine'], name='Femme',\n",
    "                         line = dict(color='firebrick')))\n",
    "# Edit the layout\n",
    "fig1.update_layout(title='Evolution de la population active selon le sexe')\n",
    "fig1.show()"
   ]
  },
  {
   "cell_type": "code",
   "execution_count": 32,
   "metadata": {},
   "outputs": [
    {
     "data": {
      "text/html": [
       "<div>\n",
       "<style scoped>\n",
       "    .dataframe tbody tr th:only-of-type {\n",
       "        vertical-align: middle;\n",
       "    }\n",
       "\n",
       "    .dataframe tbody tr th {\n",
       "        vertical-align: top;\n",
       "    }\n",
       "\n",
       "    .dataframe thead th {\n",
       "        text-align: right;\n",
       "    }\n",
       "</style>\n",
       "<table border=\"1\" class=\"dataframe\">\n",
       "  <thead>\n",
       "    <tr style=\"text-align: right;\">\n",
       "      <th></th>\n",
       "      <th></th>\n",
       "      <th>Evolution de la population en âge d'activité (15 ans et plus)</th>\n",
       "      <th>Evolution de la population Masculine (15 ans et plus)</th>\n",
       "      <th>Evolution de la population Féminine (15 ans et plus)</th>\n",
       "    </tr>\n",
       "  </thead>\n",
       "  <tbody>\n",
       "    <tr>\n",
       "      <th>0</th>\n",
       "      <td>II trimestre 2011</td>\n",
       "      <td>8146.6</td>\n",
       "      <td>4019.1</td>\n",
       "      <td>4127.5</td>\n",
       "    </tr>\n",
       "    <tr>\n",
       "      <th>1</th>\n",
       "      <td>IV trimestre 2011</td>\n",
       "      <td>8175.2</td>\n",
       "      <td>4027.4</td>\n",
       "      <td>4147.8</td>\n",
       "    </tr>\n",
       "    <tr>\n",
       "      <th>2</th>\n",
       "      <td>I trimestre 2012</td>\n",
       "      <td>8190.5</td>\n",
       "      <td>4045.7</td>\n",
       "      <td>4144.8</td>\n",
       "    </tr>\n",
       "    <tr>\n",
       "      <th>3</th>\n",
       "      <td>II trimestre 2012</td>\n",
       "      <td>8211.7</td>\n",
       "      <td>4056.4</td>\n",
       "      <td>4155.3</td>\n",
       "    </tr>\n",
       "    <tr>\n",
       "      <th>4</th>\n",
       "      <td>III trimestre 2012</td>\n",
       "      <td>8255.8</td>\n",
       "      <td>4062.0</td>\n",
       "      <td>4193.8</td>\n",
       "    </tr>\n",
       "  </tbody>\n",
       "</table>\n",
       "</div>"
      ],
      "text/plain": [
       "                       \\\n",
       "0   II trimestre 2011   \n",
       "1   IV trimestre 2011   \n",
       "2    I trimestre 2012   \n",
       "3   II trimestre 2012   \n",
       "4  III trimestre 2012   \n",
       "\n",
       "   Evolution de la population en âge d'activité (15 ans et plus)  \\\n",
       "0                                             8146.6               \n",
       "1                                             8175.2               \n",
       "2                                             8190.5               \n",
       "3                                             8211.7               \n",
       "4                                             8255.8               \n",
       "\n",
       "   Evolution de la population Masculine (15 ans et plus)  \\\n",
       "0                                             4019.1       \n",
       "1                                             4027.4       \n",
       "2                                             4045.7       \n",
       "3                                             4056.4       \n",
       "4                                             4062.0       \n",
       "\n",
       "   Evolution de la population Féminine (15 ans et plus)  \n",
       "0                                             4127.5     \n",
       "1                                             4147.8     \n",
       "2                                             4144.8     \n",
       "3                                             4155.3     \n",
       "4                                             4193.8     "
      ]
     },
     "execution_count": 32,
     "metadata": {},
     "output_type": "execute_result"
    }
   ],
   "source": [
    "df_Population_O_1=pd.read_csv(\"~/data_viz/Project_Employement/data/tidy_data/Population occupée/Evolution de la population en âge d'activité (15 ans et plus) selon le sexe.csv\",\n",
    "                                header=1)\n",
    "df_Population_O_1.head()"
   ]
  },
  {
   "cell_type": "code",
   "execution_count": 33,
   "metadata": {},
   "outputs": [
    {
     "data": {
      "application/vnd.plotly.v1+json": {
       "config": {
        "plotlyServerURL": "https://plot.ly"
       },
       "data": [
        {
         "line": {
          "color": "royalblue"
         },
         "name": "Total",
         "type": "scatter",
         "x": [
          "II trimestre 2011",
          "IV trimestre 2011",
          "I trimestre 2012",
          "II trimestre 2012",
          "III trimestre 2012",
          "IV trimestre 2012",
          "I trimestre 2013",
          "II trimestre 2013",
          "III trimestre 2013",
          "IV trimestre 2013",
          "I trimestre 2014",
          "III trimestre 2014",
          "IV trimestre 2014",
          "I trimestre 2015",
          "II trimestre 2015",
          "III trimestre 2015",
          "IV trimestre 2015",
          "I trimestre 2016",
          "II trimestre 2016",
          "III trimestre 2016",
          "IV trimestre 2016",
          "I trimestre 2017",
          "II trimestre 2017",
          "III trimestre 2017",
          "IV trimestre 2017",
          "I trimestre 2018",
          "II trimestre 2018",
          "III trimestre 2018",
          "IV trimestre 2018",
          "I trimestre 2019",
          "II trimestre 2019",
          "III trimestre 2019",
          "IV trimestre 2019"
         ],
         "y": [
          8146.6,
          8175.2,
          8190.5,
          8211.7,
          8255.8,
          8282.7,
          8294.6,
          8315.7,
          8349.5,
          8383.5,
          8409.5,
          8396.6,
          8422.8,
          8454.392,
          8480.59,
          8498.5,
          8529.7,
          8554.4,
          8580.9,
          8609.2,
          8638.6,
          8666.8,
          8694.333,
          8721.7,
          8745.189999999999,
          8768.636,
          8793.6,
          8811.4,
          8834.28,
          8857.2,
          8856.2,
          8877.4,
          8898.6
         ]
        },
        {
         "line": {
          "color": "green"
         },
         "name": "Homme",
         "type": "scatter",
         "x": [
          "II trimestre 2011",
          "IV trimestre 2011",
          "I trimestre 2012",
          "II trimestre 2012",
          "III trimestre 2012",
          "IV trimestre 2012",
          "I trimestre 2013",
          "II trimestre 2013",
          "III trimestre 2013",
          "IV trimestre 2013",
          "I trimestre 2014",
          "III trimestre 2014",
          "IV trimestre 2014",
          "I trimestre 2015",
          "II trimestre 2015",
          "III trimestre 2015",
          "IV trimestre 2015",
          "I trimestre 2016",
          "II trimestre 2016",
          "III trimestre 2016",
          "IV trimestre 2016",
          "I trimestre 2017",
          "II trimestre 2017",
          "III trimestre 2017",
          "IV trimestre 2017",
          "I trimestre 2018",
          "II trimestre 2018",
          "III trimestre 2018",
          "IV trimestre 2018",
          "I trimestre 2019",
          "II trimestre 2019",
          "III trimestre 2019",
          "IV trimestre 2019"
         ],
         "y": [
          4019.1,
          4027.4,
          4045.7,
          4056.4,
          4062,
          4073.5,
          4077.7,
          4086.4,
          4104.7,
          4123.1,
          4131.1,
          4130.5,
          4143.5,
          4159.13,
          4172.096,
          4180.5,
          4195.9,
          4208,
          4211.6,
          4225.9,
          4240.3,
          4254.2,
          4263.522,
          4277,
          4288.566,
          4300.127,
          4312.4,
          4320.7,
          4331.33,
          4342,
          4333.9,
          4343.7,
          4353.6
         ]
        },
        {
         "line": {
          "color": "firebrick"
         },
         "name": "Femme",
         "type": "scatter",
         "x": [
          "II trimestre 2011",
          "IV trimestre 2011",
          "I trimestre 2012",
          "II trimestre 2012",
          "III trimestre 2012",
          "IV trimestre 2012",
          "I trimestre 2013",
          "II trimestre 2013",
          "III trimestre 2013",
          "IV trimestre 2013",
          "I trimestre 2014",
          "III trimestre 2014",
          "IV trimestre 2014",
          "I trimestre 2015",
          "II trimestre 2015",
          "III trimestre 2015",
          "IV trimestre 2015",
          "I trimestre 2016",
          "II trimestre 2016",
          "III trimestre 2016",
          "IV trimestre 2016",
          "I trimestre 2017",
          "II trimestre 2017",
          "III trimestre 2017",
          "IV trimestre 2017",
          "I trimestre 2018",
          "II trimestre 2018",
          "III trimestre 2018",
          "IV trimestre 2018",
          "I trimestre 2019",
          "II trimestre 2019",
          "III trimestre 2019",
          "IV trimestre 2019"
         ],
         "y": [
          4127.5,
          4147.8,
          4144.8,
          4155.3,
          4193.8,
          4209.2,
          4216.9,
          4229.3,
          4244.8,
          4260.4,
          4278.4,
          4266.1,
          4279.3,
          4295.2620000000015,
          4308.4940000000015,
          4318,
          4333.8,
          4346.4,
          4369.3,
          4383.3,
          4398.3,
          4412.6,
          4430.811,
          4444.7,
          4456.624000000002,
          4468.509,
          4481.2,
          4490.7,
          4502.95,
          4515.2,
          4522.3,
          4533.7,
          4545
         ]
        }
       ],
       "layout": {
        "template": {
         "data": {
          "bar": [
           {
            "error_x": {
             "color": "#2a3f5f"
            },
            "error_y": {
             "color": "#2a3f5f"
            },
            "marker": {
             "line": {
              "color": "#E5ECF6",
              "width": 0.5
             }
            },
            "type": "bar"
           }
          ],
          "barpolar": [
           {
            "marker": {
             "line": {
              "color": "#E5ECF6",
              "width": 0.5
             }
            },
            "type": "barpolar"
           }
          ],
          "carpet": [
           {
            "aaxis": {
             "endlinecolor": "#2a3f5f",
             "gridcolor": "white",
             "linecolor": "white",
             "minorgridcolor": "white",
             "startlinecolor": "#2a3f5f"
            },
            "baxis": {
             "endlinecolor": "#2a3f5f",
             "gridcolor": "white",
             "linecolor": "white",
             "minorgridcolor": "white",
             "startlinecolor": "#2a3f5f"
            },
            "type": "carpet"
           }
          ],
          "choropleth": [
           {
            "colorbar": {
             "outlinewidth": 0,
             "ticks": ""
            },
            "type": "choropleth"
           }
          ],
          "contour": [
           {
            "colorbar": {
             "outlinewidth": 0,
             "ticks": ""
            },
            "colorscale": [
             [
              0,
              "#0d0887"
             ],
             [
              0.1111111111111111,
              "#46039f"
             ],
             [
              0.2222222222222222,
              "#7201a8"
             ],
             [
              0.3333333333333333,
              "#9c179e"
             ],
             [
              0.4444444444444444,
              "#bd3786"
             ],
             [
              0.5555555555555556,
              "#d8576b"
             ],
             [
              0.6666666666666666,
              "#ed7953"
             ],
             [
              0.7777777777777778,
              "#fb9f3a"
             ],
             [
              0.8888888888888888,
              "#fdca26"
             ],
             [
              1,
              "#f0f921"
             ]
            ],
            "type": "contour"
           }
          ],
          "contourcarpet": [
           {
            "colorbar": {
             "outlinewidth": 0,
             "ticks": ""
            },
            "type": "contourcarpet"
           }
          ],
          "heatmap": [
           {
            "colorbar": {
             "outlinewidth": 0,
             "ticks": ""
            },
            "colorscale": [
             [
              0,
              "#0d0887"
             ],
             [
              0.1111111111111111,
              "#46039f"
             ],
             [
              0.2222222222222222,
              "#7201a8"
             ],
             [
              0.3333333333333333,
              "#9c179e"
             ],
             [
              0.4444444444444444,
              "#bd3786"
             ],
             [
              0.5555555555555556,
              "#d8576b"
             ],
             [
              0.6666666666666666,
              "#ed7953"
             ],
             [
              0.7777777777777778,
              "#fb9f3a"
             ],
             [
              0.8888888888888888,
              "#fdca26"
             ],
             [
              1,
              "#f0f921"
             ]
            ],
            "type": "heatmap"
           }
          ],
          "heatmapgl": [
           {
            "colorbar": {
             "outlinewidth": 0,
             "ticks": ""
            },
            "colorscale": [
             [
              0,
              "#0d0887"
             ],
             [
              0.1111111111111111,
              "#46039f"
             ],
             [
              0.2222222222222222,
              "#7201a8"
             ],
             [
              0.3333333333333333,
              "#9c179e"
             ],
             [
              0.4444444444444444,
              "#bd3786"
             ],
             [
              0.5555555555555556,
              "#d8576b"
             ],
             [
              0.6666666666666666,
              "#ed7953"
             ],
             [
              0.7777777777777778,
              "#fb9f3a"
             ],
             [
              0.8888888888888888,
              "#fdca26"
             ],
             [
              1,
              "#f0f921"
             ]
            ],
            "type": "heatmapgl"
           }
          ],
          "histogram": [
           {
            "marker": {
             "colorbar": {
              "outlinewidth": 0,
              "ticks": ""
             }
            },
            "type": "histogram"
           }
          ],
          "histogram2d": [
           {
            "colorbar": {
             "outlinewidth": 0,
             "ticks": ""
            },
            "colorscale": [
             [
              0,
              "#0d0887"
             ],
             [
              0.1111111111111111,
              "#46039f"
             ],
             [
              0.2222222222222222,
              "#7201a8"
             ],
             [
              0.3333333333333333,
              "#9c179e"
             ],
             [
              0.4444444444444444,
              "#bd3786"
             ],
             [
              0.5555555555555556,
              "#d8576b"
             ],
             [
              0.6666666666666666,
              "#ed7953"
             ],
             [
              0.7777777777777778,
              "#fb9f3a"
             ],
             [
              0.8888888888888888,
              "#fdca26"
             ],
             [
              1,
              "#f0f921"
             ]
            ],
            "type": "histogram2d"
           }
          ],
          "histogram2dcontour": [
           {
            "colorbar": {
             "outlinewidth": 0,
             "ticks": ""
            },
            "colorscale": [
             [
              0,
              "#0d0887"
             ],
             [
              0.1111111111111111,
              "#46039f"
             ],
             [
              0.2222222222222222,
              "#7201a8"
             ],
             [
              0.3333333333333333,
              "#9c179e"
             ],
             [
              0.4444444444444444,
              "#bd3786"
             ],
             [
              0.5555555555555556,
              "#d8576b"
             ],
             [
              0.6666666666666666,
              "#ed7953"
             ],
             [
              0.7777777777777778,
              "#fb9f3a"
             ],
             [
              0.8888888888888888,
              "#fdca26"
             ],
             [
              1,
              "#f0f921"
             ]
            ],
            "type": "histogram2dcontour"
           }
          ],
          "mesh3d": [
           {
            "colorbar": {
             "outlinewidth": 0,
             "ticks": ""
            },
            "type": "mesh3d"
           }
          ],
          "parcoords": [
           {
            "line": {
             "colorbar": {
              "outlinewidth": 0,
              "ticks": ""
             }
            },
            "type": "parcoords"
           }
          ],
          "pie": [
           {
            "automargin": true,
            "type": "pie"
           }
          ],
          "scatter": [
           {
            "marker": {
             "colorbar": {
              "outlinewidth": 0,
              "ticks": ""
             }
            },
            "type": "scatter"
           }
          ],
          "scatter3d": [
           {
            "line": {
             "colorbar": {
              "outlinewidth": 0,
              "ticks": ""
             }
            },
            "marker": {
             "colorbar": {
              "outlinewidth": 0,
              "ticks": ""
             }
            },
            "type": "scatter3d"
           }
          ],
          "scattercarpet": [
           {
            "marker": {
             "colorbar": {
              "outlinewidth": 0,
              "ticks": ""
             }
            },
            "type": "scattercarpet"
           }
          ],
          "scattergeo": [
           {
            "marker": {
             "colorbar": {
              "outlinewidth": 0,
              "ticks": ""
             }
            },
            "type": "scattergeo"
           }
          ],
          "scattergl": [
           {
            "marker": {
             "colorbar": {
              "outlinewidth": 0,
              "ticks": ""
             }
            },
            "type": "scattergl"
           }
          ],
          "scattermapbox": [
           {
            "marker": {
             "colorbar": {
              "outlinewidth": 0,
              "ticks": ""
             }
            },
            "type": "scattermapbox"
           }
          ],
          "scatterpolar": [
           {
            "marker": {
             "colorbar": {
              "outlinewidth": 0,
              "ticks": ""
             }
            },
            "type": "scatterpolar"
           }
          ],
          "scatterpolargl": [
           {
            "marker": {
             "colorbar": {
              "outlinewidth": 0,
              "ticks": ""
             }
            },
            "type": "scatterpolargl"
           }
          ],
          "scatterternary": [
           {
            "marker": {
             "colorbar": {
              "outlinewidth": 0,
              "ticks": ""
             }
            },
            "type": "scatterternary"
           }
          ],
          "surface": [
           {
            "colorbar": {
             "outlinewidth": 0,
             "ticks": ""
            },
            "colorscale": [
             [
              0,
              "#0d0887"
             ],
             [
              0.1111111111111111,
              "#46039f"
             ],
             [
              0.2222222222222222,
              "#7201a8"
             ],
             [
              0.3333333333333333,
              "#9c179e"
             ],
             [
              0.4444444444444444,
              "#bd3786"
             ],
             [
              0.5555555555555556,
              "#d8576b"
             ],
             [
              0.6666666666666666,
              "#ed7953"
             ],
             [
              0.7777777777777778,
              "#fb9f3a"
             ],
             [
              0.8888888888888888,
              "#fdca26"
             ],
             [
              1,
              "#f0f921"
             ]
            ],
            "type": "surface"
           }
          ],
          "table": [
           {
            "cells": {
             "fill": {
              "color": "#EBF0F8"
             },
             "line": {
              "color": "white"
             }
            },
            "header": {
             "fill": {
              "color": "#C8D4E3"
             },
             "line": {
              "color": "white"
             }
            },
            "type": "table"
           }
          ]
         },
         "layout": {
          "annotationdefaults": {
           "arrowcolor": "#2a3f5f",
           "arrowhead": 0,
           "arrowwidth": 1
          },
          "coloraxis": {
           "colorbar": {
            "outlinewidth": 0,
            "ticks": ""
           }
          },
          "colorscale": {
           "diverging": [
            [
             0,
             "#8e0152"
            ],
            [
             0.1,
             "#c51b7d"
            ],
            [
             0.2,
             "#de77ae"
            ],
            [
             0.3,
             "#f1b6da"
            ],
            [
             0.4,
             "#fde0ef"
            ],
            [
             0.5,
             "#f7f7f7"
            ],
            [
             0.6,
             "#e6f5d0"
            ],
            [
             0.7,
             "#b8e186"
            ],
            [
             0.8,
             "#7fbc41"
            ],
            [
             0.9,
             "#4d9221"
            ],
            [
             1,
             "#276419"
            ]
           ],
           "sequential": [
            [
             0,
             "#0d0887"
            ],
            [
             0.1111111111111111,
             "#46039f"
            ],
            [
             0.2222222222222222,
             "#7201a8"
            ],
            [
             0.3333333333333333,
             "#9c179e"
            ],
            [
             0.4444444444444444,
             "#bd3786"
            ],
            [
             0.5555555555555556,
             "#d8576b"
            ],
            [
             0.6666666666666666,
             "#ed7953"
            ],
            [
             0.7777777777777778,
             "#fb9f3a"
            ],
            [
             0.8888888888888888,
             "#fdca26"
            ],
            [
             1,
             "#f0f921"
            ]
           ],
           "sequentialminus": [
            [
             0,
             "#0d0887"
            ],
            [
             0.1111111111111111,
             "#46039f"
            ],
            [
             0.2222222222222222,
             "#7201a8"
            ],
            [
             0.3333333333333333,
             "#9c179e"
            ],
            [
             0.4444444444444444,
             "#bd3786"
            ],
            [
             0.5555555555555556,
             "#d8576b"
            ],
            [
             0.6666666666666666,
             "#ed7953"
            ],
            [
             0.7777777777777778,
             "#fb9f3a"
            ],
            [
             0.8888888888888888,
             "#fdca26"
            ],
            [
             1,
             "#f0f921"
            ]
           ]
          },
          "colorway": [
           "#636efa",
           "#EF553B",
           "#00cc96",
           "#ab63fa",
           "#FFA15A",
           "#19d3f3",
           "#FF6692",
           "#B6E880",
           "#FF97FF",
           "#FECB52"
          ],
          "font": {
           "color": "#2a3f5f"
          },
          "geo": {
           "bgcolor": "white",
           "lakecolor": "white",
           "landcolor": "#E5ECF6",
           "showlakes": true,
           "showland": true,
           "subunitcolor": "white"
          },
          "hoverlabel": {
           "align": "left"
          },
          "hovermode": "closest",
          "mapbox": {
           "style": "light"
          },
          "paper_bgcolor": "white",
          "plot_bgcolor": "#E5ECF6",
          "polar": {
           "angularaxis": {
            "gridcolor": "white",
            "linecolor": "white",
            "ticks": ""
           },
           "bgcolor": "#E5ECF6",
           "radialaxis": {
            "gridcolor": "white",
            "linecolor": "white",
            "ticks": ""
           }
          },
          "scene": {
           "xaxis": {
            "backgroundcolor": "#E5ECF6",
            "gridcolor": "white",
            "gridwidth": 2,
            "linecolor": "white",
            "showbackground": true,
            "ticks": "",
            "zerolinecolor": "white"
           },
           "yaxis": {
            "backgroundcolor": "#E5ECF6",
            "gridcolor": "white",
            "gridwidth": 2,
            "linecolor": "white",
            "showbackground": true,
            "ticks": "",
            "zerolinecolor": "white"
           },
           "zaxis": {
            "backgroundcolor": "#E5ECF6",
            "gridcolor": "white",
            "gridwidth": 2,
            "linecolor": "white",
            "showbackground": true,
            "ticks": "",
            "zerolinecolor": "white"
           }
          },
          "shapedefaults": {
           "line": {
            "color": "#2a3f5f"
           }
          },
          "ternary": {
           "aaxis": {
            "gridcolor": "white",
            "linecolor": "white",
            "ticks": ""
           },
           "baxis": {
            "gridcolor": "white",
            "linecolor": "white",
            "ticks": ""
           },
           "bgcolor": "#E5ECF6",
           "caxis": {
            "gridcolor": "white",
            "linecolor": "white",
            "ticks": ""
           }
          },
          "title": {
           "x": 0.05
          },
          "xaxis": {
           "automargin": true,
           "gridcolor": "white",
           "linecolor": "white",
           "ticks": "",
           "title": {
            "standoff": 15
           },
           "zerolinecolor": "white",
           "zerolinewidth": 2
          },
          "yaxis": {
           "automargin": true,
           "gridcolor": "white",
           "linecolor": "white",
           "ticks": "",
           "title": {
            "standoff": 15
           },
           "zerolinecolor": "white",
           "zerolinewidth": 2
          }
         }
        },
        "title": {
         "text": "Evolution de la population en âge d'activité (15 ans et plus)"
        }
       }
      },
      "text/html": [
       "<div>\n",
       "        \n",
       "        \n",
       "            <div id=\"1e7aeb1f-2a9a-4565-8d67-a4f8d0a6327a\" class=\"plotly-graph-div\" style=\"height:525px; width:100%;\"></div>\n",
       "            <script type=\"text/javascript\">\n",
       "                require([\"plotly\"], function(Plotly) {\n",
       "                    window.PLOTLYENV=window.PLOTLYENV || {};\n",
       "                    \n",
       "                if (document.getElementById(\"1e7aeb1f-2a9a-4565-8d67-a4f8d0a6327a\")) {\n",
       "                    Plotly.newPlot(\n",
       "                        '1e7aeb1f-2a9a-4565-8d67-a4f8d0a6327a',\n",
       "                        [{\"line\": {\"color\": \"royalblue\"}, \"name\": \"Total\", \"type\": \"scatter\", \"x\": [\"II trimestre 2011\", \"IV trimestre 2011\", \"I trimestre 2012\", \"II trimestre 2012\", \"III trimestre 2012\", \"IV trimestre 2012\", \"I trimestre 2013\", \"II trimestre 2013\", \"III trimestre 2013\", \"IV trimestre 2013\", \"I trimestre 2014\", \"III trimestre 2014\", \"IV trimestre 2014\", \"I trimestre 2015\", \"II trimestre 2015\", \"III trimestre 2015\", \"IV trimestre 2015\", \"I trimestre 2016\", \"II trimestre 2016\", \"III trimestre 2016\", \"IV trimestre 2016\", \"I trimestre 2017\", \"II trimestre 2017\", \"III trimestre 2017\", \"IV trimestre 2017\", \"I trimestre 2018\", \"II trimestre 2018\", \"III trimestre 2018\", \"IV trimestre 2018\", \"I trimestre 2019\", \"II trimestre 2019\", \"III trimestre 2019\", \"IV trimestre 2019\"], \"y\": [8146.6, 8175.2, 8190.5, 8211.7, 8255.8, 8282.7, 8294.6, 8315.7, 8349.5, 8383.5, 8409.5, 8396.6, 8422.8, 8454.392, 8480.59, 8498.5, 8529.7, 8554.4, 8580.9, 8609.2, 8638.6, 8666.8, 8694.333, 8721.7, 8745.189999999999, 8768.636, 8793.6, 8811.4, 8834.28, 8857.2, 8856.2, 8877.4, 8898.6]}, {\"line\": {\"color\": \"green\"}, \"name\": \"Homme\", \"type\": \"scatter\", \"x\": [\"II trimestre 2011\", \"IV trimestre 2011\", \"I trimestre 2012\", \"II trimestre 2012\", \"III trimestre 2012\", \"IV trimestre 2012\", \"I trimestre 2013\", \"II trimestre 2013\", \"III trimestre 2013\", \"IV trimestre 2013\", \"I trimestre 2014\", \"III trimestre 2014\", \"IV trimestre 2014\", \"I trimestre 2015\", \"II trimestre 2015\", \"III trimestre 2015\", \"IV trimestre 2015\", \"I trimestre 2016\", \"II trimestre 2016\", \"III trimestre 2016\", \"IV trimestre 2016\", \"I trimestre 2017\", \"II trimestre 2017\", \"III trimestre 2017\", \"IV trimestre 2017\", \"I trimestre 2018\", \"II trimestre 2018\", \"III trimestre 2018\", \"IV trimestre 2018\", \"I trimestre 2019\", \"II trimestre 2019\", \"III trimestre 2019\", \"IV trimestre 2019\"], \"y\": [4019.1, 4027.4, 4045.7, 4056.4, 4062.0, 4073.5, 4077.7, 4086.4, 4104.7, 4123.1, 4131.1, 4130.5, 4143.5, 4159.13, 4172.096, 4180.5, 4195.9, 4208.0, 4211.6, 4225.9, 4240.3, 4254.2, 4263.522, 4277.0, 4288.566, 4300.127, 4312.4, 4320.7, 4331.33, 4342.0, 4333.9, 4343.7, 4353.6]}, {\"line\": {\"color\": \"firebrick\"}, \"name\": \"Femme\", \"type\": \"scatter\", \"x\": [\"II trimestre 2011\", \"IV trimestre 2011\", \"I trimestre 2012\", \"II trimestre 2012\", \"III trimestre 2012\", \"IV trimestre 2012\", \"I trimestre 2013\", \"II trimestre 2013\", \"III trimestre 2013\", \"IV trimestre 2013\", \"I trimestre 2014\", \"III trimestre 2014\", \"IV trimestre 2014\", \"I trimestre 2015\", \"II trimestre 2015\", \"III trimestre 2015\", \"IV trimestre 2015\", \"I trimestre 2016\", \"II trimestre 2016\", \"III trimestre 2016\", \"IV trimestre 2016\", \"I trimestre 2017\", \"II trimestre 2017\", \"III trimestre 2017\", \"IV trimestre 2017\", \"I trimestre 2018\", \"II trimestre 2018\", \"III trimestre 2018\", \"IV trimestre 2018\", \"I trimestre 2019\", \"II trimestre 2019\", \"III trimestre 2019\", \"IV trimestre 2019\"], \"y\": [4127.5, 4147.8, 4144.8, 4155.3, 4193.8, 4209.2, 4216.9, 4229.3, 4244.8, 4260.4, 4278.4, 4266.1, 4279.3, 4295.2620000000015, 4308.4940000000015, 4318.0, 4333.8, 4346.4, 4369.3, 4383.3, 4398.3, 4412.6, 4430.811, 4444.7, 4456.624000000002, 4468.509, 4481.2, 4490.7, 4502.95, 4515.2, 4522.3, 4533.7, 4545.0]}],\n",
       "                        {\"template\": {\"data\": {\"bar\": [{\"error_x\": {\"color\": \"#2a3f5f\"}, \"error_y\": {\"color\": \"#2a3f5f\"}, \"marker\": {\"line\": {\"color\": \"#E5ECF6\", \"width\": 0.5}}, \"type\": \"bar\"}], \"barpolar\": [{\"marker\": {\"line\": {\"color\": \"#E5ECF6\", \"width\": 0.5}}, \"type\": \"barpolar\"}], \"carpet\": [{\"aaxis\": {\"endlinecolor\": \"#2a3f5f\", \"gridcolor\": \"white\", \"linecolor\": \"white\", \"minorgridcolor\": \"white\", \"startlinecolor\": \"#2a3f5f\"}, \"baxis\": {\"endlinecolor\": \"#2a3f5f\", \"gridcolor\": \"white\", \"linecolor\": \"white\", \"minorgridcolor\": \"white\", \"startlinecolor\": \"#2a3f5f\"}, \"type\": \"carpet\"}], \"choropleth\": [{\"colorbar\": {\"outlinewidth\": 0, \"ticks\": \"\"}, \"type\": \"choropleth\"}], \"contour\": [{\"colorbar\": {\"outlinewidth\": 0, \"ticks\": \"\"}, \"colorscale\": [[0.0, \"#0d0887\"], [0.1111111111111111, \"#46039f\"], [0.2222222222222222, \"#7201a8\"], [0.3333333333333333, \"#9c179e\"], [0.4444444444444444, \"#bd3786\"], [0.5555555555555556, \"#d8576b\"], [0.6666666666666666, \"#ed7953\"], [0.7777777777777778, \"#fb9f3a\"], [0.8888888888888888, \"#fdca26\"], [1.0, \"#f0f921\"]], \"type\": \"contour\"}], \"contourcarpet\": [{\"colorbar\": {\"outlinewidth\": 0, \"ticks\": \"\"}, \"type\": \"contourcarpet\"}], \"heatmap\": [{\"colorbar\": {\"outlinewidth\": 0, \"ticks\": \"\"}, \"colorscale\": [[0.0, \"#0d0887\"], [0.1111111111111111, \"#46039f\"], [0.2222222222222222, \"#7201a8\"], [0.3333333333333333, \"#9c179e\"], [0.4444444444444444, \"#bd3786\"], [0.5555555555555556, \"#d8576b\"], [0.6666666666666666, \"#ed7953\"], [0.7777777777777778, \"#fb9f3a\"], [0.8888888888888888, \"#fdca26\"], [1.0, \"#f0f921\"]], \"type\": \"heatmap\"}], \"heatmapgl\": [{\"colorbar\": {\"outlinewidth\": 0, \"ticks\": \"\"}, \"colorscale\": [[0.0, \"#0d0887\"], [0.1111111111111111, \"#46039f\"], [0.2222222222222222, \"#7201a8\"], [0.3333333333333333, \"#9c179e\"], [0.4444444444444444, \"#bd3786\"], [0.5555555555555556, \"#d8576b\"], [0.6666666666666666, \"#ed7953\"], [0.7777777777777778, \"#fb9f3a\"], [0.8888888888888888, \"#fdca26\"], [1.0, \"#f0f921\"]], \"type\": \"heatmapgl\"}], \"histogram\": [{\"marker\": {\"colorbar\": {\"outlinewidth\": 0, \"ticks\": \"\"}}, \"type\": \"histogram\"}], \"histogram2d\": [{\"colorbar\": {\"outlinewidth\": 0, \"ticks\": \"\"}, \"colorscale\": [[0.0, \"#0d0887\"], [0.1111111111111111, \"#46039f\"], [0.2222222222222222, \"#7201a8\"], [0.3333333333333333, \"#9c179e\"], [0.4444444444444444, \"#bd3786\"], [0.5555555555555556, \"#d8576b\"], [0.6666666666666666, \"#ed7953\"], [0.7777777777777778, \"#fb9f3a\"], [0.8888888888888888, \"#fdca26\"], [1.0, \"#f0f921\"]], \"type\": \"histogram2d\"}], \"histogram2dcontour\": [{\"colorbar\": {\"outlinewidth\": 0, \"ticks\": \"\"}, \"colorscale\": [[0.0, \"#0d0887\"], [0.1111111111111111, \"#46039f\"], [0.2222222222222222, \"#7201a8\"], [0.3333333333333333, \"#9c179e\"], [0.4444444444444444, \"#bd3786\"], [0.5555555555555556, \"#d8576b\"], [0.6666666666666666, \"#ed7953\"], [0.7777777777777778, \"#fb9f3a\"], [0.8888888888888888, \"#fdca26\"], [1.0, \"#f0f921\"]], \"type\": \"histogram2dcontour\"}], \"mesh3d\": [{\"colorbar\": {\"outlinewidth\": 0, \"ticks\": \"\"}, \"type\": \"mesh3d\"}], \"parcoords\": [{\"line\": {\"colorbar\": {\"outlinewidth\": 0, \"ticks\": \"\"}}, \"type\": \"parcoords\"}], \"pie\": [{\"automargin\": true, \"type\": \"pie\"}], \"scatter\": [{\"marker\": {\"colorbar\": {\"outlinewidth\": 0, \"ticks\": \"\"}}, \"type\": \"scatter\"}], \"scatter3d\": [{\"line\": {\"colorbar\": {\"outlinewidth\": 0, \"ticks\": \"\"}}, \"marker\": {\"colorbar\": {\"outlinewidth\": 0, \"ticks\": \"\"}}, \"type\": \"scatter3d\"}], \"scattercarpet\": [{\"marker\": {\"colorbar\": {\"outlinewidth\": 0, \"ticks\": \"\"}}, \"type\": \"scattercarpet\"}], \"scattergeo\": [{\"marker\": {\"colorbar\": {\"outlinewidth\": 0, \"ticks\": \"\"}}, \"type\": \"scattergeo\"}], \"scattergl\": [{\"marker\": {\"colorbar\": {\"outlinewidth\": 0, \"ticks\": \"\"}}, \"type\": \"scattergl\"}], \"scattermapbox\": [{\"marker\": {\"colorbar\": {\"outlinewidth\": 0, \"ticks\": \"\"}}, \"type\": \"scattermapbox\"}], \"scatterpolar\": [{\"marker\": {\"colorbar\": {\"outlinewidth\": 0, \"ticks\": \"\"}}, \"type\": \"scatterpolar\"}], \"scatterpolargl\": [{\"marker\": {\"colorbar\": {\"outlinewidth\": 0, \"ticks\": \"\"}}, \"type\": \"scatterpolargl\"}], \"scatterternary\": [{\"marker\": {\"colorbar\": {\"outlinewidth\": 0, \"ticks\": \"\"}}, \"type\": \"scatterternary\"}], \"surface\": [{\"colorbar\": {\"outlinewidth\": 0, \"ticks\": \"\"}, \"colorscale\": [[0.0, \"#0d0887\"], [0.1111111111111111, \"#46039f\"], [0.2222222222222222, \"#7201a8\"], [0.3333333333333333, \"#9c179e\"], [0.4444444444444444, \"#bd3786\"], [0.5555555555555556, \"#d8576b\"], [0.6666666666666666, \"#ed7953\"], [0.7777777777777778, \"#fb9f3a\"], [0.8888888888888888, \"#fdca26\"], [1.0, \"#f0f921\"]], \"type\": \"surface\"}], \"table\": [{\"cells\": {\"fill\": {\"color\": \"#EBF0F8\"}, \"line\": {\"color\": \"white\"}}, \"header\": {\"fill\": {\"color\": \"#C8D4E3\"}, \"line\": {\"color\": \"white\"}}, \"type\": \"table\"}]}, \"layout\": {\"annotationdefaults\": {\"arrowcolor\": \"#2a3f5f\", \"arrowhead\": 0, \"arrowwidth\": 1}, \"coloraxis\": {\"colorbar\": {\"outlinewidth\": 0, \"ticks\": \"\"}}, \"colorscale\": {\"diverging\": [[0, \"#8e0152\"], [0.1, \"#c51b7d\"], [0.2, \"#de77ae\"], [0.3, \"#f1b6da\"], [0.4, \"#fde0ef\"], [0.5, \"#f7f7f7\"], [0.6, \"#e6f5d0\"], [0.7, \"#b8e186\"], [0.8, \"#7fbc41\"], [0.9, \"#4d9221\"], [1, \"#276419\"]], \"sequential\": [[0.0, \"#0d0887\"], [0.1111111111111111, \"#46039f\"], [0.2222222222222222, \"#7201a8\"], [0.3333333333333333, \"#9c179e\"], [0.4444444444444444, \"#bd3786\"], [0.5555555555555556, \"#d8576b\"], [0.6666666666666666, \"#ed7953\"], [0.7777777777777778, \"#fb9f3a\"], [0.8888888888888888, \"#fdca26\"], [1.0, \"#f0f921\"]], \"sequentialminus\": [[0.0, \"#0d0887\"], [0.1111111111111111, \"#46039f\"], [0.2222222222222222, \"#7201a8\"], [0.3333333333333333, \"#9c179e\"], [0.4444444444444444, \"#bd3786\"], [0.5555555555555556, \"#d8576b\"], [0.6666666666666666, \"#ed7953\"], [0.7777777777777778, \"#fb9f3a\"], [0.8888888888888888, \"#fdca26\"], [1.0, \"#f0f921\"]]}, \"colorway\": [\"#636efa\", \"#EF553B\", \"#00cc96\", \"#ab63fa\", \"#FFA15A\", \"#19d3f3\", \"#FF6692\", \"#B6E880\", \"#FF97FF\", \"#FECB52\"], \"font\": {\"color\": \"#2a3f5f\"}, \"geo\": {\"bgcolor\": \"white\", \"lakecolor\": \"white\", \"landcolor\": \"#E5ECF6\", \"showlakes\": true, \"showland\": true, \"subunitcolor\": \"white\"}, \"hoverlabel\": {\"align\": \"left\"}, \"hovermode\": \"closest\", \"mapbox\": {\"style\": \"light\"}, \"paper_bgcolor\": \"white\", \"plot_bgcolor\": \"#E5ECF6\", \"polar\": {\"angularaxis\": {\"gridcolor\": \"white\", \"linecolor\": \"white\", \"ticks\": \"\"}, \"bgcolor\": \"#E5ECF6\", \"radialaxis\": {\"gridcolor\": \"white\", \"linecolor\": \"white\", \"ticks\": \"\"}}, \"scene\": {\"xaxis\": {\"backgroundcolor\": \"#E5ECF6\", \"gridcolor\": \"white\", \"gridwidth\": 2, \"linecolor\": \"white\", \"showbackground\": true, \"ticks\": \"\", \"zerolinecolor\": \"white\"}, \"yaxis\": {\"backgroundcolor\": \"#E5ECF6\", \"gridcolor\": \"white\", \"gridwidth\": 2, \"linecolor\": \"white\", \"showbackground\": true, \"ticks\": \"\", \"zerolinecolor\": \"white\"}, \"zaxis\": {\"backgroundcolor\": \"#E5ECF6\", \"gridcolor\": \"white\", \"gridwidth\": 2, \"linecolor\": \"white\", \"showbackground\": true, \"ticks\": \"\", \"zerolinecolor\": \"white\"}}, \"shapedefaults\": {\"line\": {\"color\": \"#2a3f5f\"}}, \"ternary\": {\"aaxis\": {\"gridcolor\": \"white\", \"linecolor\": \"white\", \"ticks\": \"\"}, \"baxis\": {\"gridcolor\": \"white\", \"linecolor\": \"white\", \"ticks\": \"\"}, \"bgcolor\": \"#E5ECF6\", \"caxis\": {\"gridcolor\": \"white\", \"linecolor\": \"white\", \"ticks\": \"\"}}, \"title\": {\"x\": 0.05}, \"xaxis\": {\"automargin\": true, \"gridcolor\": \"white\", \"linecolor\": \"white\", \"ticks\": \"\", \"title\": {\"standoff\": 15}, \"zerolinecolor\": \"white\", \"zerolinewidth\": 2}, \"yaxis\": {\"automargin\": true, \"gridcolor\": \"white\", \"linecolor\": \"white\", \"ticks\": \"\", \"title\": {\"standoff\": 15}, \"zerolinecolor\": \"white\", \"zerolinewidth\": 2}}}, \"title\": {\"text\": \"Evolution de la population en \\u00e2ge d'activit\\u00e9 (15 ans et plus)\"}},\n",
       "                        {\"responsive\": true}\n",
       "                    ).then(function(){\n",
       "                            \n",
       "var gd = document.getElementById('1e7aeb1f-2a9a-4565-8d67-a4f8d0a6327a');\n",
       "var x = new MutationObserver(function (mutations, observer) {{\n",
       "        var display = window.getComputedStyle(gd).display;\n",
       "        if (!display || display === 'none') {{\n",
       "            console.log([gd, 'removed!']);\n",
       "            Plotly.purge(gd);\n",
       "            observer.disconnect();\n",
       "        }}\n",
       "}});\n",
       "\n",
       "// Listen for the removal of the full notebook cells\n",
       "var notebookContainer = gd.closest('#notebook-container');\n",
       "if (notebookContainer) {{\n",
       "    x.observe(notebookContainer, {childList: true});\n",
       "}}\n",
       "\n",
       "// Listen for the clearing of the current output cell\n",
       "var outputEl = gd.closest('.output');\n",
       "if (outputEl) {{\n",
       "    x.observe(outputEl, {childList: true});\n",
       "}}\n",
       "\n",
       "                        })\n",
       "                };\n",
       "                });\n",
       "            </script>\n",
       "        </div>"
      ]
     },
     "metadata": {},
     "output_type": "display_data"
    }
   ],
   "source": [
    "fig2 = go.Figure()\n",
    "fig2.add_trace(go.Scatter(x=df_Population_O_1[' '], y=df_Population_O_1[\"Evolution de la population en âge d'activité (15 ans et plus)\"], name='Total',\n",
    "                         line = dict(color='royalblue')))\n",
    "fig2.add_trace(go.Scatter(x=df_Population_O_1[' '], y=df_Population_O_1[\"Evolution de la population Masculine (15 ans et plus)\"], name='Homme',\n",
    "                         line = dict(color='green')))\n",
    "fig2.add_trace(go.Scatter(x=df_Population_O_1[' '], y=df_Population_O_1[\"Evolution de la population Féminine (15 ans et plus)\"], name='Femme',\n",
    "                         line = dict(color='firebrick')))\n",
    "# Edit the layout\n",
    "fig2.update_layout(title=\"Evolution de la population en âge d'activité (15 ans et plus)\")\n",
    "fig2.show()"
   ]
  },
  {
   "cell_type": "code",
   "execution_count": 16,
   "metadata": {},
   "outputs": [
    {
     "data": {
      "text/html": [
       "<div>\n",
       "<style scoped>\n",
       "    .dataframe tbody tr th:only-of-type {\n",
       "        vertical-align: middle;\n",
       "    }\n",
       "\n",
       "    .dataframe tbody tr th {\n",
       "        vertical-align: top;\n",
       "    }\n",
       "\n",
       "    .dataframe thead th {\n",
       "        text-align: right;\n",
       "    }\n",
       "</style>\n",
       "<table border=\"1\" class=\"dataframe\">\n",
       "  <thead>\n",
       "    <tr style=\"text-align: right;\">\n",
       "      <th></th>\n",
       "      <th></th>\n",
       "      <th>Evolution des créations d'emploi</th>\n",
       "      <th>Créations d'emploi pour les Masculins</th>\n",
       "      <th>Créations d'emploi pour les Féminins</th>\n",
       "    </tr>\n",
       "  </thead>\n",
       "  <tbody>\n",
       "    <tr>\n",
       "      <th>0</th>\n",
       "      <td>II trimestre 2011</td>\n",
       "      <td>-137.6</td>\n",
       "      <td>-63.7</td>\n",
       "      <td>-73.9</td>\n",
       "    </tr>\n",
       "    <tr>\n",
       "      <th>1</th>\n",
       "      <td>IV trimestre 2011</td>\n",
       "      <td>30.9</td>\n",
       "      <td>10.9</td>\n",
       "      <td>20.0</td>\n",
       "    </tr>\n",
       "    <tr>\n",
       "      <th>2</th>\n",
       "      <td>I trimestre 2012</td>\n",
       "      <td>36.4</td>\n",
       "      <td>18.9</td>\n",
       "      <td>17.5</td>\n",
       "    </tr>\n",
       "    <tr>\n",
       "      <th>3</th>\n",
       "      <td>II trimestre 2012</td>\n",
       "      <td>24.5</td>\n",
       "      <td>11.0</td>\n",
       "      <td>13.5</td>\n",
       "    </tr>\n",
       "    <tr>\n",
       "      <th>4</th>\n",
       "      <td>III trimestre 2012</td>\n",
       "      <td>11.3</td>\n",
       "      <td>9.4</td>\n",
       "      <td>1.9</td>\n",
       "    </tr>\n",
       "  </tbody>\n",
       "</table>\n",
       "</div>"
      ],
      "text/plain": [
       "                       Evolution des créations d'emploi  \\\n",
       "0   II trimestre 2011                            -137.6   \n",
       "1   IV trimestre 2011                              30.9   \n",
       "2    I trimestre 2012                              36.4   \n",
       "3   II trimestre 2012                              24.5   \n",
       "4  III trimestre 2012                              11.3   \n",
       "\n",
       "   Créations d'emploi pour les Masculins  Créations d'emploi pour les Féminins  \n",
       "0                                  -63.7                                 -73.9  \n",
       "1                                   10.9                                  20.0  \n",
       "2                                   18.9                                  17.5  \n",
       "3                                   11.0                                  13.5  \n",
       "4                                    9.4                                   1.9  "
      ]
     },
     "execution_count": 16,
     "metadata": {},
     "output_type": "execute_result"
    }
   ],
   "source": [
    "df_Population_O_2=pd.read_csv(\"~/data_viz/Project_Employement/data/tidy_data/Population occupée/Evolution des créations d'emploi selon le sexe.csv\",\n",
    "                                header=1)\n",
    "df_Population_O_2.head()"
   ]
  },
  {
   "cell_type": "code",
   "execution_count": 4,
   "metadata": {},
   "outputs": [
    {
     "data": {
      "text/html": [
       "<div>\n",
       "<style scoped>\n",
       "    .dataframe tbody tr th:only-of-type {\n",
       "        vertical-align: middle;\n",
       "    }\n",
       "\n",
       "    .dataframe tbody tr th {\n",
       "        vertical-align: top;\n",
       "    }\n",
       "\n",
       "    .dataframe thead th {\n",
       "        text-align: right;\n",
       "    }\n",
       "</style>\n",
       "<table border=\"1\" class=\"dataframe\">\n",
       "  <thead>\n",
       "    <tr style=\"text-align: right;\">\n",
       "      <th></th>\n",
       "      <th></th>\n",
       "      <th>Répartition de la population active occupée selon le secteur d'activité</th>\n",
       "      <th>Population active occupée dans Agriculture et pêche</th>\n",
       "      <th>Population active occupée dans l'Industries manufacturières</th>\n",
       "      <th>Population active occupée dans l'Industries agroalimentaires</th>\n",
       "      <th>Population active occupée dans les matériaux de constructions, céramiques et verre</th>\n",
       "      <th>Population active occupée dans  l'Industries mécaniques et électriques</th>\n",
       "      <th>Population active occupée dans  l'Industries chimiques</th>\n",
       "      <th>Population active occupée dans le Textile, l’habillement et des chaussures</th>\n",
       "      <th>Population active occupée dans d'Autres industries manufacturières</th>\n",
       "      <th>...</th>\n",
       "      <th>Population active occupée dans Construction et travaux publics</th>\n",
       "      <th>Population active occupée dans les Services</th>\n",
       "      <th>Population active occupée dans le Commerce</th>\n",
       "      <th>Population active occupée dans le Transport et télécommunication</th>\n",
       "      <th>Population active occupée dans l'Hôtel et restauration</th>\n",
       "      <th>Population active occupée dans les Banques et assurances</th>\n",
       "      <th>Population active occupée dans les Services de réparation et de l'immobilier et autres services aux institutions</th>\n",
       "      <th>Population active occupée dans les Services sociaux et culturels</th>\n",
       "      <th>Population active occupée dans les Services de l’éducation, la santé et administratives</th>\n",
       "      <th>Population active occupée dans des activité Non déclarés</th>\n",
       "    </tr>\n",
       "  </thead>\n",
       "  <tbody>\n",
       "    <tr>\n",
       "      <th>0</th>\n",
       "      <td>II trimestre 2011</td>\n",
       "      <td>3139.8</td>\n",
       "      <td>510.0</td>\n",
       "      <td>578.0</td>\n",
       "      <td>72.3</td>\n",
       "      <td>35.0</td>\n",
       "      <td>119.1</td>\n",
       "      <td>28.0</td>\n",
       "      <td>236.0</td>\n",
       "      <td>87.6</td>\n",
       "      <td>...</td>\n",
       "      <td>441.7</td>\n",
       "      <td>1555.8</td>\n",
       "      <td>388.1</td>\n",
       "      <td>175.3</td>\n",
       "      <td>106.1</td>\n",
       "      <td>25.7</td>\n",
       "      <td>133.6</td>\n",
       "      <td>138.9</td>\n",
       "      <td>588.1</td>\n",
       "      <td>22.7</td>\n",
       "    </tr>\n",
       "    <tr>\n",
       "      <th>1</th>\n",
       "      <td>IV trimestre 2011</td>\n",
       "      <td>3170.7</td>\n",
       "      <td>534.5</td>\n",
       "      <td>572.7</td>\n",
       "      <td>68.2</td>\n",
       "      <td>37.1</td>\n",
       "      <td>124.0</td>\n",
       "      <td>28.0</td>\n",
       "      <td>228.4</td>\n",
       "      <td>87.0</td>\n",
       "      <td>...</td>\n",
       "      <td>425.7</td>\n",
       "      <td>1595.8</td>\n",
       "      <td>387.5</td>\n",
       "      <td>182.8</td>\n",
       "      <td>114.6</td>\n",
       "      <td>27.1</td>\n",
       "      <td>139.9</td>\n",
       "      <td>132.5</td>\n",
       "      <td>611.4</td>\n",
       "      <td>10.0</td>\n",
       "    </tr>\n",
       "    <tr>\n",
       "      <th>2</th>\n",
       "      <td>I trimestre 2012</td>\n",
       "      <td>3207.1</td>\n",
       "      <td>543.2</td>\n",
       "      <td>604.8</td>\n",
       "      <td>77.5</td>\n",
       "      <td>40.7</td>\n",
       "      <td>126.4</td>\n",
       "      <td>27.7</td>\n",
       "      <td>249.1</td>\n",
       "      <td>83.4</td>\n",
       "      <td>...</td>\n",
       "      <td>401.2</td>\n",
       "      <td>1601.6</td>\n",
       "      <td>400.4</td>\n",
       "      <td>186.6</td>\n",
       "      <td>113.8</td>\n",
       "      <td>27.0</td>\n",
       "      <td>142.7</td>\n",
       "      <td>127.3</td>\n",
       "      <td>603.8</td>\n",
       "      <td>18.4</td>\n",
       "    </tr>\n",
       "    <tr>\n",
       "      <th>3</th>\n",
       "      <td>II trimestre 2012</td>\n",
       "      <td>3231.6</td>\n",
       "      <td>550.0</td>\n",
       "      <td>597.9</td>\n",
       "      <td>78.2</td>\n",
       "      <td>39.4</td>\n",
       "      <td>123.4</td>\n",
       "      <td>28.5</td>\n",
       "      <td>240.8</td>\n",
       "      <td>87.6</td>\n",
       "      <td>...</td>\n",
       "      <td>432.4</td>\n",
       "      <td>1603.9</td>\n",
       "      <td>386.3</td>\n",
       "      <td>193.6</td>\n",
       "      <td>111.4</td>\n",
       "      <td>31.3</td>\n",
       "      <td>140.6</td>\n",
       "      <td>129.2</td>\n",
       "      <td>611.5</td>\n",
       "      <td>10.2</td>\n",
       "    </tr>\n",
       "    <tr>\n",
       "      <th>4</th>\n",
       "      <td>III trimestre 2012</td>\n",
       "      <td>3242.9</td>\n",
       "      <td>504.9</td>\n",
       "      <td>600.4</td>\n",
       "      <td>85.3</td>\n",
       "      <td>39.8</td>\n",
       "      <td>125.2</td>\n",
       "      <td>25.5</td>\n",
       "      <td>234.0</td>\n",
       "      <td>90.6</td>\n",
       "      <td>...</td>\n",
       "      <td>432.4</td>\n",
       "      <td>1656.2</td>\n",
       "      <td>403.1</td>\n",
       "      <td>200.4</td>\n",
       "      <td>124.4</td>\n",
       "      <td>28.8</td>\n",
       "      <td>149.0</td>\n",
       "      <td>127.2</td>\n",
       "      <td>623.3</td>\n",
       "      <td>10.8</td>\n",
       "    </tr>\n",
       "  </tbody>\n",
       "</table>\n",
       "<p>5 rows × 22 columns</p>\n",
       "</div>"
      ],
      "text/plain": [
       "                       \\\n",
       "0   II trimestre 2011   \n",
       "1   IV trimestre 2011   \n",
       "2    I trimestre 2012   \n",
       "3   II trimestre 2012   \n",
       "4  III trimestre 2012   \n",
       "\n",
       "   Répartition de la population active occupée selon le secteur d'activité  \\\n",
       "0                                             3139.8                         \n",
       "1                                             3170.7                         \n",
       "2                                             3207.1                         \n",
       "3                                             3231.6                         \n",
       "4                                             3242.9                         \n",
       "\n",
       "   Population active occupée dans Agriculture et pêche  \\\n",
       "0                                              510.0     \n",
       "1                                              534.5     \n",
       "2                                              543.2     \n",
       "3                                              550.0     \n",
       "4                                              504.9     \n",
       "\n",
       "   Population active occupée dans l'Industries manufacturières  \\\n",
       "0                                              578.0             \n",
       "1                                              572.7             \n",
       "2                                              604.8             \n",
       "3                                              597.9             \n",
       "4                                              600.4             \n",
       "\n",
       "   Population active occupée dans l'Industries agroalimentaires  \\\n",
       "0                                               72.3              \n",
       "1                                               68.2              \n",
       "2                                               77.5              \n",
       "3                                               78.2              \n",
       "4                                               85.3              \n",
       "\n",
       "   Population active occupée dans les matériaux de constructions, céramiques et verre  \\\n",
       "0                                               35.0                                    \n",
       "1                                               37.1                                    \n",
       "2                                               40.7                                    \n",
       "3                                               39.4                                    \n",
       "4                                               39.8                                    \n",
       "\n",
       "   Population active occupée dans  l'Industries mécaniques et électriques  \\\n",
       "0                                              119.1                        \n",
       "1                                              124.0                        \n",
       "2                                              126.4                        \n",
       "3                                              123.4                        \n",
       "4                                              125.2                        \n",
       "\n",
       "   Population active occupée dans  l'Industries chimiques  \\\n",
       "0                                               28.0        \n",
       "1                                               28.0        \n",
       "2                                               27.7        \n",
       "3                                               28.5        \n",
       "4                                               25.5        \n",
       "\n",
       "   Population active occupée dans le Textile, l’habillement et des chaussures  \\\n",
       "0                                              236.0                            \n",
       "1                                              228.4                            \n",
       "2                                              249.1                            \n",
       "3                                              240.8                            \n",
       "4                                              234.0                            \n",
       "\n",
       "   Population active occupée dans d'Autres industries manufacturières  ...  \\\n",
       "0                                               87.6                   ...   \n",
       "1                                               87.0                   ...   \n",
       "2                                               83.4                   ...   \n",
       "3                                               87.6                   ...   \n",
       "4                                               90.6                   ...   \n",
       "\n",
       "   Population active occupée dans Construction et travaux publics  \\\n",
       "0                                              441.7                \n",
       "1                                              425.7                \n",
       "2                                              401.2                \n",
       "3                                              432.4                \n",
       "4                                              432.4                \n",
       "\n",
       "   Population active occupée dans les Services  \\\n",
       "0                                       1555.8   \n",
       "1                                       1595.8   \n",
       "2                                       1601.6   \n",
       "3                                       1603.9   \n",
       "4                                       1656.2   \n",
       "\n",
       "   Population active occupée dans le Commerce  \\\n",
       "0                                       388.1   \n",
       "1                                       387.5   \n",
       "2                                       400.4   \n",
       "3                                       386.3   \n",
       "4                                       403.1   \n",
       "\n",
       "   Population active occupée dans le Transport et télécommunication  \\\n",
       "0                                              175.3                  \n",
       "1                                              182.8                  \n",
       "2                                              186.6                  \n",
       "3                                              193.6                  \n",
       "4                                              200.4                  \n",
       "\n",
       "   Population active occupée dans l'Hôtel et restauration  \\\n",
       "0                                              106.1        \n",
       "1                                              114.6        \n",
       "2                                              113.8        \n",
       "3                                              111.4        \n",
       "4                                              124.4        \n",
       "\n",
       "   Population active occupée dans les Banques et assurances  \\\n",
       "0                                               25.7          \n",
       "1                                               27.1          \n",
       "2                                               27.0          \n",
       "3                                               31.3          \n",
       "4                                               28.8          \n",
       "\n",
       "   Population active occupée dans les Services de réparation et de l'immobilier et autres services aux institutions  \\\n",
       "0                                              133.6                                                                  \n",
       "1                                              139.9                                                                  \n",
       "2                                              142.7                                                                  \n",
       "3                                              140.6                                                                  \n",
       "4                                              149.0                                                                  \n",
       "\n",
       "   Population active occupée dans les Services sociaux et culturels  \\\n",
       "0                                              138.9                  \n",
       "1                                              132.5                  \n",
       "2                                              127.3                  \n",
       "3                                              129.2                  \n",
       "4                                              127.2                  \n",
       "\n",
       "   Population active occupée dans les Services de l’éducation, la santé et administratives  \\\n",
       "0                                              588.1                                         \n",
       "1                                              611.4                                         \n",
       "2                                              603.8                                         \n",
       "3                                              611.5                                         \n",
       "4                                              623.3                                         \n",
       "\n",
       "   Population active occupée dans des activité Non déclarés  \n",
       "0                                               22.7         \n",
       "1                                               10.0         \n",
       "2                                               18.4         \n",
       "3                                               10.2         \n",
       "4                                               10.8         \n",
       "\n",
       "[5 rows x 22 columns]"
      ]
     },
     "execution_count": 4,
     "metadata": {},
     "output_type": "execute_result"
    }
   ],
   "source": [
    "df_Population_Secteur=pd.read_csv(\"~/data_viz/Project_Employement/data/tidy_data/Population occupée/Répartition de la population active occupée selon le secteur d'activité.csv\",\n",
    "                                header=1)\n",
    "df_Population_Secteur.head()"
   ]
  },
  {
   "cell_type": "code",
   "execution_count": 24,
   "metadata": {},
   "outputs": [
    {
     "data": {
      "text/html": [
       "<div>\n",
       "<style scoped>\n",
       "    .dataframe tbody tr th:only-of-type {\n",
       "        vertical-align: middle;\n",
       "    }\n",
       "\n",
       "    .dataframe tbody tr th {\n",
       "        vertical-align: top;\n",
       "    }\n",
       "\n",
       "    .dataframe thead th {\n",
       "        text-align: right;\n",
       "    }\n",
       "</style>\n",
       "<table border=\"1\" class=\"dataframe\">\n",
       "  <thead>\n",
       "    <tr style=\"text-align: right;\">\n",
       "      <th></th>\n",
       "      <th></th>\n",
       "      <th>Evolution de la population active en chômage</th>\n",
       "      <th>Population active en chômage Masculine</th>\n",
       "      <th>Population active en chômage Féminine</th>\n",
       "    </tr>\n",
       "  </thead>\n",
       "  <tbody>\n",
       "    <tr>\n",
       "      <th>0</th>\n",
       "      <td>II trimestre 2011</td>\n",
       "      <td>704.9</td>\n",
       "      <td>423.8</td>\n",
       "      <td>281.1</td>\n",
       "    </tr>\n",
       "    <tr>\n",
       "      <th>1</th>\n",
       "      <td>IV trimestre 2011</td>\n",
       "      <td>738.4</td>\n",
       "      <td>437.1</td>\n",
       "      <td>301.3</td>\n",
       "    </tr>\n",
       "    <tr>\n",
       "      <th>2</th>\n",
       "      <td>I trimestre 2012</td>\n",
       "      <td>709.7</td>\n",
       "      <td>425.7</td>\n",
       "      <td>284.0</td>\n",
       "    </tr>\n",
       "    <tr>\n",
       "      <th>3</th>\n",
       "      <td>II trimestre 2012</td>\n",
       "      <td>691.6</td>\n",
       "      <td>417.4</td>\n",
       "      <td>274.2</td>\n",
       "    </tr>\n",
       "    <tr>\n",
       "      <th>4</th>\n",
       "      <td>III trimestre 2012</td>\n",
       "      <td>665.0</td>\n",
       "      <td>400.1</td>\n",
       "      <td>264.9</td>\n",
       "    </tr>\n",
       "  </tbody>\n",
       "</table>\n",
       "</div>"
      ],
      "text/plain": [
       "                       Evolution de la population active en chômage  \\\n",
       "0   II trimestre 2011                                         704.9   \n",
       "1   IV trimestre 2011                                         738.4   \n",
       "2    I trimestre 2012                                         709.7   \n",
       "3   II trimestre 2012                                         691.6   \n",
       "4  III trimestre 2012                                         665.0   \n",
       "\n",
       "   Population active en chômage Masculine  \\\n",
       "0                                   423.8   \n",
       "1                                   437.1   \n",
       "2                                   425.7   \n",
       "3                                   417.4   \n",
       "4                                   400.1   \n",
       "\n",
       "   Population active en chômage Féminine  \n",
       "0                                  281.1  \n",
       "1                                  301.3  \n",
       "2                                  284.0  \n",
       "3                                  274.2  \n",
       "4                                  264.9  "
      ]
     },
     "execution_count": 24,
     "metadata": {},
     "output_type": "execute_result"
    }
   ],
   "source": [
    "df_Population_Ch_1=pd.read_csv(\"~/data_viz/Project_Employement/data/tidy_data/chomage/Evolution de la population active en chômage selon le sexe.csv\",\n",
    "                                header=1)\n",
    "df_Population_Ch_1.head()"
   ]
  },
  {
   "cell_type": "code",
   "execution_count": 25,
   "metadata": {},
   "outputs": [
    {
     "data": {
      "text/html": [
       "<div>\n",
       "<style scoped>\n",
       "    .dataframe tbody tr th:only-of-type {\n",
       "        vertical-align: middle;\n",
       "    }\n",
       "\n",
       "    .dataframe tbody tr th {\n",
       "        vertical-align: top;\n",
       "    }\n",
       "\n",
       "    .dataframe thead th {\n",
       "        text-align: right;\n",
       "    }\n",
       "</style>\n",
       "<table border=\"1\" class=\"dataframe\">\n",
       "  <thead>\n",
       "    <tr style=\"text-align: right;\">\n",
       "      <th></th>\n",
       "      <th></th>\n",
       "      <th>Taux de chômage des diplômés de l’enseignement supérieur</th>\n",
       "      <th>Taux de chômage des Masculins des diplômés de l’enseignement supérieur</th>\n",
       "      <th>Taux de chômage des Féminins des diplômés de l’enseignement supérieur</th>\n",
       "    </tr>\n",
       "  </thead>\n",
       "  <tbody>\n",
       "    <tr>\n",
       "      <th>0</th>\n",
       "      <td>II trimestre 2011</td>\n",
       "      <td>33.6</td>\n",
       "      <td>23.7</td>\n",
       "      <td>43.8</td>\n",
       "    </tr>\n",
       "    <tr>\n",
       "      <th>1</th>\n",
       "      <td>IV trimestre 2011</td>\n",
       "      <td>33.1</td>\n",
       "      <td>22.6</td>\n",
       "      <td>44.2</td>\n",
       "    </tr>\n",
       "    <tr>\n",
       "      <th>2</th>\n",
       "      <td>I trimestre 2012</td>\n",
       "      <td>34.2</td>\n",
       "      <td>21.0</td>\n",
       "      <td>49.4</td>\n",
       "    </tr>\n",
       "    <tr>\n",
       "      <th>3</th>\n",
       "      <td>II trimestre 2012</td>\n",
       "      <td>26.9</td>\n",
       "      <td>15.8</td>\n",
       "      <td>40.2</td>\n",
       "    </tr>\n",
       "    <tr>\n",
       "      <th>4</th>\n",
       "      <td>III trimestre 2012</td>\n",
       "      <td>32.7</td>\n",
       "      <td>20.6</td>\n",
       "      <td>46.4</td>\n",
       "    </tr>\n",
       "  </tbody>\n",
       "</table>\n",
       "</div>"
      ],
      "text/plain": [
       "                       \\\n",
       "0   II trimestre 2011   \n",
       "1   IV trimestre 2011   \n",
       "2    I trimestre 2012   \n",
       "3   II trimestre 2012   \n",
       "4  III trimestre 2012   \n",
       "\n",
       "   Taux de chômage des diplômés de l’enseignement supérieur  \\\n",
       "0                                               33.6          \n",
       "1                                               33.1          \n",
       "2                                               34.2          \n",
       "3                                               26.9          \n",
       "4                                               32.7          \n",
       "\n",
       "   Taux de chômage des Masculins des diplômés de l’enseignement supérieur  \\\n",
       "0                                               23.7                        \n",
       "1                                               22.6                        \n",
       "2                                               21.0                        \n",
       "3                                               15.8                        \n",
       "4                                               20.6                        \n",
       "\n",
       "   Taux de chômage des Féminins des diplômés de l’enseignement supérieur  \n",
       "0                                               43.8                      \n",
       "1                                               44.2                      \n",
       "2                                               49.4                      \n",
       "3                                               40.2                      \n",
       "4                                               46.4                      "
      ]
     },
     "execution_count": 25,
     "metadata": {},
     "output_type": "execute_result"
    }
   ],
   "source": [
    "df_Population_Ch_2=pd.read_csv(\"~/data_viz/Project_Employement/data/tidy_data/chomage/Taux de chômage des diplômés de l’enseignement supérieur selon le genre.csv\",\n",
    "                                header=1)\n",
    "df_Population_Ch_2.head()"
   ]
  },
  {
   "cell_type": "code",
   "execution_count": 27,
   "metadata": {},
   "outputs": [
    {
     "data": {
      "text/html": [
       "<div>\n",
       "<style scoped>\n",
       "    .dataframe tbody tr th:only-of-type {\n",
       "        vertical-align: middle;\n",
       "    }\n",
       "\n",
       "    .dataframe tbody tr th {\n",
       "        vertical-align: top;\n",
       "    }\n",
       "\n",
       "    .dataframe thead th {\n",
       "        text-align: right;\n",
       "    }\n",
       "</style>\n",
       "<table border=\"1\" class=\"dataframe\">\n",
       "  <thead>\n",
       "    <tr style=\"text-align: right;\">\n",
       "      <th></th>\n",
       "      <th></th>\n",
       "      <th>Emploi\\Chômage\\Taux de chômage\\Par sexe</th>\n",
       "      <th>Taux de chômage Masculin</th>\n",
       "      <th>Taux de chômage Féminin</th>\n",
       "    </tr>\n",
       "  </thead>\n",
       "  <tbody>\n",
       "    <tr>\n",
       "      <th>0</th>\n",
       "      <td>II trimestre 2011</td>\n",
       "      <td>18.3</td>\n",
       "      <td>15.0</td>\n",
       "      <td>27.4</td>\n",
       "    </tr>\n",
       "    <tr>\n",
       "      <th>1</th>\n",
       "      <td>IV trimestre 2011</td>\n",
       "      <td>18.9</td>\n",
       "      <td>15.4</td>\n",
       "      <td>28.2</td>\n",
       "    </tr>\n",
       "    <tr>\n",
       "      <th>2</th>\n",
       "      <td>I trimestre 2012</td>\n",
       "      <td>18.1</td>\n",
       "      <td>14.9</td>\n",
       "      <td>26.6</td>\n",
       "    </tr>\n",
       "    <tr>\n",
       "      <th>3</th>\n",
       "      <td>II trimestre 2012</td>\n",
       "      <td>17.6</td>\n",
       "      <td>14.6</td>\n",
       "      <td>25.6</td>\n",
       "    </tr>\n",
       "    <tr>\n",
       "      <th>4</th>\n",
       "      <td>III trimestre 2012</td>\n",
       "      <td>17.0</td>\n",
       "      <td>14.1</td>\n",
       "      <td>24.9</td>\n",
       "    </tr>\n",
       "  </tbody>\n",
       "</table>\n",
       "</div>"
      ],
      "text/plain": [
       "                       Emploi\\Chômage\\Taux de chômage\\Par sexe  \\\n",
       "0   II trimestre 2011                                     18.3   \n",
       "1   IV trimestre 2011                                     18.9   \n",
       "2    I trimestre 2012                                     18.1   \n",
       "3   II trimestre 2012                                     17.6   \n",
       "4  III trimestre 2012                                     17.0   \n",
       "\n",
       "   Taux de chômage Masculin  Taux de chômage Féminin  \n",
       "0                      15.0                     27.4  \n",
       "1                      15.4                     28.2  \n",
       "2                      14.9                     26.6  \n",
       "3                      14.6                     25.6  \n",
       "4                      14.1                     24.9  "
      ]
     },
     "execution_count": 27,
     "metadata": {},
     "output_type": "execute_result"
    }
   ],
   "source": [
    "df_Population_Ch_3=pd.read_csv(\"~/data_viz/Project_Employement/data/tidy_data/chomage/Taux de chômage selon le sexe.csv\",\n",
    "                                header=1)\n",
    "df_Population_Ch_3.head()"
   ]
  },
  {
   "cell_type": "code",
   "execution_count": 28,
   "metadata": {},
   "outputs": [
    {
     "data": {
      "text/html": [
       "<div>\n",
       "<style scoped>\n",
       "    .dataframe tbody tr th:only-of-type {\n",
       "        vertical-align: middle;\n",
       "    }\n",
       "\n",
       "    .dataframe tbody tr th {\n",
       "        vertical-align: top;\n",
       "    }\n",
       "\n",
       "    .dataframe thead th {\n",
       "        text-align: right;\n",
       "    }\n",
       "</style>\n",
       "<table border=\"1\" class=\"dataframe\">\n",
       "  <thead>\n",
       "    <tr style=\"text-align: right;\">\n",
       "      <th></th>\n",
       "      <th></th>\n",
       "      <th>Evolution des demandes d'emploi enregistrées</th>\n",
       "      <th>Demandes d'emploi enregistrées des Masculins</th>\n",
       "      <th>demandes d'emploi enregistrées des Feminins</th>\n",
       "      <th>Dont première demande</th>\n",
       "    </tr>\n",
       "  </thead>\n",
       "  <tbody>\n",
       "    <tr>\n",
       "      <th>0</th>\n",
       "      <td>2007</td>\n",
       "      <td>522082</td>\n",
       "      <td>257589</td>\n",
       "      <td>264493</td>\n",
       "      <td>447946</td>\n",
       "    </tr>\n",
       "    <tr>\n",
       "      <th>1</th>\n",
       "      <td>2008</td>\n",
       "      <td>565907</td>\n",
       "      <td>273957</td>\n",
       "      <td>291950</td>\n",
       "      <td>494571</td>\n",
       "    </tr>\n",
       "    <tr>\n",
       "      <th>2</th>\n",
       "      <td>2009</td>\n",
       "      <td>547879</td>\n",
       "      <td>252491</td>\n",
       "      <td>295388</td>\n",
       "      <td>482485</td>\n",
       "    </tr>\n",
       "    <tr>\n",
       "      <th>3</th>\n",
       "      <td>2010</td>\n",
       "      <td>604327</td>\n",
       "      <td>270754</td>\n",
       "      <td>333573</td>\n",
       "      <td>543842</td>\n",
       "    </tr>\n",
       "    <tr>\n",
       "      <th>4</th>\n",
       "      <td>2011</td>\n",
       "      <td>802421</td>\n",
       "      <td>365751</td>\n",
       "      <td>436670</td>\n",
       "      <td>747698</td>\n",
       "    </tr>\n",
       "  </tbody>\n",
       "</table>\n",
       "</div>"
      ],
      "text/plain": [
       "         Evolution des demandes d'emploi enregistrées  \\\n",
       "0  2007                                        522082   \n",
       "1  2008                                        565907   \n",
       "2  2009                                        547879   \n",
       "3  2010                                        604327   \n",
       "4  2011                                        802421   \n",
       "\n",
       "   Demandes d'emploi enregistrées des Masculins  \\\n",
       "0                                        257589   \n",
       "1                                        273957   \n",
       "2                                        252491   \n",
       "3                                        270754   \n",
       "4                                        365751   \n",
       "\n",
       "   demandes d'emploi enregistrées des Feminins  Dont première demande  \n",
       "0                                       264493                 447946  \n",
       "1                                       291950                 494571  \n",
       "2                                       295388                 482485  \n",
       "3                                       333573                 543842  \n",
       "4                                       436670                 747698  "
      ]
     },
     "execution_count": 28,
     "metadata": {},
     "output_type": "execute_result"
    }
   ],
   "source": [
    "df_Population_Be_1=pd.read_csv(\"~/data_viz/Project_Employement/data/tidy_data/bureau d'emploi/Socio économique 02_22_2020 22_04_20.csv\",\n",
    "                                header=1)\n",
    "df_Population_Be_1.head()"
   ]
  },
  {
   "cell_type": "code",
   "execution_count": 30,
   "metadata": {},
   "outputs": [
    {
     "data": {
      "text/html": [
       "<div>\n",
       "<style scoped>\n",
       "    .dataframe tbody tr th:only-of-type {\n",
       "        vertical-align: middle;\n",
       "    }\n",
       "\n",
       "    .dataframe tbody tr th {\n",
       "        vertical-align: top;\n",
       "    }\n",
       "\n",
       "    .dataframe thead th {\n",
       "        text-align: right;\n",
       "    }\n",
       "</style>\n",
       "<table border=\"1\" class=\"dataframe\">\n",
       "  <thead>\n",
       "    <tr style=\"text-align: right;\">\n",
       "      <th></th>\n",
       "      <th></th>\n",
       "      <th>Evolution des offres d'emploi reçus</th>\n",
       "      <th>Placements réalisées par Sexe</th>\n",
       "      <th>Placements réalisées  des Masculins</th>\n",
       "      <th>Placements réalisées des Feminins</th>\n",
       "      <th>Dont premier emploi</th>\n",
       "    </tr>\n",
       "  </thead>\n",
       "  <tbody>\n",
       "    <tr>\n",
       "      <th>0</th>\n",
       "      <td>2007</td>\n",
       "      <td>142042</td>\n",
       "      <td>124572</td>\n",
       "      <td>71399</td>\n",
       "      <td>53173</td>\n",
       "      <td>78841</td>\n",
       "    </tr>\n",
       "    <tr>\n",
       "      <th>1</th>\n",
       "      <td>2008</td>\n",
       "      <td>147466</td>\n",
       "      <td>134224</td>\n",
       "      <td>75548</td>\n",
       "      <td>58676</td>\n",
       "      <td>91805</td>\n",
       "    </tr>\n",
       "    <tr>\n",
       "      <th>2</th>\n",
       "      <td>2009</td>\n",
       "      <td>159893</td>\n",
       "      <td>131403</td>\n",
       "      <td>73000</td>\n",
       "      <td>58403</td>\n",
       "      <td>92649</td>\n",
       "    </tr>\n",
       "    <tr>\n",
       "      <th>3</th>\n",
       "      <td>2010</td>\n",
       "      <td>176196</td>\n",
       "      <td>123421</td>\n",
       "      <td>66182</td>\n",
       "      <td>57239</td>\n",
       "      <td>87837</td>\n",
       "    </tr>\n",
       "    <tr>\n",
       "      <th>4</th>\n",
       "      <td>2011</td>\n",
       "      <td>100364</td>\n",
       "      <td>46471</td>\n",
       "      <td>22286</td>\n",
       "      <td>24185</td>\n",
       "      <td>37622</td>\n",
       "    </tr>\n",
       "  </tbody>\n",
       "</table>\n",
       "</div>"
      ],
      "text/plain": [
       "         Evolution des offres d'emploi reçus  Placements réalisées par Sexe  \\\n",
       "0  2007                               142042                         124572   \n",
       "1  2008                               147466                         134224   \n",
       "2  2009                               159893                         131403   \n",
       "3  2010                               176196                         123421   \n",
       "4  2011                               100364                          46471   \n",
       "\n",
       "   Placements réalisées  des Masculins  Placements réalisées des Feminins  \\\n",
       "0                                71399                              53173   \n",
       "1                                75548                              58676   \n",
       "2                                73000                              58403   \n",
       "3                                66182                              57239   \n",
       "4                                22286                              24185   \n",
       "\n",
       "   Dont premier emploi  \n",
       "0                78841  \n",
       "1                91805  \n",
       "2                92649  \n",
       "3                87837  \n",
       "4                37622  "
      ]
     },
     "execution_count": 30,
     "metadata": {},
     "output_type": "execute_result"
    }
   ],
   "source": [
    "df_Population_Be_2=pd.read_csv(\"~/data_viz/Project_Employement/data/tidy_data/bureau d'emploi/Socio économique 02_22_2020 22_12_13.csv\",\n",
    "                                header=1)\n",
    "df_Population_Be_2.head()"
   ]
  },
  {
   "cell_type": "code",
   "execution_count": 5,
   "metadata": {},
   "outputs": [
    {
     "data": {
      "text/html": [
       "<div>\n",
       "<style scoped>\n",
       "    .dataframe tbody tr th:only-of-type {\n",
       "        vertical-align: middle;\n",
       "    }\n",
       "\n",
       "    .dataframe tbody tr th {\n",
       "        vertical-align: top;\n",
       "    }\n",
       "\n",
       "    .dataframe thead th {\n",
       "        text-align: right;\n",
       "    }\n",
       "</style>\n",
       "<table border=\"1\" class=\"dataframe\">\n",
       "  <thead>\n",
       "    <tr style=\"text-align: right;\">\n",
       "      <th></th>\n",
       "      <th>gouvernorat</th>\n",
       "      <th>superficie(Km2)</th>\n",
       "      <th>population(k)</th>\n",
       "      <th>taux de chomâge</th>\n",
       "    </tr>\n",
       "  </thead>\n",
       "  <tbody>\n",
       "    <tr>\n",
       "      <th>0</th>\n",
       "      <td>Ariana</td>\n",
       "      <td>482</td>\n",
       "      <td>629060</td>\n",
       "      <td>11.24</td>\n",
       "    </tr>\n",
       "    <tr>\n",
       "      <th>1</th>\n",
       "      <td>Beja</td>\n",
       "      <td>3740</td>\n",
       "      <td>306590</td>\n",
       "      <td>17.83</td>\n",
       "    </tr>\n",
       "    <tr>\n",
       "      <th>2</th>\n",
       "      <td>Ben Arous</td>\n",
       "      <td>761</td>\n",
       "      <td>678330</td>\n",
       "      <td>13.12</td>\n",
       "    </tr>\n",
       "    <tr>\n",
       "      <th>3</th>\n",
       "      <td>Bizerte</td>\n",
       "      <td>3750</td>\n",
       "      <td>586030</td>\n",
       "      <td>13.11</td>\n",
       "    </tr>\n",
       "    <tr>\n",
       "      <th>4</th>\n",
       "      <td>Gabes</td>\n",
       "      <td>7170</td>\n",
       "      <td>391480</td>\n",
       "      <td>19.06</td>\n",
       "    </tr>\n",
       "  </tbody>\n",
       "</table>\n",
       "</div>"
      ],
      "text/plain": [
       "  gouvernorat  superficie(Km2)  population(k)  taux de chomâge\n",
       "0      Ariana              482         629060            11.24\n",
       "1        Beja             3740         306590            17.83\n",
       "2   Ben Arous              761         678330            13.12\n",
       "3     Bizerte             3750         586030            13.11\n",
       "4       Gabes             7170         391480            19.06"
      ]
     },
     "execution_count": 5,
     "metadata": {},
     "output_type": "execute_result"
    }
   ],
   "source": [
    "df_region=pd.read_excel(\"~/data_viz/Project_Employement/data/raw_data/region.xlsx\")\n",
    "df_region.head()"
   ]
  },
  {
   "cell_type": "code",
   "execution_count": 7,
   "metadata": {},
   "outputs": [
    {
     "name": "stdout",
     "output_type": "stream",
     "text": [
      "Collecting plotly==4.5.4\n",
      "  Downloading https://files.pythonhosted.org/packages/f5/c3/03a183b94441da857e7d2b0564cb482bd15824dc1af2d2b337ea6e538c8f/plotly-4.5.4-py2.py3-none-any.whl (7.1MB)\n",
      "Requirement already satisfied: six in c:\\users\\ilhem\\anaconda3\\lib\\site-packages (from plotly==4.5.4) (1.13.0)\n",
      "Collecting retrying>=1.3.3\n",
      "  Downloading https://files.pythonhosted.org/packages/44/ef/beae4b4ef80902f22e3af073397f079c96969c69b2c7d52a57ea9ae61c9d/retrying-1.3.3.tar.gz\n",
      "Building wheels for collected packages: retrying\n",
      "  Building wheel for retrying (setup.py): started\n",
      "  Building wheel for retrying (setup.py): finished with status 'done'\n",
      "  Created wheel for retrying: filename=retrying-1.3.3-cp37-none-any.whl size=11435 sha256=f2c49086f686f64a585427d880850b5deff27a60fef5e72388c19f0080a2ed97\n",
      "  Stored in directory: C:\\Users\\Ilhem\\AppData\\Local\\pip\\Cache\\wheels\\d7\\a9\\33\\acc7b709e2a35caa7d4cae442f6fe6fbf2c43f80823d46460c\n",
      "Successfully built retrying\n",
      "Installing collected packages: retrying, plotly\n",
      "Successfully installed plotly-4.5.4 retrying-1.3.3\n",
      "Note: you may need to restart the kernel to use updated packages.\n"
     ]
    }
   ],
   "source": [
    "pip install plotly==4.5.4"
   ]
  }
 ],
 "metadata": {
  "kernelspec": {
   "display_name": "Python 3",
   "language": "python",
   "name": "python3"
  },
  "language_info": {
   "codemirror_mode": {
    "name": "ipython",
    "version": 3
   },
   "file_extension": ".py",
   "mimetype": "text/x-python",
   "name": "python",
   "nbconvert_exporter": "python",
   "pygments_lexer": "ipython3",
   "version": "3.7.3"
  }
 },
 "nbformat": 4,
 "nbformat_minor": 2
}
