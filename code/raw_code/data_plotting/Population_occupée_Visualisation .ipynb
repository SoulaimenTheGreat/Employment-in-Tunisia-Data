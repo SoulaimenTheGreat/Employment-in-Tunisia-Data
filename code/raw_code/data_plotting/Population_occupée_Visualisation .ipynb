{
 "cells": [
  {
   "cell_type": "code",
   "execution_count": 1,
   "metadata": {},
   "outputs": [],
   "source": [
    "import pandas as pd\n",
    "import numpy as np\n",
    "import plotly.express as px\n",
    "import plotly.graph_objects as go\n",
    "from sklearn.preprocessing import MinMaxScaler\n",
    "from plotly.subplots import make_subplots"
   ]
  },
  {
   "cell_type": "code",
   "execution_count": 51,
   "metadata": {},
   "outputs": [
    {
     "data": {
      "text/html": [
       "<div>\n",
       "<style scoped>\n",
       "    .dataframe tbody tr th:only-of-type {\n",
       "        vertical-align: middle;\n",
       "    }\n",
       "\n",
       "    .dataframe tbody tr th {\n",
       "        vertical-align: top;\n",
       "    }\n",
       "\n",
       "    .dataframe thead th {\n",
       "        text-align: right;\n",
       "    }\n",
       "</style>\n",
       "<table border=\"1\" class=\"dataframe\">\n",
       "  <thead>\n",
       "    <tr style=\"text-align: right;\">\n",
       "      <th></th>\n",
       "      <th></th>\n",
       "      <th>Evolution de la population en âge d'activité (15 ans et plus)</th>\n",
       "      <th>Evolution de la population Masculine (15 ans et plus)</th>\n",
       "      <th>Evolution de la population Féminine (15 ans et plus)</th>\n",
       "    </tr>\n",
       "  </thead>\n",
       "  <tbody>\n",
       "    <tr>\n",
       "      <th>0</th>\n",
       "      <td>II trimestre 2011</td>\n",
       "      <td>8146.6</td>\n",
       "      <td>4019.1</td>\n",
       "      <td>4127.5</td>\n",
       "    </tr>\n",
       "    <tr>\n",
       "      <th>1</th>\n",
       "      <td>IV trimestre 2011</td>\n",
       "      <td>8175.2</td>\n",
       "      <td>4027.4</td>\n",
       "      <td>4147.8</td>\n",
       "    </tr>\n",
       "    <tr>\n",
       "      <th>2</th>\n",
       "      <td>I trimestre 2012</td>\n",
       "      <td>8190.5</td>\n",
       "      <td>4045.7</td>\n",
       "      <td>4144.8</td>\n",
       "    </tr>\n",
       "    <tr>\n",
       "      <th>3</th>\n",
       "      <td>II trimestre 2012</td>\n",
       "      <td>8211.7</td>\n",
       "      <td>4056.4</td>\n",
       "      <td>4155.3</td>\n",
       "    </tr>\n",
       "    <tr>\n",
       "      <th>4</th>\n",
       "      <td>III trimestre 2012</td>\n",
       "      <td>8255.8</td>\n",
       "      <td>4062.0</td>\n",
       "      <td>4193.8</td>\n",
       "    </tr>\n",
       "  </tbody>\n",
       "</table>\n",
       "</div>"
      ],
      "text/plain": [
       "                       \\\n",
       "0   II trimestre 2011   \n",
       "1   IV trimestre 2011   \n",
       "2    I trimestre 2012   \n",
       "3   II trimestre 2012   \n",
       "4  III trimestre 2012   \n",
       "\n",
       "   Evolution de la population en âge d'activité (15 ans et plus)  \\\n",
       "0                                             8146.6               \n",
       "1                                             8175.2               \n",
       "2                                             8190.5               \n",
       "3                                             8211.7               \n",
       "4                                             8255.8               \n",
       "\n",
       "   Evolution de la population Masculine (15 ans et plus)  \\\n",
       "0                                             4019.1       \n",
       "1                                             4027.4       \n",
       "2                                             4045.7       \n",
       "3                                             4056.4       \n",
       "4                                             4062.0       \n",
       "\n",
       "   Evolution de la population Féminine (15 ans et plus)  \n",
       "0                                             4127.5     \n",
       "1                                             4147.8     \n",
       "2                                             4144.8     \n",
       "3                                             4155.3     \n",
       "4                                             4193.8     "
      ]
     },
     "execution_count": 51,
     "metadata": {},
     "output_type": "execute_result"
    }
   ],
   "source": [
    "df_Population_O_1=pd.read_csv(\"~/data_viz/Project_Employement/data/tidy_data/Population occupée/Evolution de la population en âge d'activité (15 ans et plus) selon le sexe.csv\",\n",
    "                                header=1)\n",
    "df_Population_O_1.head()"
   ]
  },
  {
   "cell_type": "code",
   "execution_count": 56,
   "metadata": {},
   "outputs": [
    {
     "data": {
      "application/vnd.plotly.v1+json": {
       "config": {
        "plotlyServerURL": "https://plot.ly"
       },
       "data": [
        {
         "line": {
          "color": "royalblue"
         },
         "name": "Total",
         "type": "scatter",
         "x": [
          "II trimestre 2011",
          "IV trimestre 2011",
          "I trimestre 2012",
          "II trimestre 2012",
          "III trimestre 2012",
          "IV trimestre 2012",
          "I trimestre 2013",
          "II trimestre 2013",
          "III trimestre 2013",
          "IV trimestre 2013",
          "I trimestre 2014",
          "III trimestre 2014",
          "IV trimestre 2014",
          "I trimestre 2015",
          "II trimestre 2015",
          "III trimestre 2015",
          "IV trimestre 2015",
          "I trimestre 2016",
          "II trimestre 2016",
          "III trimestre 2016",
          "IV trimestre 2016",
          "I trimestre 2017",
          "II trimestre 2017",
          "III trimestre 2017",
          "IV trimestre 2017",
          "I trimestre 2018",
          "II trimestre 2018",
          "III trimestre 2018",
          "IV trimestre 2018",
          "I trimestre 2019",
          "II trimestre 2019",
          "III trimestre 2019",
          "IV trimestre 2019"
         ],
         "xaxis": "x",
         "y": [
          8146.6,
          8175.2,
          8190.5,
          8211.7,
          8255.8,
          8282.7,
          8294.6,
          8315.7,
          8349.5,
          8383.5,
          8409.5,
          8396.6,
          8422.8,
          8454.392,
          8480.59,
          8498.5,
          8529.7,
          8554.4,
          8580.9,
          8609.2,
          8638.6,
          8666.8,
          8694.333,
          8721.7,
          8745.189999999999,
          8768.636,
          8793.6,
          8811.4,
          8834.28,
          8857.2,
          8856.2,
          8877.4,
          8898.6
         ],
         "yaxis": "y"
        },
        {
         "marker": {
          "color": "indianred"
         },
         "name": "Homme",
         "type": "bar",
         "x": [
          "II trimestre 2011",
          "IV trimestre 2011",
          "I trimestre 2012",
          "II trimestre 2012",
          "III trimestre 2012",
          "IV trimestre 2012",
          "I trimestre 2013",
          "II trimestre 2013",
          "III trimestre 2013",
          "IV trimestre 2013",
          "I trimestre 2014",
          "III trimestre 2014",
          "IV trimestre 2014",
          "I trimestre 2015",
          "II trimestre 2015",
          "III trimestre 2015",
          "IV trimestre 2015",
          "I trimestre 2016",
          "II trimestre 2016",
          "III trimestre 2016",
          "IV trimestre 2016",
          "I trimestre 2017",
          "II trimestre 2017",
          "III trimestre 2017",
          "IV trimestre 2017",
          "I trimestre 2018",
          "II trimestre 2018",
          "III trimestre 2018",
          "IV trimestre 2018",
          "I trimestre 2019",
          "II trimestre 2019",
          "III trimestre 2019",
          "IV trimestre 2019"
         ],
         "xaxis": "x2",
         "y": [
          4019.1,
          4027.4,
          4045.7,
          4056.4,
          4062,
          4073.5,
          4077.7,
          4086.4,
          4104.7,
          4123.1,
          4131.1,
          4130.5,
          4143.5,
          4159.13,
          4172.096,
          4180.5,
          4195.9,
          4208,
          4211.6,
          4225.9,
          4240.3,
          4254.2,
          4263.522,
          4277,
          4288.566,
          4300.127,
          4312.4,
          4320.7,
          4331.33,
          4342,
          4333.9,
          4343.7,
          4353.6
         ],
         "yaxis": "y2"
        },
        {
         "marker": {
          "color": "lightsalmon"
         },
         "name": "Femme",
         "type": "bar",
         "x": [
          "II trimestre 2011",
          "IV trimestre 2011",
          "I trimestre 2012",
          "II trimestre 2012",
          "III trimestre 2012",
          "IV trimestre 2012",
          "I trimestre 2013",
          "II trimestre 2013",
          "III trimestre 2013",
          "IV trimestre 2013",
          "I trimestre 2014",
          "III trimestre 2014",
          "IV trimestre 2014",
          "I trimestre 2015",
          "II trimestre 2015",
          "III trimestre 2015",
          "IV trimestre 2015",
          "I trimestre 2016",
          "II trimestre 2016",
          "III trimestre 2016",
          "IV trimestre 2016",
          "I trimestre 2017",
          "II trimestre 2017",
          "III trimestre 2017",
          "IV trimestre 2017",
          "I trimestre 2018",
          "II trimestre 2018",
          "III trimestre 2018",
          "IV trimestre 2018",
          "I trimestre 2019",
          "II trimestre 2019",
          "III trimestre 2019",
          "IV trimestre 2019"
         ],
         "xaxis": "x2",
         "y": [
          4127.5,
          4147.8,
          4144.8,
          4155.3,
          4193.8,
          4209.2,
          4216.9,
          4229.3,
          4244.8,
          4260.4,
          4278.4,
          4266.1,
          4279.3,
          4295.2620000000015,
          4308.4940000000015,
          4318,
          4333.8,
          4346.4,
          4369.3,
          4383.3,
          4398.3,
          4412.6,
          4430.811,
          4444.7,
          4456.624000000002,
          4468.509,
          4481.2,
          4490.7,
          4502.95,
          4515.2,
          4522.3,
          4533.7,
          4545
         ],
         "yaxis": "y2"
        }
       ],
       "layout": {
        "template": {
         "data": {
          "bar": [
           {
            "error_x": {
             "color": "#2a3f5f"
            },
            "error_y": {
             "color": "#2a3f5f"
            },
            "marker": {
             "line": {
              "color": "#E5ECF6",
              "width": 0.5
             }
            },
            "type": "bar"
           }
          ],
          "barpolar": [
           {
            "marker": {
             "line": {
              "color": "#E5ECF6",
              "width": 0.5
             }
            },
            "type": "barpolar"
           }
          ],
          "carpet": [
           {
            "aaxis": {
             "endlinecolor": "#2a3f5f",
             "gridcolor": "white",
             "linecolor": "white",
             "minorgridcolor": "white",
             "startlinecolor": "#2a3f5f"
            },
            "baxis": {
             "endlinecolor": "#2a3f5f",
             "gridcolor": "white",
             "linecolor": "white",
             "minorgridcolor": "white",
             "startlinecolor": "#2a3f5f"
            },
            "type": "carpet"
           }
          ],
          "choropleth": [
           {
            "colorbar": {
             "outlinewidth": 0,
             "ticks": ""
            },
            "type": "choropleth"
           }
          ],
          "contour": [
           {
            "colorbar": {
             "outlinewidth": 0,
             "ticks": ""
            },
            "colorscale": [
             [
              0,
              "#0d0887"
             ],
             [
              0.1111111111111111,
              "#46039f"
             ],
             [
              0.2222222222222222,
              "#7201a8"
             ],
             [
              0.3333333333333333,
              "#9c179e"
             ],
             [
              0.4444444444444444,
              "#bd3786"
             ],
             [
              0.5555555555555556,
              "#d8576b"
             ],
             [
              0.6666666666666666,
              "#ed7953"
             ],
             [
              0.7777777777777778,
              "#fb9f3a"
             ],
             [
              0.8888888888888888,
              "#fdca26"
             ],
             [
              1,
              "#f0f921"
             ]
            ],
            "type": "contour"
           }
          ],
          "contourcarpet": [
           {
            "colorbar": {
             "outlinewidth": 0,
             "ticks": ""
            },
            "type": "contourcarpet"
           }
          ],
          "heatmap": [
           {
            "colorbar": {
             "outlinewidth": 0,
             "ticks": ""
            },
            "colorscale": [
             [
              0,
              "#0d0887"
             ],
             [
              0.1111111111111111,
              "#46039f"
             ],
             [
              0.2222222222222222,
              "#7201a8"
             ],
             [
              0.3333333333333333,
              "#9c179e"
             ],
             [
              0.4444444444444444,
              "#bd3786"
             ],
             [
              0.5555555555555556,
              "#d8576b"
             ],
             [
              0.6666666666666666,
              "#ed7953"
             ],
             [
              0.7777777777777778,
              "#fb9f3a"
             ],
             [
              0.8888888888888888,
              "#fdca26"
             ],
             [
              1,
              "#f0f921"
             ]
            ],
            "type": "heatmap"
           }
          ],
          "heatmapgl": [
           {
            "colorbar": {
             "outlinewidth": 0,
             "ticks": ""
            },
            "colorscale": [
             [
              0,
              "#0d0887"
             ],
             [
              0.1111111111111111,
              "#46039f"
             ],
             [
              0.2222222222222222,
              "#7201a8"
             ],
             [
              0.3333333333333333,
              "#9c179e"
             ],
             [
              0.4444444444444444,
              "#bd3786"
             ],
             [
              0.5555555555555556,
              "#d8576b"
             ],
             [
              0.6666666666666666,
              "#ed7953"
             ],
             [
              0.7777777777777778,
              "#fb9f3a"
             ],
             [
              0.8888888888888888,
              "#fdca26"
             ],
             [
              1,
              "#f0f921"
             ]
            ],
            "type": "heatmapgl"
           }
          ],
          "histogram": [
           {
            "marker": {
             "colorbar": {
              "outlinewidth": 0,
              "ticks": ""
             }
            },
            "type": "histogram"
           }
          ],
          "histogram2d": [
           {
            "colorbar": {
             "outlinewidth": 0,
             "ticks": ""
            },
            "colorscale": [
             [
              0,
              "#0d0887"
             ],
             [
              0.1111111111111111,
              "#46039f"
             ],
             [
              0.2222222222222222,
              "#7201a8"
             ],
             [
              0.3333333333333333,
              "#9c179e"
             ],
             [
              0.4444444444444444,
              "#bd3786"
             ],
             [
              0.5555555555555556,
              "#d8576b"
             ],
             [
              0.6666666666666666,
              "#ed7953"
             ],
             [
              0.7777777777777778,
              "#fb9f3a"
             ],
             [
              0.8888888888888888,
              "#fdca26"
             ],
             [
              1,
              "#f0f921"
             ]
            ],
            "type": "histogram2d"
           }
          ],
          "histogram2dcontour": [
           {
            "colorbar": {
             "outlinewidth": 0,
             "ticks": ""
            },
            "colorscale": [
             [
              0,
              "#0d0887"
             ],
             [
              0.1111111111111111,
              "#46039f"
             ],
             [
              0.2222222222222222,
              "#7201a8"
             ],
             [
              0.3333333333333333,
              "#9c179e"
             ],
             [
              0.4444444444444444,
              "#bd3786"
             ],
             [
              0.5555555555555556,
              "#d8576b"
             ],
             [
              0.6666666666666666,
              "#ed7953"
             ],
             [
              0.7777777777777778,
              "#fb9f3a"
             ],
             [
              0.8888888888888888,
              "#fdca26"
             ],
             [
              1,
              "#f0f921"
             ]
            ],
            "type": "histogram2dcontour"
           }
          ],
          "mesh3d": [
           {
            "colorbar": {
             "outlinewidth": 0,
             "ticks": ""
            },
            "type": "mesh3d"
           }
          ],
          "parcoords": [
           {
            "line": {
             "colorbar": {
              "outlinewidth": 0,
              "ticks": ""
             }
            },
            "type": "parcoords"
           }
          ],
          "pie": [
           {
            "automargin": true,
            "type": "pie"
           }
          ],
          "scatter": [
           {
            "marker": {
             "colorbar": {
              "outlinewidth": 0,
              "ticks": ""
             }
            },
            "type": "scatter"
           }
          ],
          "scatter3d": [
           {
            "line": {
             "colorbar": {
              "outlinewidth": 0,
              "ticks": ""
             }
            },
            "marker": {
             "colorbar": {
              "outlinewidth": 0,
              "ticks": ""
             }
            },
            "type": "scatter3d"
           }
          ],
          "scattercarpet": [
           {
            "marker": {
             "colorbar": {
              "outlinewidth": 0,
              "ticks": ""
             }
            },
            "type": "scattercarpet"
           }
          ],
          "scattergeo": [
           {
            "marker": {
             "colorbar": {
              "outlinewidth": 0,
              "ticks": ""
             }
            },
            "type": "scattergeo"
           }
          ],
          "scattergl": [
           {
            "marker": {
             "colorbar": {
              "outlinewidth": 0,
              "ticks": ""
             }
            },
            "type": "scattergl"
           }
          ],
          "scattermapbox": [
           {
            "marker": {
             "colorbar": {
              "outlinewidth": 0,
              "ticks": ""
             }
            },
            "type": "scattermapbox"
           }
          ],
          "scatterpolar": [
           {
            "marker": {
             "colorbar": {
              "outlinewidth": 0,
              "ticks": ""
             }
            },
            "type": "scatterpolar"
           }
          ],
          "scatterpolargl": [
           {
            "marker": {
             "colorbar": {
              "outlinewidth": 0,
              "ticks": ""
             }
            },
            "type": "scatterpolargl"
           }
          ],
          "scatterternary": [
           {
            "marker": {
             "colorbar": {
              "outlinewidth": 0,
              "ticks": ""
             }
            },
            "type": "scatterternary"
           }
          ],
          "surface": [
           {
            "colorbar": {
             "outlinewidth": 0,
             "ticks": ""
            },
            "colorscale": [
             [
              0,
              "#0d0887"
             ],
             [
              0.1111111111111111,
              "#46039f"
             ],
             [
              0.2222222222222222,
              "#7201a8"
             ],
             [
              0.3333333333333333,
              "#9c179e"
             ],
             [
              0.4444444444444444,
              "#bd3786"
             ],
             [
              0.5555555555555556,
              "#d8576b"
             ],
             [
              0.6666666666666666,
              "#ed7953"
             ],
             [
              0.7777777777777778,
              "#fb9f3a"
             ],
             [
              0.8888888888888888,
              "#fdca26"
             ],
             [
              1,
              "#f0f921"
             ]
            ],
            "type": "surface"
           }
          ],
          "table": [
           {
            "cells": {
             "fill": {
              "color": "#EBF0F8"
             },
             "line": {
              "color": "white"
             }
            },
            "header": {
             "fill": {
              "color": "#C8D4E3"
             },
             "line": {
              "color": "white"
             }
            },
            "type": "table"
           }
          ]
         },
         "layout": {
          "annotationdefaults": {
           "arrowcolor": "#2a3f5f",
           "arrowhead": 0,
           "arrowwidth": 1
          },
          "coloraxis": {
           "colorbar": {
            "outlinewidth": 0,
            "ticks": ""
           }
          },
          "colorscale": {
           "diverging": [
            [
             0,
             "#8e0152"
            ],
            [
             0.1,
             "#c51b7d"
            ],
            [
             0.2,
             "#de77ae"
            ],
            [
             0.3,
             "#f1b6da"
            ],
            [
             0.4,
             "#fde0ef"
            ],
            [
             0.5,
             "#f7f7f7"
            ],
            [
             0.6,
             "#e6f5d0"
            ],
            [
             0.7,
             "#b8e186"
            ],
            [
             0.8,
             "#7fbc41"
            ],
            [
             0.9,
             "#4d9221"
            ],
            [
             1,
             "#276419"
            ]
           ],
           "sequential": [
            [
             0,
             "#0d0887"
            ],
            [
             0.1111111111111111,
             "#46039f"
            ],
            [
             0.2222222222222222,
             "#7201a8"
            ],
            [
             0.3333333333333333,
             "#9c179e"
            ],
            [
             0.4444444444444444,
             "#bd3786"
            ],
            [
             0.5555555555555556,
             "#d8576b"
            ],
            [
             0.6666666666666666,
             "#ed7953"
            ],
            [
             0.7777777777777778,
             "#fb9f3a"
            ],
            [
             0.8888888888888888,
             "#fdca26"
            ],
            [
             1,
             "#f0f921"
            ]
           ],
           "sequentialminus": [
            [
             0,
             "#0d0887"
            ],
            [
             0.1111111111111111,
             "#46039f"
            ],
            [
             0.2222222222222222,
             "#7201a8"
            ],
            [
             0.3333333333333333,
             "#9c179e"
            ],
            [
             0.4444444444444444,
             "#bd3786"
            ],
            [
             0.5555555555555556,
             "#d8576b"
            ],
            [
             0.6666666666666666,
             "#ed7953"
            ],
            [
             0.7777777777777778,
             "#fb9f3a"
            ],
            [
             0.8888888888888888,
             "#fdca26"
            ],
            [
             1,
             "#f0f921"
            ]
           ]
          },
          "colorway": [
           "#636efa",
           "#EF553B",
           "#00cc96",
           "#ab63fa",
           "#FFA15A",
           "#19d3f3",
           "#FF6692",
           "#B6E880",
           "#FF97FF",
           "#FECB52"
          ],
          "font": {
           "color": "#2a3f5f"
          },
          "geo": {
           "bgcolor": "white",
           "lakecolor": "white",
           "landcolor": "#E5ECF6",
           "showlakes": true,
           "showland": true,
           "subunitcolor": "white"
          },
          "hoverlabel": {
           "align": "left"
          },
          "hovermode": "closest",
          "mapbox": {
           "style": "light"
          },
          "paper_bgcolor": "white",
          "plot_bgcolor": "#E5ECF6",
          "polar": {
           "angularaxis": {
            "gridcolor": "white",
            "linecolor": "white",
            "ticks": ""
           },
           "bgcolor": "#E5ECF6",
           "radialaxis": {
            "gridcolor": "white",
            "linecolor": "white",
            "ticks": ""
           }
          },
          "scene": {
           "xaxis": {
            "backgroundcolor": "#E5ECF6",
            "gridcolor": "white",
            "gridwidth": 2,
            "linecolor": "white",
            "showbackground": true,
            "ticks": "",
            "zerolinecolor": "white"
           },
           "yaxis": {
            "backgroundcolor": "#E5ECF6",
            "gridcolor": "white",
            "gridwidth": 2,
            "linecolor": "white",
            "showbackground": true,
            "ticks": "",
            "zerolinecolor": "white"
           },
           "zaxis": {
            "backgroundcolor": "#E5ECF6",
            "gridcolor": "white",
            "gridwidth": 2,
            "linecolor": "white",
            "showbackground": true,
            "ticks": "",
            "zerolinecolor": "white"
           }
          },
          "shapedefaults": {
           "line": {
            "color": "#2a3f5f"
           }
          },
          "ternary": {
           "aaxis": {
            "gridcolor": "white",
            "linecolor": "white",
            "ticks": ""
           },
           "baxis": {
            "gridcolor": "white",
            "linecolor": "white",
            "ticks": ""
           },
           "bgcolor": "#E5ECF6",
           "caxis": {
            "gridcolor": "white",
            "linecolor": "white",
            "ticks": ""
           }
          },
          "title": {
           "x": 0.05
          },
          "xaxis": {
           "automargin": true,
           "gridcolor": "white",
           "linecolor": "white",
           "ticks": "",
           "title": {
            "standoff": 15
           },
           "zerolinecolor": "white",
           "zerolinewidth": 2
          },
          "yaxis": {
           "automargin": true,
           "gridcolor": "white",
           "linecolor": "white",
           "ticks": "",
           "title": {
            "standoff": 15
           },
           "zerolinecolor": "white",
           "zerolinewidth": 2
          }
         }
        },
        "title": {
         "text": "Evolution de la population en âge d'activité (15 ans et plus)"
        },
        "xaxis": {
         "anchor": "y",
         "domain": [
          0,
          1
         ],
         "showticklabels": false
        },
        "xaxis2": {
         "anchor": "y2",
         "domain": [
          0,
          1
         ],
         "showticklabels": false
        },
        "yaxis": {
         "anchor": "x",
         "domain": [
          0.575,
          1
         ],
         "showticklabels": false
        },
        "yaxis2": {
         "anchor": "x2",
         "domain": [
          0,
          0.425
         ],
         "showticklabels": false
        }
       }
      },
      "text/html": [
       "<div>\n",
       "        \n",
       "        \n",
       "            <div id=\"86409094-59d4-49c1-9e65-6e6032e02c68\" class=\"plotly-graph-div\" style=\"height:525px; width:100%;\"></div>\n",
       "            <script type=\"text/javascript\">\n",
       "                require([\"plotly\"], function(Plotly) {\n",
       "                    window.PLOTLYENV=window.PLOTLYENV || {};\n",
       "                    \n",
       "                if (document.getElementById(\"86409094-59d4-49c1-9e65-6e6032e02c68\")) {\n",
       "                    Plotly.newPlot(\n",
       "                        '86409094-59d4-49c1-9e65-6e6032e02c68',\n",
       "                        [{\"line\": {\"color\": \"royalblue\"}, \"name\": \"Total\", \"type\": \"scatter\", \"x\": [\"II trimestre 2011\", \"IV trimestre 2011\", \"I trimestre 2012\", \"II trimestre 2012\", \"III trimestre 2012\", \"IV trimestre 2012\", \"I trimestre 2013\", \"II trimestre 2013\", \"III trimestre 2013\", \"IV trimestre 2013\", \"I trimestre 2014\", \"III trimestre 2014\", \"IV trimestre 2014\", \"I trimestre 2015\", \"II trimestre 2015\", \"III trimestre 2015\", \"IV trimestre 2015\", \"I trimestre 2016\", \"II trimestre 2016\", \"III trimestre 2016\", \"IV trimestre 2016\", \"I trimestre 2017\", \"II trimestre 2017\", \"III trimestre 2017\", \"IV trimestre 2017\", \"I trimestre 2018\", \"II trimestre 2018\", \"III trimestre 2018\", \"IV trimestre 2018\", \"I trimestre 2019\", \"II trimestre 2019\", \"III trimestre 2019\", \"IV trimestre 2019\"], \"xaxis\": \"x\", \"y\": [8146.6, 8175.2, 8190.5, 8211.7, 8255.8, 8282.7, 8294.6, 8315.7, 8349.5, 8383.5, 8409.5, 8396.6, 8422.8, 8454.392, 8480.59, 8498.5, 8529.7, 8554.4, 8580.9, 8609.2, 8638.6, 8666.8, 8694.333, 8721.7, 8745.189999999999, 8768.636, 8793.6, 8811.4, 8834.28, 8857.2, 8856.2, 8877.4, 8898.6], \"yaxis\": \"y\"}, {\"marker\": {\"color\": \"indianred\"}, \"name\": \"Homme\", \"type\": \"bar\", \"x\": [\"II trimestre 2011\", \"IV trimestre 2011\", \"I trimestre 2012\", \"II trimestre 2012\", \"III trimestre 2012\", \"IV trimestre 2012\", \"I trimestre 2013\", \"II trimestre 2013\", \"III trimestre 2013\", \"IV trimestre 2013\", \"I trimestre 2014\", \"III trimestre 2014\", \"IV trimestre 2014\", \"I trimestre 2015\", \"II trimestre 2015\", \"III trimestre 2015\", \"IV trimestre 2015\", \"I trimestre 2016\", \"II trimestre 2016\", \"III trimestre 2016\", \"IV trimestre 2016\", \"I trimestre 2017\", \"II trimestre 2017\", \"III trimestre 2017\", \"IV trimestre 2017\", \"I trimestre 2018\", \"II trimestre 2018\", \"III trimestre 2018\", \"IV trimestre 2018\", \"I trimestre 2019\", \"II trimestre 2019\", \"III trimestre 2019\", \"IV trimestre 2019\"], \"xaxis\": \"x2\", \"y\": [4019.1, 4027.4, 4045.7, 4056.4, 4062.0, 4073.5, 4077.7, 4086.4, 4104.7, 4123.1, 4131.1, 4130.5, 4143.5, 4159.13, 4172.096, 4180.5, 4195.9, 4208.0, 4211.6, 4225.9, 4240.3, 4254.2, 4263.522, 4277.0, 4288.566, 4300.127, 4312.4, 4320.7, 4331.33, 4342.0, 4333.9, 4343.7, 4353.6], \"yaxis\": \"y2\"}, {\"marker\": {\"color\": \"lightsalmon\"}, \"name\": \"Femme\", \"type\": \"bar\", \"x\": [\"II trimestre 2011\", \"IV trimestre 2011\", \"I trimestre 2012\", \"II trimestre 2012\", \"III trimestre 2012\", \"IV trimestre 2012\", \"I trimestre 2013\", \"II trimestre 2013\", \"III trimestre 2013\", \"IV trimestre 2013\", \"I trimestre 2014\", \"III trimestre 2014\", \"IV trimestre 2014\", \"I trimestre 2015\", \"II trimestre 2015\", \"III trimestre 2015\", \"IV trimestre 2015\", \"I trimestre 2016\", \"II trimestre 2016\", \"III trimestre 2016\", \"IV trimestre 2016\", \"I trimestre 2017\", \"II trimestre 2017\", \"III trimestre 2017\", \"IV trimestre 2017\", \"I trimestre 2018\", \"II trimestre 2018\", \"III trimestre 2018\", \"IV trimestre 2018\", \"I trimestre 2019\", \"II trimestre 2019\", \"III trimestre 2019\", \"IV trimestre 2019\"], \"xaxis\": \"x2\", \"y\": [4127.5, 4147.8, 4144.8, 4155.3, 4193.8, 4209.2, 4216.9, 4229.3, 4244.8, 4260.4, 4278.4, 4266.1, 4279.3, 4295.2620000000015, 4308.4940000000015, 4318.0, 4333.8, 4346.4, 4369.3, 4383.3, 4398.3, 4412.6, 4430.811, 4444.7, 4456.624000000002, 4468.509, 4481.2, 4490.7, 4502.95, 4515.2, 4522.3, 4533.7, 4545.0], \"yaxis\": \"y2\"}],\n",
       "                        {\"template\": {\"data\": {\"bar\": [{\"error_x\": {\"color\": \"#2a3f5f\"}, \"error_y\": {\"color\": \"#2a3f5f\"}, \"marker\": {\"line\": {\"color\": \"#E5ECF6\", \"width\": 0.5}}, \"type\": \"bar\"}], \"barpolar\": [{\"marker\": {\"line\": {\"color\": \"#E5ECF6\", \"width\": 0.5}}, \"type\": \"barpolar\"}], \"carpet\": [{\"aaxis\": {\"endlinecolor\": \"#2a3f5f\", \"gridcolor\": \"white\", \"linecolor\": \"white\", \"minorgridcolor\": \"white\", \"startlinecolor\": \"#2a3f5f\"}, \"baxis\": {\"endlinecolor\": \"#2a3f5f\", \"gridcolor\": \"white\", \"linecolor\": \"white\", \"minorgridcolor\": \"white\", \"startlinecolor\": \"#2a3f5f\"}, \"type\": \"carpet\"}], \"choropleth\": [{\"colorbar\": {\"outlinewidth\": 0, \"ticks\": \"\"}, \"type\": \"choropleth\"}], \"contour\": [{\"colorbar\": {\"outlinewidth\": 0, \"ticks\": \"\"}, \"colorscale\": [[0.0, \"#0d0887\"], [0.1111111111111111, \"#46039f\"], [0.2222222222222222, \"#7201a8\"], [0.3333333333333333, \"#9c179e\"], [0.4444444444444444, \"#bd3786\"], [0.5555555555555556, \"#d8576b\"], [0.6666666666666666, \"#ed7953\"], [0.7777777777777778, \"#fb9f3a\"], [0.8888888888888888, \"#fdca26\"], [1.0, \"#f0f921\"]], \"type\": \"contour\"}], \"contourcarpet\": [{\"colorbar\": {\"outlinewidth\": 0, \"ticks\": \"\"}, \"type\": \"contourcarpet\"}], \"heatmap\": [{\"colorbar\": {\"outlinewidth\": 0, \"ticks\": \"\"}, \"colorscale\": [[0.0, \"#0d0887\"], [0.1111111111111111, \"#46039f\"], [0.2222222222222222, \"#7201a8\"], [0.3333333333333333, \"#9c179e\"], [0.4444444444444444, \"#bd3786\"], [0.5555555555555556, \"#d8576b\"], [0.6666666666666666, \"#ed7953\"], [0.7777777777777778, \"#fb9f3a\"], [0.8888888888888888, \"#fdca26\"], [1.0, \"#f0f921\"]], \"type\": \"heatmap\"}], \"heatmapgl\": [{\"colorbar\": {\"outlinewidth\": 0, \"ticks\": \"\"}, \"colorscale\": [[0.0, \"#0d0887\"], [0.1111111111111111, \"#46039f\"], [0.2222222222222222, \"#7201a8\"], [0.3333333333333333, \"#9c179e\"], [0.4444444444444444, \"#bd3786\"], [0.5555555555555556, \"#d8576b\"], [0.6666666666666666, \"#ed7953\"], [0.7777777777777778, \"#fb9f3a\"], [0.8888888888888888, \"#fdca26\"], [1.0, \"#f0f921\"]], \"type\": \"heatmapgl\"}], \"histogram\": [{\"marker\": {\"colorbar\": {\"outlinewidth\": 0, \"ticks\": \"\"}}, \"type\": \"histogram\"}], \"histogram2d\": [{\"colorbar\": {\"outlinewidth\": 0, \"ticks\": \"\"}, \"colorscale\": [[0.0, \"#0d0887\"], [0.1111111111111111, \"#46039f\"], [0.2222222222222222, \"#7201a8\"], [0.3333333333333333, \"#9c179e\"], [0.4444444444444444, \"#bd3786\"], [0.5555555555555556, \"#d8576b\"], [0.6666666666666666, \"#ed7953\"], [0.7777777777777778, \"#fb9f3a\"], [0.8888888888888888, \"#fdca26\"], [1.0, \"#f0f921\"]], \"type\": \"histogram2d\"}], \"histogram2dcontour\": [{\"colorbar\": {\"outlinewidth\": 0, \"ticks\": \"\"}, \"colorscale\": [[0.0, \"#0d0887\"], [0.1111111111111111, \"#46039f\"], [0.2222222222222222, \"#7201a8\"], [0.3333333333333333, \"#9c179e\"], [0.4444444444444444, \"#bd3786\"], [0.5555555555555556, \"#d8576b\"], [0.6666666666666666, \"#ed7953\"], [0.7777777777777778, \"#fb9f3a\"], [0.8888888888888888, \"#fdca26\"], [1.0, \"#f0f921\"]], \"type\": \"histogram2dcontour\"}], \"mesh3d\": [{\"colorbar\": {\"outlinewidth\": 0, \"ticks\": \"\"}, \"type\": \"mesh3d\"}], \"parcoords\": [{\"line\": {\"colorbar\": {\"outlinewidth\": 0, \"ticks\": \"\"}}, \"type\": \"parcoords\"}], \"pie\": [{\"automargin\": true, \"type\": \"pie\"}], \"scatter\": [{\"marker\": {\"colorbar\": {\"outlinewidth\": 0, \"ticks\": \"\"}}, \"type\": \"scatter\"}], \"scatter3d\": [{\"line\": {\"colorbar\": {\"outlinewidth\": 0, \"ticks\": \"\"}}, \"marker\": {\"colorbar\": {\"outlinewidth\": 0, \"ticks\": \"\"}}, \"type\": \"scatter3d\"}], \"scattercarpet\": [{\"marker\": {\"colorbar\": {\"outlinewidth\": 0, \"ticks\": \"\"}}, \"type\": \"scattercarpet\"}], \"scattergeo\": [{\"marker\": {\"colorbar\": {\"outlinewidth\": 0, \"ticks\": \"\"}}, \"type\": \"scattergeo\"}], \"scattergl\": [{\"marker\": {\"colorbar\": {\"outlinewidth\": 0, \"ticks\": \"\"}}, \"type\": \"scattergl\"}], \"scattermapbox\": [{\"marker\": {\"colorbar\": {\"outlinewidth\": 0, \"ticks\": \"\"}}, \"type\": \"scattermapbox\"}], \"scatterpolar\": [{\"marker\": {\"colorbar\": {\"outlinewidth\": 0, \"ticks\": \"\"}}, \"type\": \"scatterpolar\"}], \"scatterpolargl\": [{\"marker\": {\"colorbar\": {\"outlinewidth\": 0, \"ticks\": \"\"}}, \"type\": \"scatterpolargl\"}], \"scatterternary\": [{\"marker\": {\"colorbar\": {\"outlinewidth\": 0, \"ticks\": \"\"}}, \"type\": \"scatterternary\"}], \"surface\": [{\"colorbar\": {\"outlinewidth\": 0, \"ticks\": \"\"}, \"colorscale\": [[0.0, \"#0d0887\"], [0.1111111111111111, \"#46039f\"], [0.2222222222222222, \"#7201a8\"], [0.3333333333333333, \"#9c179e\"], [0.4444444444444444, \"#bd3786\"], [0.5555555555555556, \"#d8576b\"], [0.6666666666666666, \"#ed7953\"], [0.7777777777777778, \"#fb9f3a\"], [0.8888888888888888, \"#fdca26\"], [1.0, \"#f0f921\"]], \"type\": \"surface\"}], \"table\": [{\"cells\": {\"fill\": {\"color\": \"#EBF0F8\"}, \"line\": {\"color\": \"white\"}}, \"header\": {\"fill\": {\"color\": \"#C8D4E3\"}, \"line\": {\"color\": \"white\"}}, \"type\": \"table\"}]}, \"layout\": {\"annotationdefaults\": {\"arrowcolor\": \"#2a3f5f\", \"arrowhead\": 0, \"arrowwidth\": 1}, \"coloraxis\": {\"colorbar\": {\"outlinewidth\": 0, \"ticks\": \"\"}}, \"colorscale\": {\"diverging\": [[0, \"#8e0152\"], [0.1, \"#c51b7d\"], [0.2, \"#de77ae\"], [0.3, \"#f1b6da\"], [0.4, \"#fde0ef\"], [0.5, \"#f7f7f7\"], [0.6, \"#e6f5d0\"], [0.7, \"#b8e186\"], [0.8, \"#7fbc41\"], [0.9, \"#4d9221\"], [1, \"#276419\"]], \"sequential\": [[0.0, \"#0d0887\"], [0.1111111111111111, \"#46039f\"], [0.2222222222222222, \"#7201a8\"], [0.3333333333333333, \"#9c179e\"], [0.4444444444444444, \"#bd3786\"], [0.5555555555555556, \"#d8576b\"], [0.6666666666666666, \"#ed7953\"], [0.7777777777777778, \"#fb9f3a\"], [0.8888888888888888, \"#fdca26\"], [1.0, \"#f0f921\"]], \"sequentialminus\": [[0.0, \"#0d0887\"], [0.1111111111111111, \"#46039f\"], [0.2222222222222222, \"#7201a8\"], [0.3333333333333333, \"#9c179e\"], [0.4444444444444444, \"#bd3786\"], [0.5555555555555556, \"#d8576b\"], [0.6666666666666666, \"#ed7953\"], [0.7777777777777778, \"#fb9f3a\"], [0.8888888888888888, \"#fdca26\"], [1.0, \"#f0f921\"]]}, \"colorway\": [\"#636efa\", \"#EF553B\", \"#00cc96\", \"#ab63fa\", \"#FFA15A\", \"#19d3f3\", \"#FF6692\", \"#B6E880\", \"#FF97FF\", \"#FECB52\"], \"font\": {\"color\": \"#2a3f5f\"}, \"geo\": {\"bgcolor\": \"white\", \"lakecolor\": \"white\", \"landcolor\": \"#E5ECF6\", \"showlakes\": true, \"showland\": true, \"subunitcolor\": \"white\"}, \"hoverlabel\": {\"align\": \"left\"}, \"hovermode\": \"closest\", \"mapbox\": {\"style\": \"light\"}, \"paper_bgcolor\": \"white\", \"plot_bgcolor\": \"#E5ECF6\", \"polar\": {\"angularaxis\": {\"gridcolor\": \"white\", \"linecolor\": \"white\", \"ticks\": \"\"}, \"bgcolor\": \"#E5ECF6\", \"radialaxis\": {\"gridcolor\": \"white\", \"linecolor\": \"white\", \"ticks\": \"\"}}, \"scene\": {\"xaxis\": {\"backgroundcolor\": \"#E5ECF6\", \"gridcolor\": \"white\", \"gridwidth\": 2, \"linecolor\": \"white\", \"showbackground\": true, \"ticks\": \"\", \"zerolinecolor\": \"white\"}, \"yaxis\": {\"backgroundcolor\": \"#E5ECF6\", \"gridcolor\": \"white\", \"gridwidth\": 2, \"linecolor\": \"white\", \"showbackground\": true, \"ticks\": \"\", \"zerolinecolor\": \"white\"}, \"zaxis\": {\"backgroundcolor\": \"#E5ECF6\", \"gridcolor\": \"white\", \"gridwidth\": 2, \"linecolor\": \"white\", \"showbackground\": true, \"ticks\": \"\", \"zerolinecolor\": \"white\"}}, \"shapedefaults\": {\"line\": {\"color\": \"#2a3f5f\"}}, \"ternary\": {\"aaxis\": {\"gridcolor\": \"white\", \"linecolor\": \"white\", \"ticks\": \"\"}, \"baxis\": {\"gridcolor\": \"white\", \"linecolor\": \"white\", \"ticks\": \"\"}, \"bgcolor\": \"#E5ECF6\", \"caxis\": {\"gridcolor\": \"white\", \"linecolor\": \"white\", \"ticks\": \"\"}}, \"title\": {\"x\": 0.05}, \"xaxis\": {\"automargin\": true, \"gridcolor\": \"white\", \"linecolor\": \"white\", \"ticks\": \"\", \"title\": {\"standoff\": 15}, \"zerolinecolor\": \"white\", \"zerolinewidth\": 2}, \"yaxis\": {\"automargin\": true, \"gridcolor\": \"white\", \"linecolor\": \"white\", \"ticks\": \"\", \"title\": {\"standoff\": 15}, \"zerolinecolor\": \"white\", \"zerolinewidth\": 2}}}, \"title\": {\"text\": \"Evolution de la population en \\u00e2ge d'activit\\u00e9 (15 ans et plus)\"}, \"xaxis\": {\"anchor\": \"y\", \"domain\": [0.0, 1.0], \"showticklabels\": false}, \"xaxis2\": {\"anchor\": \"y2\", \"domain\": [0.0, 1.0], \"showticklabels\": false}, \"yaxis\": {\"anchor\": \"x\", \"domain\": [0.575, 1.0], \"showticklabels\": false}, \"yaxis2\": {\"anchor\": \"x2\", \"domain\": [0.0, 0.425], \"showticklabels\": false}},\n",
       "                        {\"responsive\": true}\n",
       "                    ).then(function(){\n",
       "                            \n",
       "var gd = document.getElementById('86409094-59d4-49c1-9e65-6e6032e02c68');\n",
       "var x = new MutationObserver(function (mutations, observer) {{\n",
       "        var display = window.getComputedStyle(gd).display;\n",
       "        if (!display || display === 'none') {{\n",
       "            console.log([gd, 'removed!']);\n",
       "            Plotly.purge(gd);\n",
       "            observer.disconnect();\n",
       "        }}\n",
       "}});\n",
       "\n",
       "// Listen for the removal of the full notebook cells\n",
       "var notebookContainer = gd.closest('#notebook-container');\n",
       "if (notebookContainer) {{\n",
       "    x.observe(notebookContainer, {childList: true});\n",
       "}}\n",
       "\n",
       "// Listen for the clearing of the current output cell\n",
       "var outputEl = gd.closest('.output');\n",
       "if (outputEl) {{\n",
       "    x.observe(outputEl, {childList: true});\n",
       "}}\n",
       "\n",
       "                        })\n",
       "                };\n",
       "                });\n",
       "            </script>\n",
       "        </div>"
      ]
     },
     "metadata": {},
     "output_type": "display_data"
    }
   ],
   "source": [
    "fig_E_P_A_15 = make_subplots(\n",
    "    rows=2, cols=1,\n",
    "    specs=[[{}],\n",
    "           [{}]\n",
    "           ])\n",
    "\n",
    "fig_E_P_A_15.add_trace(go.Scatter(x=df_Population_O_1[' '], \n",
    "                                  y=df_Population_O_1[\"Evolution de la population en âge d'activité (15 ans et plus)\"], \n",
    "                                  name='Total',\n",
    "                                  line = dict(color='royalblue')),row=1,col=1)\n",
    "fig_E_P_A_15.add_trace(go.Bar(x=df_Population_O_1[' '], \n",
    "                                  y=df_Population_O_1[\"Evolution de la population Masculine (15 ans et plus)\"], \n",
    "                                  name='Homme',\n",
    "                                  marker_color='indianred'\n",
    "                                  ),row=2,col=1)\n",
    "fig_E_P_A_15.add_trace(go.Bar(x=df_Population_O_1[' '],\n",
    "                                  y=df_Population_O_1[\"Evolution de la population Féminine (15 ans et plus)\"], \n",
    "                                  name='Femme',\n",
    "                                  marker_color='lightsalmon'\n",
    "                                  ),row=2,col=1)\n",
    "# Edit the layout\n",
    "fig_E_P_A_15.update_layout(title=\"Evolution de la population en âge d'activité (15 ans et plus)\")\n",
    "fig_E_P_A_15.update_xaxes(showticklabels=False)\n",
    "fig_E_P_A_15.update_yaxes(showticklabels=False)\n",
    "fig_E_P_A_15.show()"
   ]
  },
  {
   "cell_type": "code",
   "execution_count": 7,
   "metadata": {},
   "outputs": [
    {
     "data": {
      "text/html": [
       "<div>\n",
       "<style scoped>\n",
       "    .dataframe tbody tr th:only-of-type {\n",
       "        vertical-align: middle;\n",
       "    }\n",
       "\n",
       "    .dataframe tbody tr th {\n",
       "        vertical-align: top;\n",
       "    }\n",
       "\n",
       "    .dataframe thead th {\n",
       "        text-align: right;\n",
       "    }\n",
       "</style>\n",
       "<table border=\"1\" class=\"dataframe\">\n",
       "  <thead>\n",
       "    <tr style=\"text-align: right;\">\n",
       "      <th></th>\n",
       "      <th></th>\n",
       "      <th>Evolution des créations d'emploi</th>\n",
       "      <th>Créations d'emploi pour les Masculins</th>\n",
       "      <th>Créations d'emploi pour les Féminins</th>\n",
       "    </tr>\n",
       "  </thead>\n",
       "  <tbody>\n",
       "    <tr>\n",
       "      <th>0</th>\n",
       "      <td>II trimestre 2011</td>\n",
       "      <td>-137.6</td>\n",
       "      <td>-63.7</td>\n",
       "      <td>-73.9</td>\n",
       "    </tr>\n",
       "    <tr>\n",
       "      <th>1</th>\n",
       "      <td>IV trimestre 2011</td>\n",
       "      <td>30.9</td>\n",
       "      <td>10.9</td>\n",
       "      <td>20.0</td>\n",
       "    </tr>\n",
       "    <tr>\n",
       "      <th>2</th>\n",
       "      <td>I trimestre 2012</td>\n",
       "      <td>36.4</td>\n",
       "      <td>18.9</td>\n",
       "      <td>17.5</td>\n",
       "    </tr>\n",
       "    <tr>\n",
       "      <th>3</th>\n",
       "      <td>II trimestre 2012</td>\n",
       "      <td>24.5</td>\n",
       "      <td>11.0</td>\n",
       "      <td>13.5</td>\n",
       "    </tr>\n",
       "    <tr>\n",
       "      <th>4</th>\n",
       "      <td>III trimestre 2012</td>\n",
       "      <td>11.3</td>\n",
       "      <td>9.4</td>\n",
       "      <td>1.9</td>\n",
       "    </tr>\n",
       "  </tbody>\n",
       "</table>\n",
       "</div>"
      ],
      "text/plain": [
       "                       Evolution des créations d'emploi  \\\n",
       "0   II trimestre 2011                            -137.6   \n",
       "1   IV trimestre 2011                              30.9   \n",
       "2    I trimestre 2012                              36.4   \n",
       "3   II trimestre 2012                              24.5   \n",
       "4  III trimestre 2012                              11.3   \n",
       "\n",
       "   Créations d'emploi pour les Masculins  Créations d'emploi pour les Féminins  \n",
       "0                                  -63.7                                 -73.9  \n",
       "1                                   10.9                                  20.0  \n",
       "2                                   18.9                                  17.5  \n",
       "3                                   11.0                                  13.5  \n",
       "4                                    9.4                                   1.9  "
      ]
     },
     "execution_count": 7,
     "metadata": {},
     "output_type": "execute_result"
    }
   ],
   "source": [
    "df_Population_O_2=pd.read_csv(\"~/data_viz/Project_Employement/data/tidy_data/Population occupée/Evolution des créations d'emploi selon le sexe.csv\",\n",
    "                                header=1)\n",
    "df_Population_O_2.head()"
   ]
  },
  {
   "cell_type": "code",
   "execution_count": 15,
   "metadata": {},
   "outputs": [
    {
     "data": {
      "application/vnd.plotly.v1+json": {
       "config": {
        "plotlyServerURL": "https://plot.ly"
       },
       "data": [
        {
         "marker": {
          "color": [
           -137.6,
           30.9,
           36.4,
           24.5,
           11.3,
           12.9,
           25.4,
           34.1,
           25.9,
           27.5,
           23.8,
           6.7,
           14.5,
           -15.1,
           -12.3,
           5.8,
           9.9,
           12.7,
           2.9,
           8.3,
           10.8,
           14.8,
           6.6,
           14.1,
           7.8,
           11.9,
           5.8,
           5,
           4.9,
           12.8,
           7.5,
           15.7,
           22.8
          ],
          "showscale": true,
          "size": [
           137.6,
           30.9,
           36.4,
           24.5,
           11.3,
           12.9,
           25.4,
           34.1,
           25.9,
           27.5,
           23.8,
           6.7,
           14.5,
           15.1,
           12.3,
           5.8,
           9.9,
           12.7,
           2.9,
           8.3,
           10.8,
           14.8,
           6.6,
           14.1,
           7.8,
           11.9,
           5.8,
           5,
           4.9,
           12.8,
           7.5,
           15.7,
           22.8
          ]
         },
         "mode": "markers",
         "type": "scatter",
         "x": [
          "II trimestre 2011",
          "IV trimestre 2011",
          "I trimestre 2012",
          "II trimestre 2012",
          "III trimestre 2012",
          "IV trimestre 2012",
          "I trimestre 2013",
          "II trimestre 2013",
          "III trimestre 2013",
          "IV trimestre 2013",
          "I trimestre 2014",
          "III trimestre 2014",
          "IV trimestre 2014",
          "I trimestre 2015",
          "II trimestre 2015",
          "III trimestre 2015",
          "IV trimestre 2015",
          "I trimestre 2016",
          "II trimestre 2016",
          "III trimestre 2016",
          "IV trimestre 2016",
          "I trimestre 2017",
          "II trimestre 2017",
          "III trimestre 2017",
          "IV trimestre 2017",
          "I trimestre 2018",
          "II trimestre 2018",
          "III trimestre 2018",
          "IV trimestre 2018",
          "I trimestre 2019",
          "II trimestre 2019",
          "III trimestre 2019",
          "IV trimestre 2019"
         ],
         "y": [
          -137.6,
          30.9,
          36.4,
          24.5,
          11.3,
          12.9,
          25.4,
          34.1,
          25.9,
          27.5,
          23.8,
          6.7,
          14.5,
          -15.1,
          -12.3,
          5.8,
          9.9,
          12.7,
          2.9,
          8.3,
          10.8,
          14.8,
          6.6,
          14.1,
          7.8,
          11.9,
          5.8,
          5,
          4.9,
          12.8,
          7.5,
          15.7,
          22.8
         ]
        }
       ],
       "layout": {
        "template": {
         "data": {
          "bar": [
           {
            "error_x": {
             "color": "#2a3f5f"
            },
            "error_y": {
             "color": "#2a3f5f"
            },
            "marker": {
             "line": {
              "color": "#E5ECF6",
              "width": 0.5
             }
            },
            "type": "bar"
           }
          ],
          "barpolar": [
           {
            "marker": {
             "line": {
              "color": "#E5ECF6",
              "width": 0.5
             }
            },
            "type": "barpolar"
           }
          ],
          "carpet": [
           {
            "aaxis": {
             "endlinecolor": "#2a3f5f",
             "gridcolor": "white",
             "linecolor": "white",
             "minorgridcolor": "white",
             "startlinecolor": "#2a3f5f"
            },
            "baxis": {
             "endlinecolor": "#2a3f5f",
             "gridcolor": "white",
             "linecolor": "white",
             "minorgridcolor": "white",
             "startlinecolor": "#2a3f5f"
            },
            "type": "carpet"
           }
          ],
          "choropleth": [
           {
            "colorbar": {
             "outlinewidth": 0,
             "ticks": ""
            },
            "type": "choropleth"
           }
          ],
          "contour": [
           {
            "colorbar": {
             "outlinewidth": 0,
             "ticks": ""
            },
            "colorscale": [
             [
              0,
              "#0d0887"
             ],
             [
              0.1111111111111111,
              "#46039f"
             ],
             [
              0.2222222222222222,
              "#7201a8"
             ],
             [
              0.3333333333333333,
              "#9c179e"
             ],
             [
              0.4444444444444444,
              "#bd3786"
             ],
             [
              0.5555555555555556,
              "#d8576b"
             ],
             [
              0.6666666666666666,
              "#ed7953"
             ],
             [
              0.7777777777777778,
              "#fb9f3a"
             ],
             [
              0.8888888888888888,
              "#fdca26"
             ],
             [
              1,
              "#f0f921"
             ]
            ],
            "type": "contour"
           }
          ],
          "contourcarpet": [
           {
            "colorbar": {
             "outlinewidth": 0,
             "ticks": ""
            },
            "type": "contourcarpet"
           }
          ],
          "heatmap": [
           {
            "colorbar": {
             "outlinewidth": 0,
             "ticks": ""
            },
            "colorscale": [
             [
              0,
              "#0d0887"
             ],
             [
              0.1111111111111111,
              "#46039f"
             ],
             [
              0.2222222222222222,
              "#7201a8"
             ],
             [
              0.3333333333333333,
              "#9c179e"
             ],
             [
              0.4444444444444444,
              "#bd3786"
             ],
             [
              0.5555555555555556,
              "#d8576b"
             ],
             [
              0.6666666666666666,
              "#ed7953"
             ],
             [
              0.7777777777777778,
              "#fb9f3a"
             ],
             [
              0.8888888888888888,
              "#fdca26"
             ],
             [
              1,
              "#f0f921"
             ]
            ],
            "type": "heatmap"
           }
          ],
          "heatmapgl": [
           {
            "colorbar": {
             "outlinewidth": 0,
             "ticks": ""
            },
            "colorscale": [
             [
              0,
              "#0d0887"
             ],
             [
              0.1111111111111111,
              "#46039f"
             ],
             [
              0.2222222222222222,
              "#7201a8"
             ],
             [
              0.3333333333333333,
              "#9c179e"
             ],
             [
              0.4444444444444444,
              "#bd3786"
             ],
             [
              0.5555555555555556,
              "#d8576b"
             ],
             [
              0.6666666666666666,
              "#ed7953"
             ],
             [
              0.7777777777777778,
              "#fb9f3a"
             ],
             [
              0.8888888888888888,
              "#fdca26"
             ],
             [
              1,
              "#f0f921"
             ]
            ],
            "type": "heatmapgl"
           }
          ],
          "histogram": [
           {
            "marker": {
             "colorbar": {
              "outlinewidth": 0,
              "ticks": ""
             }
            },
            "type": "histogram"
           }
          ],
          "histogram2d": [
           {
            "colorbar": {
             "outlinewidth": 0,
             "ticks": ""
            },
            "colorscale": [
             [
              0,
              "#0d0887"
             ],
             [
              0.1111111111111111,
              "#46039f"
             ],
             [
              0.2222222222222222,
              "#7201a8"
             ],
             [
              0.3333333333333333,
              "#9c179e"
             ],
             [
              0.4444444444444444,
              "#bd3786"
             ],
             [
              0.5555555555555556,
              "#d8576b"
             ],
             [
              0.6666666666666666,
              "#ed7953"
             ],
             [
              0.7777777777777778,
              "#fb9f3a"
             ],
             [
              0.8888888888888888,
              "#fdca26"
             ],
             [
              1,
              "#f0f921"
             ]
            ],
            "type": "histogram2d"
           }
          ],
          "histogram2dcontour": [
           {
            "colorbar": {
             "outlinewidth": 0,
             "ticks": ""
            },
            "colorscale": [
             [
              0,
              "#0d0887"
             ],
             [
              0.1111111111111111,
              "#46039f"
             ],
             [
              0.2222222222222222,
              "#7201a8"
             ],
             [
              0.3333333333333333,
              "#9c179e"
             ],
             [
              0.4444444444444444,
              "#bd3786"
             ],
             [
              0.5555555555555556,
              "#d8576b"
             ],
             [
              0.6666666666666666,
              "#ed7953"
             ],
             [
              0.7777777777777778,
              "#fb9f3a"
             ],
             [
              0.8888888888888888,
              "#fdca26"
             ],
             [
              1,
              "#f0f921"
             ]
            ],
            "type": "histogram2dcontour"
           }
          ],
          "mesh3d": [
           {
            "colorbar": {
             "outlinewidth": 0,
             "ticks": ""
            },
            "type": "mesh3d"
           }
          ],
          "parcoords": [
           {
            "line": {
             "colorbar": {
              "outlinewidth": 0,
              "ticks": ""
             }
            },
            "type": "parcoords"
           }
          ],
          "pie": [
           {
            "automargin": true,
            "type": "pie"
           }
          ],
          "scatter": [
           {
            "marker": {
             "colorbar": {
              "outlinewidth": 0,
              "ticks": ""
             }
            },
            "type": "scatter"
           }
          ],
          "scatter3d": [
           {
            "line": {
             "colorbar": {
              "outlinewidth": 0,
              "ticks": ""
             }
            },
            "marker": {
             "colorbar": {
              "outlinewidth": 0,
              "ticks": ""
             }
            },
            "type": "scatter3d"
           }
          ],
          "scattercarpet": [
           {
            "marker": {
             "colorbar": {
              "outlinewidth": 0,
              "ticks": ""
             }
            },
            "type": "scattercarpet"
           }
          ],
          "scattergeo": [
           {
            "marker": {
             "colorbar": {
              "outlinewidth": 0,
              "ticks": ""
             }
            },
            "type": "scattergeo"
           }
          ],
          "scattergl": [
           {
            "marker": {
             "colorbar": {
              "outlinewidth": 0,
              "ticks": ""
             }
            },
            "type": "scattergl"
           }
          ],
          "scattermapbox": [
           {
            "marker": {
             "colorbar": {
              "outlinewidth": 0,
              "ticks": ""
             }
            },
            "type": "scattermapbox"
           }
          ],
          "scatterpolar": [
           {
            "marker": {
             "colorbar": {
              "outlinewidth": 0,
              "ticks": ""
             }
            },
            "type": "scatterpolar"
           }
          ],
          "scatterpolargl": [
           {
            "marker": {
             "colorbar": {
              "outlinewidth": 0,
              "ticks": ""
             }
            },
            "type": "scatterpolargl"
           }
          ],
          "scatterternary": [
           {
            "marker": {
             "colorbar": {
              "outlinewidth": 0,
              "ticks": ""
             }
            },
            "type": "scatterternary"
           }
          ],
          "surface": [
           {
            "colorbar": {
             "outlinewidth": 0,
             "ticks": ""
            },
            "colorscale": [
             [
              0,
              "#0d0887"
             ],
             [
              0.1111111111111111,
              "#46039f"
             ],
             [
              0.2222222222222222,
              "#7201a8"
             ],
             [
              0.3333333333333333,
              "#9c179e"
             ],
             [
              0.4444444444444444,
              "#bd3786"
             ],
             [
              0.5555555555555556,
              "#d8576b"
             ],
             [
              0.6666666666666666,
              "#ed7953"
             ],
             [
              0.7777777777777778,
              "#fb9f3a"
             ],
             [
              0.8888888888888888,
              "#fdca26"
             ],
             [
              1,
              "#f0f921"
             ]
            ],
            "type": "surface"
           }
          ],
          "table": [
           {
            "cells": {
             "fill": {
              "color": "#EBF0F8"
             },
             "line": {
              "color": "white"
             }
            },
            "header": {
             "fill": {
              "color": "#C8D4E3"
             },
             "line": {
              "color": "white"
             }
            },
            "type": "table"
           }
          ]
         },
         "layout": {
          "annotationdefaults": {
           "arrowcolor": "#2a3f5f",
           "arrowhead": 0,
           "arrowwidth": 1
          },
          "coloraxis": {
           "colorbar": {
            "outlinewidth": 0,
            "ticks": ""
           }
          },
          "colorscale": {
           "diverging": [
            [
             0,
             "#8e0152"
            ],
            [
             0.1,
             "#c51b7d"
            ],
            [
             0.2,
             "#de77ae"
            ],
            [
             0.3,
             "#f1b6da"
            ],
            [
             0.4,
             "#fde0ef"
            ],
            [
             0.5,
             "#f7f7f7"
            ],
            [
             0.6,
             "#e6f5d0"
            ],
            [
             0.7,
             "#b8e186"
            ],
            [
             0.8,
             "#7fbc41"
            ],
            [
             0.9,
             "#4d9221"
            ],
            [
             1,
             "#276419"
            ]
           ],
           "sequential": [
            [
             0,
             "#0d0887"
            ],
            [
             0.1111111111111111,
             "#46039f"
            ],
            [
             0.2222222222222222,
             "#7201a8"
            ],
            [
             0.3333333333333333,
             "#9c179e"
            ],
            [
             0.4444444444444444,
             "#bd3786"
            ],
            [
             0.5555555555555556,
             "#d8576b"
            ],
            [
             0.6666666666666666,
             "#ed7953"
            ],
            [
             0.7777777777777778,
             "#fb9f3a"
            ],
            [
             0.8888888888888888,
             "#fdca26"
            ],
            [
             1,
             "#f0f921"
            ]
           ],
           "sequentialminus": [
            [
             0,
             "#0d0887"
            ],
            [
             0.1111111111111111,
             "#46039f"
            ],
            [
             0.2222222222222222,
             "#7201a8"
            ],
            [
             0.3333333333333333,
             "#9c179e"
            ],
            [
             0.4444444444444444,
             "#bd3786"
            ],
            [
             0.5555555555555556,
             "#d8576b"
            ],
            [
             0.6666666666666666,
             "#ed7953"
            ],
            [
             0.7777777777777778,
             "#fb9f3a"
            ],
            [
             0.8888888888888888,
             "#fdca26"
            ],
            [
             1,
             "#f0f921"
            ]
           ]
          },
          "colorway": [
           "#636efa",
           "#EF553B",
           "#00cc96",
           "#ab63fa",
           "#FFA15A",
           "#19d3f3",
           "#FF6692",
           "#B6E880",
           "#FF97FF",
           "#FECB52"
          ],
          "font": {
           "color": "#2a3f5f"
          },
          "geo": {
           "bgcolor": "white",
           "lakecolor": "white",
           "landcolor": "#E5ECF6",
           "showlakes": true,
           "showland": true,
           "subunitcolor": "white"
          },
          "hoverlabel": {
           "align": "left"
          },
          "hovermode": "closest",
          "mapbox": {
           "style": "light"
          },
          "paper_bgcolor": "white",
          "plot_bgcolor": "#E5ECF6",
          "polar": {
           "angularaxis": {
            "gridcolor": "white",
            "linecolor": "white",
            "ticks": ""
           },
           "bgcolor": "#E5ECF6",
           "radialaxis": {
            "gridcolor": "white",
            "linecolor": "white",
            "ticks": ""
           }
          },
          "scene": {
           "xaxis": {
            "backgroundcolor": "#E5ECF6",
            "gridcolor": "white",
            "gridwidth": 2,
            "linecolor": "white",
            "showbackground": true,
            "ticks": "",
            "zerolinecolor": "white"
           },
           "yaxis": {
            "backgroundcolor": "#E5ECF6",
            "gridcolor": "white",
            "gridwidth": 2,
            "linecolor": "white",
            "showbackground": true,
            "ticks": "",
            "zerolinecolor": "white"
           },
           "zaxis": {
            "backgroundcolor": "#E5ECF6",
            "gridcolor": "white",
            "gridwidth": 2,
            "linecolor": "white",
            "showbackground": true,
            "ticks": "",
            "zerolinecolor": "white"
           }
          },
          "shapedefaults": {
           "line": {
            "color": "#2a3f5f"
           }
          },
          "ternary": {
           "aaxis": {
            "gridcolor": "white",
            "linecolor": "white",
            "ticks": ""
           },
           "baxis": {
            "gridcolor": "white",
            "linecolor": "white",
            "ticks": ""
           },
           "bgcolor": "#E5ECF6",
           "caxis": {
            "gridcolor": "white",
            "linecolor": "white",
            "ticks": ""
           }
          },
          "title": {
           "x": 0.05
          },
          "xaxis": {
           "automargin": true,
           "gridcolor": "white",
           "linecolor": "white",
           "ticks": "",
           "title": {
            "standoff": 15
           },
           "zerolinecolor": "white",
           "zerolinewidth": 2
          },
          "yaxis": {
           "automargin": true,
           "gridcolor": "white",
           "linecolor": "white",
           "ticks": "",
           "title": {
            "standoff": 15
           },
           "zerolinecolor": "white",
           "zerolinewidth": 2
          }
         }
        },
        "xaxis": {
         "showticklabels": false
        },
        "yaxis": {
         "showticklabels": false
        }
       }
      },
      "text/html": [
       "<div>\n",
       "        \n",
       "        \n",
       "            <div id=\"a641f0d0-70bc-495b-b04c-d9d02dfdda8d\" class=\"plotly-graph-div\" style=\"height:525px; width:100%;\"></div>\n",
       "            <script type=\"text/javascript\">\n",
       "                require([\"plotly\"], function(Plotly) {\n",
       "                    window.PLOTLYENV=window.PLOTLYENV || {};\n",
       "                    \n",
       "                if (document.getElementById(\"a641f0d0-70bc-495b-b04c-d9d02dfdda8d\")) {\n",
       "                    Plotly.newPlot(\n",
       "                        'a641f0d0-70bc-495b-b04c-d9d02dfdda8d',\n",
       "                        [{\"marker\": {\"color\": [-137.6, 30.9, 36.4, 24.5, 11.3, 12.9, 25.4, 34.1, 25.9, 27.5, 23.8, 6.7, 14.5, -15.1, -12.3, 5.8, 9.9, 12.7, 2.9, 8.3, 10.8, 14.8, 6.6, 14.1, 7.8, 11.9, 5.8, 5.0, 4.9, 12.8, 7.5, 15.7, 22.8], \"showscale\": true, \"size\": [137.6, 30.9, 36.4, 24.5, 11.3, 12.9, 25.4, 34.1, 25.9, 27.5, 23.8, 6.7, 14.5, 15.1, 12.3, 5.8, 9.9, 12.7, 2.9, 8.3, 10.8, 14.8, 6.6, 14.1, 7.8, 11.9, 5.8, 5.0, 4.9, 12.8, 7.5, 15.7, 22.8]}, \"mode\": \"markers\", \"type\": \"scatter\", \"x\": [\"II trimestre 2011\", \"IV trimestre 2011\", \"I trimestre 2012\", \"II trimestre 2012\", \"III trimestre 2012\", \"IV trimestre 2012\", \"I trimestre 2013\", \"II trimestre 2013\", \"III trimestre 2013\", \"IV trimestre 2013\", \"I trimestre 2014\", \"III trimestre 2014\", \"IV trimestre 2014\", \"I trimestre 2015\", \"II trimestre 2015\", \"III trimestre 2015\", \"IV trimestre 2015\", \"I trimestre 2016\", \"II trimestre 2016\", \"III trimestre 2016\", \"IV trimestre 2016\", \"I trimestre 2017\", \"II trimestre 2017\", \"III trimestre 2017\", \"IV trimestre 2017\", \"I trimestre 2018\", \"II trimestre 2018\", \"III trimestre 2018\", \"IV trimestre 2018\", \"I trimestre 2019\", \"II trimestre 2019\", \"III trimestre 2019\", \"IV trimestre 2019\"], \"y\": [-137.6, 30.9, 36.4, 24.5, 11.3, 12.9, 25.4, 34.1, 25.9, 27.5, 23.8, 6.7, 14.5, -15.1, -12.3, 5.8, 9.9, 12.7, 2.9, 8.3, 10.8, 14.8, 6.6, 14.1, 7.8, 11.9, 5.8, 5.0, 4.9, 12.8, 7.5, 15.7, 22.8]}],\n",
       "                        {\"template\": {\"data\": {\"bar\": [{\"error_x\": {\"color\": \"#2a3f5f\"}, \"error_y\": {\"color\": \"#2a3f5f\"}, \"marker\": {\"line\": {\"color\": \"#E5ECF6\", \"width\": 0.5}}, \"type\": \"bar\"}], \"barpolar\": [{\"marker\": {\"line\": {\"color\": \"#E5ECF6\", \"width\": 0.5}}, \"type\": \"barpolar\"}], \"carpet\": [{\"aaxis\": {\"endlinecolor\": \"#2a3f5f\", \"gridcolor\": \"white\", \"linecolor\": \"white\", \"minorgridcolor\": \"white\", \"startlinecolor\": \"#2a3f5f\"}, \"baxis\": {\"endlinecolor\": \"#2a3f5f\", \"gridcolor\": \"white\", \"linecolor\": \"white\", \"minorgridcolor\": \"white\", \"startlinecolor\": \"#2a3f5f\"}, \"type\": \"carpet\"}], \"choropleth\": [{\"colorbar\": {\"outlinewidth\": 0, \"ticks\": \"\"}, \"type\": \"choropleth\"}], \"contour\": [{\"colorbar\": {\"outlinewidth\": 0, \"ticks\": \"\"}, \"colorscale\": [[0.0, \"#0d0887\"], [0.1111111111111111, \"#46039f\"], [0.2222222222222222, \"#7201a8\"], [0.3333333333333333, \"#9c179e\"], [0.4444444444444444, \"#bd3786\"], [0.5555555555555556, \"#d8576b\"], [0.6666666666666666, \"#ed7953\"], [0.7777777777777778, \"#fb9f3a\"], [0.8888888888888888, \"#fdca26\"], [1.0, \"#f0f921\"]], \"type\": \"contour\"}], \"contourcarpet\": [{\"colorbar\": {\"outlinewidth\": 0, \"ticks\": \"\"}, \"type\": \"contourcarpet\"}], \"heatmap\": [{\"colorbar\": {\"outlinewidth\": 0, \"ticks\": \"\"}, \"colorscale\": [[0.0, \"#0d0887\"], [0.1111111111111111, \"#46039f\"], [0.2222222222222222, \"#7201a8\"], [0.3333333333333333, \"#9c179e\"], [0.4444444444444444, \"#bd3786\"], [0.5555555555555556, \"#d8576b\"], [0.6666666666666666, \"#ed7953\"], [0.7777777777777778, \"#fb9f3a\"], [0.8888888888888888, \"#fdca26\"], [1.0, \"#f0f921\"]], \"type\": \"heatmap\"}], \"heatmapgl\": [{\"colorbar\": {\"outlinewidth\": 0, \"ticks\": \"\"}, \"colorscale\": [[0.0, \"#0d0887\"], [0.1111111111111111, \"#46039f\"], [0.2222222222222222, \"#7201a8\"], [0.3333333333333333, \"#9c179e\"], [0.4444444444444444, \"#bd3786\"], [0.5555555555555556, \"#d8576b\"], [0.6666666666666666, \"#ed7953\"], [0.7777777777777778, \"#fb9f3a\"], [0.8888888888888888, \"#fdca26\"], [1.0, \"#f0f921\"]], \"type\": \"heatmapgl\"}], \"histogram\": [{\"marker\": {\"colorbar\": {\"outlinewidth\": 0, \"ticks\": \"\"}}, \"type\": \"histogram\"}], \"histogram2d\": [{\"colorbar\": {\"outlinewidth\": 0, \"ticks\": \"\"}, \"colorscale\": [[0.0, \"#0d0887\"], [0.1111111111111111, \"#46039f\"], [0.2222222222222222, \"#7201a8\"], [0.3333333333333333, \"#9c179e\"], [0.4444444444444444, \"#bd3786\"], [0.5555555555555556, \"#d8576b\"], [0.6666666666666666, \"#ed7953\"], [0.7777777777777778, \"#fb9f3a\"], [0.8888888888888888, \"#fdca26\"], [1.0, \"#f0f921\"]], \"type\": \"histogram2d\"}], \"histogram2dcontour\": [{\"colorbar\": {\"outlinewidth\": 0, \"ticks\": \"\"}, \"colorscale\": [[0.0, \"#0d0887\"], [0.1111111111111111, \"#46039f\"], [0.2222222222222222, \"#7201a8\"], [0.3333333333333333, \"#9c179e\"], [0.4444444444444444, \"#bd3786\"], [0.5555555555555556, \"#d8576b\"], [0.6666666666666666, \"#ed7953\"], [0.7777777777777778, \"#fb9f3a\"], [0.8888888888888888, \"#fdca26\"], [1.0, \"#f0f921\"]], \"type\": \"histogram2dcontour\"}], \"mesh3d\": [{\"colorbar\": {\"outlinewidth\": 0, \"ticks\": \"\"}, \"type\": \"mesh3d\"}], \"parcoords\": [{\"line\": {\"colorbar\": {\"outlinewidth\": 0, \"ticks\": \"\"}}, \"type\": \"parcoords\"}], \"pie\": [{\"automargin\": true, \"type\": \"pie\"}], \"scatter\": [{\"marker\": {\"colorbar\": {\"outlinewidth\": 0, \"ticks\": \"\"}}, \"type\": \"scatter\"}], \"scatter3d\": [{\"line\": {\"colorbar\": {\"outlinewidth\": 0, \"ticks\": \"\"}}, \"marker\": {\"colorbar\": {\"outlinewidth\": 0, \"ticks\": \"\"}}, \"type\": \"scatter3d\"}], \"scattercarpet\": [{\"marker\": {\"colorbar\": {\"outlinewidth\": 0, \"ticks\": \"\"}}, \"type\": \"scattercarpet\"}], \"scattergeo\": [{\"marker\": {\"colorbar\": {\"outlinewidth\": 0, \"ticks\": \"\"}}, \"type\": \"scattergeo\"}], \"scattergl\": [{\"marker\": {\"colorbar\": {\"outlinewidth\": 0, \"ticks\": \"\"}}, \"type\": \"scattergl\"}], \"scattermapbox\": [{\"marker\": {\"colorbar\": {\"outlinewidth\": 0, \"ticks\": \"\"}}, \"type\": \"scattermapbox\"}], \"scatterpolar\": [{\"marker\": {\"colorbar\": {\"outlinewidth\": 0, \"ticks\": \"\"}}, \"type\": \"scatterpolar\"}], \"scatterpolargl\": [{\"marker\": {\"colorbar\": {\"outlinewidth\": 0, \"ticks\": \"\"}}, \"type\": \"scatterpolargl\"}], \"scatterternary\": [{\"marker\": {\"colorbar\": {\"outlinewidth\": 0, \"ticks\": \"\"}}, \"type\": \"scatterternary\"}], \"surface\": [{\"colorbar\": {\"outlinewidth\": 0, \"ticks\": \"\"}, \"colorscale\": [[0.0, \"#0d0887\"], [0.1111111111111111, \"#46039f\"], [0.2222222222222222, \"#7201a8\"], [0.3333333333333333, \"#9c179e\"], [0.4444444444444444, \"#bd3786\"], [0.5555555555555556, \"#d8576b\"], [0.6666666666666666, \"#ed7953\"], [0.7777777777777778, \"#fb9f3a\"], [0.8888888888888888, \"#fdca26\"], [1.0, \"#f0f921\"]], \"type\": \"surface\"}], \"table\": [{\"cells\": {\"fill\": {\"color\": \"#EBF0F8\"}, \"line\": {\"color\": \"white\"}}, \"header\": {\"fill\": {\"color\": \"#C8D4E3\"}, \"line\": {\"color\": \"white\"}}, \"type\": \"table\"}]}, \"layout\": {\"annotationdefaults\": {\"arrowcolor\": \"#2a3f5f\", \"arrowhead\": 0, \"arrowwidth\": 1}, \"coloraxis\": {\"colorbar\": {\"outlinewidth\": 0, \"ticks\": \"\"}}, \"colorscale\": {\"diverging\": [[0, \"#8e0152\"], [0.1, \"#c51b7d\"], [0.2, \"#de77ae\"], [0.3, \"#f1b6da\"], [0.4, \"#fde0ef\"], [0.5, \"#f7f7f7\"], [0.6, \"#e6f5d0\"], [0.7, \"#b8e186\"], [0.8, \"#7fbc41\"], [0.9, \"#4d9221\"], [1, \"#276419\"]], \"sequential\": [[0.0, \"#0d0887\"], [0.1111111111111111, \"#46039f\"], [0.2222222222222222, \"#7201a8\"], [0.3333333333333333, \"#9c179e\"], [0.4444444444444444, \"#bd3786\"], [0.5555555555555556, \"#d8576b\"], [0.6666666666666666, \"#ed7953\"], [0.7777777777777778, \"#fb9f3a\"], [0.8888888888888888, \"#fdca26\"], [1.0, \"#f0f921\"]], \"sequentialminus\": [[0.0, \"#0d0887\"], [0.1111111111111111, \"#46039f\"], [0.2222222222222222, \"#7201a8\"], [0.3333333333333333, \"#9c179e\"], [0.4444444444444444, \"#bd3786\"], [0.5555555555555556, \"#d8576b\"], [0.6666666666666666, \"#ed7953\"], [0.7777777777777778, \"#fb9f3a\"], [0.8888888888888888, \"#fdca26\"], [1.0, \"#f0f921\"]]}, \"colorway\": [\"#636efa\", \"#EF553B\", \"#00cc96\", \"#ab63fa\", \"#FFA15A\", \"#19d3f3\", \"#FF6692\", \"#B6E880\", \"#FF97FF\", \"#FECB52\"], \"font\": {\"color\": \"#2a3f5f\"}, \"geo\": {\"bgcolor\": \"white\", \"lakecolor\": \"white\", \"landcolor\": \"#E5ECF6\", \"showlakes\": true, \"showland\": true, \"subunitcolor\": \"white\"}, \"hoverlabel\": {\"align\": \"left\"}, \"hovermode\": \"closest\", \"mapbox\": {\"style\": \"light\"}, \"paper_bgcolor\": \"white\", \"plot_bgcolor\": \"#E5ECF6\", \"polar\": {\"angularaxis\": {\"gridcolor\": \"white\", \"linecolor\": \"white\", \"ticks\": \"\"}, \"bgcolor\": \"#E5ECF6\", \"radialaxis\": {\"gridcolor\": \"white\", \"linecolor\": \"white\", \"ticks\": \"\"}}, \"scene\": {\"xaxis\": {\"backgroundcolor\": \"#E5ECF6\", \"gridcolor\": \"white\", \"gridwidth\": 2, \"linecolor\": \"white\", \"showbackground\": true, \"ticks\": \"\", \"zerolinecolor\": \"white\"}, \"yaxis\": {\"backgroundcolor\": \"#E5ECF6\", \"gridcolor\": \"white\", \"gridwidth\": 2, \"linecolor\": \"white\", \"showbackground\": true, \"ticks\": \"\", \"zerolinecolor\": \"white\"}, \"zaxis\": {\"backgroundcolor\": \"#E5ECF6\", \"gridcolor\": \"white\", \"gridwidth\": 2, \"linecolor\": \"white\", \"showbackground\": true, \"ticks\": \"\", \"zerolinecolor\": \"white\"}}, \"shapedefaults\": {\"line\": {\"color\": \"#2a3f5f\"}}, \"ternary\": {\"aaxis\": {\"gridcolor\": \"white\", \"linecolor\": \"white\", \"ticks\": \"\"}, \"baxis\": {\"gridcolor\": \"white\", \"linecolor\": \"white\", \"ticks\": \"\"}, \"bgcolor\": \"#E5ECF6\", \"caxis\": {\"gridcolor\": \"white\", \"linecolor\": \"white\", \"ticks\": \"\"}}, \"title\": {\"x\": 0.05}, \"xaxis\": {\"automargin\": true, \"gridcolor\": \"white\", \"linecolor\": \"white\", \"ticks\": \"\", \"title\": {\"standoff\": 15}, \"zerolinecolor\": \"white\", \"zerolinewidth\": 2}, \"yaxis\": {\"automargin\": true, \"gridcolor\": \"white\", \"linecolor\": \"white\", \"ticks\": \"\", \"title\": {\"standoff\": 15}, \"zerolinecolor\": \"white\", \"zerolinewidth\": 2}}}, \"xaxis\": {\"showticklabels\": false}, \"yaxis\": {\"showticklabels\": false}},\n",
       "                        {\"responsive\": true}\n",
       "                    ).then(function(){\n",
       "                            \n",
       "var gd = document.getElementById('a641f0d0-70bc-495b-b04c-d9d02dfdda8d');\n",
       "var x = new MutationObserver(function (mutations, observer) {{\n",
       "        var display = window.getComputedStyle(gd).display;\n",
       "        if (!display || display === 'none') {{\n",
       "            console.log([gd, 'removed!']);\n",
       "            Plotly.purge(gd);\n",
       "            observer.disconnect();\n",
       "        }}\n",
       "}});\n",
       "\n",
       "// Listen for the removal of the full notebook cells\n",
       "var notebookContainer = gd.closest('#notebook-container');\n",
       "if (notebookContainer) {{\n",
       "    x.observe(notebookContainer, {childList: true});\n",
       "}}\n",
       "\n",
       "// Listen for the clearing of the current output cell\n",
       "var outputEl = gd.closest('.output');\n",
       "if (outputEl) {{\n",
       "    x.observe(outputEl, {childList: true});\n",
       "}}\n",
       "\n",
       "                        })\n",
       "                };\n",
       "                });\n",
       "            </script>\n",
       "        </div>"
      ]
     },
     "metadata": {},
     "output_type": "display_data"
    }
   ],
   "source": [
    "fig=go.Figure(data=[go.Scatter(\n",
    "    x=df_Population_O_2[' '],\n",
    "    y=df_Population_O_2[\"Evolution des créations d'emploi\"],\n",
    "    mode='markers',\n",
    "    marker=dict(\n",
    "        showscale=True,\n",
    "        color=df_Population_O_2[\"Evolution des créations d'emploi\"],\n",
    "        size=abs(df_Population_O_2[\"Evolution des créations d'emploi\"])\n",
    "        )\n",
    ")])\n",
    "fig.update_xaxes(showticklabels=False)\n",
    "fig.update_yaxes(showticklabels=False)\n",
    "fig.show()"
   ]
  },
  {
   "cell_type": "code",
   "execution_count": 2,
   "metadata": {},
   "outputs": [],
   "source": [
    "df_Population_Secteur=pd.read_csv(\"~/data_viz/Project_Employement/data/tidy_data/Population occupée/Répartition de la population active occupée selon le secteur d'activité.csv\",)\n",
    "df_Population_Secteur_2019=df_Population_Secteur[[\" \",\"IV trimestre 2019\"]]\n",
    "df_Population_Secteur_2018=df_Population_Secteur[[\" \",\"IV trimestre 2018\"]]\n",
    "df_Population_Secteur_2017=df_Population_Secteur[[\" \",\"IV trimestre 2017\"]]\n",
    "df_Population_Secteur_2016=df_Population_Secteur[[\" \",\"IV trimestre 2016\"]]\n",
    "df_Population_Secteur_2015=df_Population_Secteur[[\" \",\"IV trimestre 2015\"]]\n",
    "df_Population_Secteur_2014=df_Population_Secteur[[\" \",\"IV trimestre 2014\"]]\n",
    "df_Population_Secteur_2013=df_Population_Secteur[[\" \",\"IV trimestre 2013\"]]\n",
    "df_Population_Secteur_2012=df_Population_Secteur[[\" \",\"IV trimestre 2012\"]]\n",
    "df_Population_Secteur_2011=df_Population_Secteur[[\" \",\"IV trimestre 2011\"]]\n",
    "# df_Population_Secteur.head()"
   ]
  },
  {
   "cell_type": "code",
   "execution_count": 27,
   "metadata": {},
   "outputs": [],
   "source": [
    "#defining data\n",
    "data=[go.Pie(values=df_Population_Secteur_2019[\"IV trimestre 2019\"],labels=df_Population_Secteur_2019[\" \"]),\n",
    "      go.Pie(values=df_Population_Secteur_2018[\"IV trimestre 2018\"],labels=df_Population_Secteur_2018[\" \"]),\n",
    "      go.Pie(values=df_Population_Secteur_2017[\"IV trimestre 2017\"],labels=df_Population_Secteur_2017[\" \"]),\n",
    "      go.Pie(values=df_Population_Secteur_2016[\"IV trimestre 2016\"],labels=df_Population_Secteur_2016[\" \"]),\n",
    "      go.Pie(values=df_Population_Secteur_2015[\"IV trimestre 2015\"],labels=df_Population_Secteur_2015[\" \"]),\n",
    "      go.Pie(values=df_Population_Secteur_2014[\"IV trimestre 2014\"],labels=df_Population_Secteur_2014[\" \"]),\n",
    "      go.Pie(values=df_Population_Secteur_2013[\"IV trimestre 2013\"],labels=df_Population_Secteur_2013[\" \"]),\n",
    "      go.Pie(values=df_Population_Secteur_2012[\"IV trimestre 2012\"],labels=df_Population_Secteur_2012[\" \"]),\n",
    "      go.Pie(values=df_Population_Secteur_2011[\"IV trimestre 2011\"],labels=df_Population_Secteur_2011[\" \"])]"
   ]
  },
  {
   "cell_type": "code",
   "execution_count": 50,
   "metadata": {},
   "outputs": [
    {
     "data": {
      "application/vnd.plotly.v1+json": {
       "config": {
        "plotlyServerURL": "https://plot.ly"
       },
       "data": [
        {
         "labels": [
          " Agriculture et pêche",
          " l'Industries manufacturières",
          " l'Industries agroalimentaires",
          " les matériaux de constructions",
          "  l'Industries mécaniques et électriques",
          "  l'Industries chimiques",
          " le Textile, l’habillement et des chaussures",
          " d'Autres industries manufacturières",
          " l'Industries  non manufacturières",
          " Mines et énergie",
          " Construction et travaux publics",
          " les Services",
          " le Commerce",
          " le Transport et télécommunication",
          " l'Hôtel et restauration",
          " les Banques et assurances",
          " les Services de réparation et de l'immobilier",
          " les Services sociaux et culturels",
          " les Services de l’éducation, la santé",
          " des activité Non déclarés"
         ],
         "type": "pie",
         "values": [
          491.1,
          656.7,
          104,
          37.1,
          159.4,
          29.2,
          234,
          93,
          552.5,
          41,
          511.5,
          1846.9,
          439.8,
          196.8,
          158.5,
          37.2,
          186.9,
          159.3,
          668.4,
          19.2
         ]
        },
        {
         "labels": [
          " Agriculture et pêche",
          " l'Industries manufacturières",
          " l'Industries agroalimentaires",
          " les matériaux de constructions",
          "  l'Industries mécaniques et électriques",
          "  l'Industries chimiques",
          " le Textile, l’habillement et des chaussures",
          " d'Autres industries manufacturières",
          " l'Industries  non manufacturières",
          " Mines et énergie",
          " Construction et travaux publics",
          " les Services",
          " le Commerce",
          " le Transport et télécommunication",
          " l'Hôtel et restauration",
          " les Banques et assurances",
          " les Services de réparation et de l'immobilier",
          " les Services sociaux et culturels",
          " les Services de l’éducation, la santé",
          " des activité Non déclarés"
         ],
         "type": "pie",
         "values": [
          488.56900000000013,
          653.1,
          92.998,
          40.173,
          159.97299999999998,
          29.918000000000003,
          246.067,
          83.971,
          534.859,
          35.18300000000001,
          499.676,
          1814.746,
          453.35,
          192.462,
          148.17600000000002,
          31.565,
          180.577,
          150.465,
          658.1510000000002,
          16.3
         ]
        },
        {
         "labels": [
          " Agriculture et pêche",
          " l'Industries manufacturières",
          " l'Industries agroalimentaires",
          " les matériaux de constructions",
          "  l'Industries mécaniques et électriques",
          "  l'Industries chimiques",
          " le Textile, l’habillement et des chaussures",
          " d'Autres industries manufacturières",
          " l'Industries  non manufacturières",
          " Mines et énergie",
          " Construction et travaux publics",
          " les Services",
          " le Commerce",
          " le Transport et télécommunication",
          " l'Hôtel et restauration",
          " les Banques et assurances",
          " les Services de réparation et de l'immobilier",
          " les Services sociaux et culturels",
          " les Services de l’éducation, la santé",
          " des activité Non déclarés"
         ],
         "type": "pie",
         "values": [
          502.8,
          644.4,
          94.7,
          39.8,
          156,
          29.7,
          237,
          87.2,
          526.1,
          35.3,
          490.8,
          1804,
          461.2,
          188.1,
          130.9,
          36.9,
          176.8,
          146.3,
          663.8,
          2.7
         ]
        },
        {
         "labels": [
          " Agriculture et pêche",
          " l'Industries manufacturières",
          " l'Industries agroalimentaires",
          " les matériaux de constructions",
          "  l'Industries mécaniques et électriques",
          "  l'Industries chimiques",
          " le Textile, l’habillement et des chaussures",
          " d'Autres industries manufacturières",
          " l'Industries  non manufacturières",
          " Mines et énergie",
          " Construction et travaux publics",
          " les Services",
          " le Commerce",
          " le Transport et télécommunication",
          " l'Hôtel et restauration",
          " les Banques et assurances",
          " les Services de réparation et de l'immobilier",
          " les Services sociaux et culturels",
          " les Services de l’éducation, la santé",
          " des activité Non déclarés"
         ],
         "type": "pie",
         "values": [
          515,
          625.4,
          91,
          38.2,
          149.6,
          30.5,
          232.5,
          83.6,
          509,
          38.9,
          470.1,
          1771.9,
          455.6,
          189,
          115.4,
          36.1,
          174.5,
          140.4,
          660.9,
          15.4
         ]
        },
        {
         "labels": [
          " Agriculture et pêche",
          " l'Industries manufacturières",
          " l'Industries agroalimentaires",
          " les matériaux de constructions",
          "  l'Industries mécaniques et électriques",
          "  l'Industries chimiques",
          " le Textile, l’habillement et des chaussures",
          " d'Autres industries manufacturières",
          " l'Industries  non manufacturières",
          " Mines et énergie",
          " Construction et travaux publics",
          " les Services",
          " le Commerce",
          " le Transport et télécommunication",
          " l'Hôtel et restauration",
          " les Banques et assurances",
          " les Services de réparation et de l'immobilier",
          " les Services sociaux et culturels",
          " les Services de l’éducation, la santé",
          " des activité Non déclarés"
         ],
         "type": "pie",
         "values": [
          514.1,
          632.4,
          87.4,
          42.8,
          151.8,
          28.7,
          234.8,
          86.9,
          490.7,
          34.1,
          456.6,
          1764.3,
          459.1,
          188.5,
          106.7,
          32.2,
          174.9,
          142.1,
          660.8,
          0.5
         ]
        },
        {
         "labels": [
          " Agriculture et pêche",
          " l'Industries manufacturières",
          " l'Industries agroalimentaires",
          " les matériaux de constructions",
          "  l'Industries mécaniques et électriques",
          "  l'Industries chimiques",
          " le Textile, l’habillement et des chaussures",
          " d'Autres industries manufacturières",
          " l'Industries  non manufacturières",
          " Mines et énergie",
          " Construction et travaux publics",
          " les Services",
          " le Commerce",
          " le Transport et télécommunication",
          " l'Hôtel et restauration",
          " les Banques et assurances",
          " les Services de réparation et de l'immobilier",
          " les Services sociaux et culturels",
          " les Services de l’éducation, la santé",
          " des activité Non déclarés"
         ],
         "type": "pie",
         "values": [
          525.7,
          634,
          79.8,
          44.4,
          149.9,
          25.7,
          253.3,
          80.9,
          494.8,
          40.6,
          454.2,
          1758.4,
          443.8,
          199.1,
          128.2,
          30.4,
          155.4,
          138.3,
          663.2,
          0.8
         ]
        },
        {
         "labels": [
          " Agriculture et pêche",
          " l'Industries manufacturières",
          " l'Industries agroalimentaires",
          " les matériaux de constructions",
          "  l'Industries mécaniques et électriques",
          "  l'Industries chimiques",
          " le Textile, l’habillement et des chaussures",
          " d'Autres industries manufacturières",
          " l'Industries  non manufacturières",
          " Mines et énergie",
          " Construction et travaux publics",
          " les Services",
          " le Commerce",
          " le Transport et télécommunication",
          " l'Hôtel et restauration",
          " les Banques et assurances",
          " les Services de réparation et de l'immobilier",
          " les Services sociaux et culturels",
          " les Services de l’éducation, la santé",
          " des activité Non déclarés"
         ],
         "type": "pie",
         "values": [
          517.2,
          630.9,
          89.7,
          35.4,
          141.4,
          31.9,
          250.6,
          81.9,
          489.3,
          40.4,
          448.9,
          1717.9,
          413.4,
          194.7,
          121.9,
          27.7,
          153.5,
          148.6,
          658.1,
          13.4
         ]
        },
        {
         "labels": [
          " Agriculture et pêche",
          " l'Industries manufacturières",
          " l'Industries agroalimentaires",
          " les matériaux de constructions",
          "  l'Industries mécaniques et électriques",
          "  l'Industries chimiques",
          " le Textile, l’habillement et des chaussures",
          " d'Autres industries manufacturières",
          " l'Industries  non manufacturières",
          " Mines et énergie",
          " Construction et travaux publics",
          " les Services",
          " le Commerce",
          " le Transport et télécommunication",
          " l'Hôtel et restauration",
          " les Banques et assurances",
          " les Services de réparation et de l'immobilier",
          " les Services sociaux et culturels",
          " les Services de l’éducation, la santé",
          " des activité Non déclarés"
         ],
         "type": "pie",
         "values": [
          530.4,
          602.6,
          80.7,
          37.1,
          116.7,
          33.7,
          244.7,
          89.7,
          465,
          37.7,
          427.3,
          1645.4,
          402.5,
          195.3,
          108.4,
          24.1,
          155.9,
          130.2,
          629,
          12.4
         ]
        },
        {
         "labels": [
          " Agriculture et pêche",
          " l'Industries manufacturières",
          " l'Industries agroalimentaires",
          " les matériaux de constructions",
          "  l'Industries mécaniques et électriques",
          "  l'Industries chimiques",
          " le Textile, l’habillement et des chaussures",
          " d'Autres industries manufacturières",
          " l'Industries  non manufacturières",
          " Mines et énergie",
          " Construction et travaux publics",
          " les Services",
          " le Commerce",
          " le Transport et télécommunication",
          " l'Hôtel et restauration",
          " les Banques et assurances",
          " les Services de réparation et de l'immobilier",
          " les Services sociaux et culturels",
          " les Services de l’éducation, la santé",
          " des activité Non déclarés"
         ],
         "type": "pie",
         "values": [
          534.5,
          572.7,
          68.2,
          37.1,
          124,
          28,
          228.4,
          87,
          457.7,
          32,
          425.7,
          1595.8,
          387.5,
          182.8,
          114.6,
          27.1,
          139.9,
          132.5,
          611.4,
          10
         ]
        }
       ],
       "layout": {
        "template": {
         "data": {
          "bar": [
           {
            "error_x": {
             "color": "#2a3f5f"
            },
            "error_y": {
             "color": "#2a3f5f"
            },
            "marker": {
             "line": {
              "color": "#E5ECF6",
              "width": 0.5
             }
            },
            "type": "bar"
           }
          ],
          "barpolar": [
           {
            "marker": {
             "line": {
              "color": "#E5ECF6",
              "width": 0.5
             }
            },
            "type": "barpolar"
           }
          ],
          "carpet": [
           {
            "aaxis": {
             "endlinecolor": "#2a3f5f",
             "gridcolor": "white",
             "linecolor": "white",
             "minorgridcolor": "white",
             "startlinecolor": "#2a3f5f"
            },
            "baxis": {
             "endlinecolor": "#2a3f5f",
             "gridcolor": "white",
             "linecolor": "white",
             "minorgridcolor": "white",
             "startlinecolor": "#2a3f5f"
            },
            "type": "carpet"
           }
          ],
          "choropleth": [
           {
            "colorbar": {
             "outlinewidth": 0,
             "ticks": ""
            },
            "type": "choropleth"
           }
          ],
          "contour": [
           {
            "colorbar": {
             "outlinewidth": 0,
             "ticks": ""
            },
            "colorscale": [
             [
              0,
              "#0d0887"
             ],
             [
              0.1111111111111111,
              "#46039f"
             ],
             [
              0.2222222222222222,
              "#7201a8"
             ],
             [
              0.3333333333333333,
              "#9c179e"
             ],
             [
              0.4444444444444444,
              "#bd3786"
             ],
             [
              0.5555555555555556,
              "#d8576b"
             ],
             [
              0.6666666666666666,
              "#ed7953"
             ],
             [
              0.7777777777777778,
              "#fb9f3a"
             ],
             [
              0.8888888888888888,
              "#fdca26"
             ],
             [
              1,
              "#f0f921"
             ]
            ],
            "type": "contour"
           }
          ],
          "contourcarpet": [
           {
            "colorbar": {
             "outlinewidth": 0,
             "ticks": ""
            },
            "type": "contourcarpet"
           }
          ],
          "heatmap": [
           {
            "colorbar": {
             "outlinewidth": 0,
             "ticks": ""
            },
            "colorscale": [
             [
              0,
              "#0d0887"
             ],
             [
              0.1111111111111111,
              "#46039f"
             ],
             [
              0.2222222222222222,
              "#7201a8"
             ],
             [
              0.3333333333333333,
              "#9c179e"
             ],
             [
              0.4444444444444444,
              "#bd3786"
             ],
             [
              0.5555555555555556,
              "#d8576b"
             ],
             [
              0.6666666666666666,
              "#ed7953"
             ],
             [
              0.7777777777777778,
              "#fb9f3a"
             ],
             [
              0.8888888888888888,
              "#fdca26"
             ],
             [
              1,
              "#f0f921"
             ]
            ],
            "type": "heatmap"
           }
          ],
          "heatmapgl": [
           {
            "colorbar": {
             "outlinewidth": 0,
             "ticks": ""
            },
            "colorscale": [
             [
              0,
              "#0d0887"
             ],
             [
              0.1111111111111111,
              "#46039f"
             ],
             [
              0.2222222222222222,
              "#7201a8"
             ],
             [
              0.3333333333333333,
              "#9c179e"
             ],
             [
              0.4444444444444444,
              "#bd3786"
             ],
             [
              0.5555555555555556,
              "#d8576b"
             ],
             [
              0.6666666666666666,
              "#ed7953"
             ],
             [
              0.7777777777777778,
              "#fb9f3a"
             ],
             [
              0.8888888888888888,
              "#fdca26"
             ],
             [
              1,
              "#f0f921"
             ]
            ],
            "type": "heatmapgl"
           }
          ],
          "histogram": [
           {
            "marker": {
             "colorbar": {
              "outlinewidth": 0,
              "ticks": ""
             }
            },
            "type": "histogram"
           }
          ],
          "histogram2d": [
           {
            "colorbar": {
             "outlinewidth": 0,
             "ticks": ""
            },
            "colorscale": [
             [
              0,
              "#0d0887"
             ],
             [
              0.1111111111111111,
              "#46039f"
             ],
             [
              0.2222222222222222,
              "#7201a8"
             ],
             [
              0.3333333333333333,
              "#9c179e"
             ],
             [
              0.4444444444444444,
              "#bd3786"
             ],
             [
              0.5555555555555556,
              "#d8576b"
             ],
             [
              0.6666666666666666,
              "#ed7953"
             ],
             [
              0.7777777777777778,
              "#fb9f3a"
             ],
             [
              0.8888888888888888,
              "#fdca26"
             ],
             [
              1,
              "#f0f921"
             ]
            ],
            "type": "histogram2d"
           }
          ],
          "histogram2dcontour": [
           {
            "colorbar": {
             "outlinewidth": 0,
             "ticks": ""
            },
            "colorscale": [
             [
              0,
              "#0d0887"
             ],
             [
              0.1111111111111111,
              "#46039f"
             ],
             [
              0.2222222222222222,
              "#7201a8"
             ],
             [
              0.3333333333333333,
              "#9c179e"
             ],
             [
              0.4444444444444444,
              "#bd3786"
             ],
             [
              0.5555555555555556,
              "#d8576b"
             ],
             [
              0.6666666666666666,
              "#ed7953"
             ],
             [
              0.7777777777777778,
              "#fb9f3a"
             ],
             [
              0.8888888888888888,
              "#fdca26"
             ],
             [
              1,
              "#f0f921"
             ]
            ],
            "type": "histogram2dcontour"
           }
          ],
          "mesh3d": [
           {
            "colorbar": {
             "outlinewidth": 0,
             "ticks": ""
            },
            "type": "mesh3d"
           }
          ],
          "parcoords": [
           {
            "line": {
             "colorbar": {
              "outlinewidth": 0,
              "ticks": ""
             }
            },
            "type": "parcoords"
           }
          ],
          "pie": [
           {
            "automargin": true,
            "type": "pie"
           }
          ],
          "scatter": [
           {
            "marker": {
             "colorbar": {
              "outlinewidth": 0,
              "ticks": ""
             }
            },
            "type": "scatter"
           }
          ],
          "scatter3d": [
           {
            "line": {
             "colorbar": {
              "outlinewidth": 0,
              "ticks": ""
             }
            },
            "marker": {
             "colorbar": {
              "outlinewidth": 0,
              "ticks": ""
             }
            },
            "type": "scatter3d"
           }
          ],
          "scattercarpet": [
           {
            "marker": {
             "colorbar": {
              "outlinewidth": 0,
              "ticks": ""
             }
            },
            "type": "scattercarpet"
           }
          ],
          "scattergeo": [
           {
            "marker": {
             "colorbar": {
              "outlinewidth": 0,
              "ticks": ""
             }
            },
            "type": "scattergeo"
           }
          ],
          "scattergl": [
           {
            "marker": {
             "colorbar": {
              "outlinewidth": 0,
              "ticks": ""
             }
            },
            "type": "scattergl"
           }
          ],
          "scattermapbox": [
           {
            "marker": {
             "colorbar": {
              "outlinewidth": 0,
              "ticks": ""
             }
            },
            "type": "scattermapbox"
           }
          ],
          "scatterpolar": [
           {
            "marker": {
             "colorbar": {
              "outlinewidth": 0,
              "ticks": ""
             }
            },
            "type": "scatterpolar"
           }
          ],
          "scatterpolargl": [
           {
            "marker": {
             "colorbar": {
              "outlinewidth": 0,
              "ticks": ""
             }
            },
            "type": "scatterpolargl"
           }
          ],
          "scatterternary": [
           {
            "marker": {
             "colorbar": {
              "outlinewidth": 0,
              "ticks": ""
             }
            },
            "type": "scatterternary"
           }
          ],
          "surface": [
           {
            "colorbar": {
             "outlinewidth": 0,
             "ticks": ""
            },
            "colorscale": [
             [
              0,
              "#0d0887"
             ],
             [
              0.1111111111111111,
              "#46039f"
             ],
             [
              0.2222222222222222,
              "#7201a8"
             ],
             [
              0.3333333333333333,
              "#9c179e"
             ],
             [
              0.4444444444444444,
              "#bd3786"
             ],
             [
              0.5555555555555556,
              "#d8576b"
             ],
             [
              0.6666666666666666,
              "#ed7953"
             ],
             [
              0.7777777777777778,
              "#fb9f3a"
             ],
             [
              0.8888888888888888,
              "#fdca26"
             ],
             [
              1,
              "#f0f921"
             ]
            ],
            "type": "surface"
           }
          ],
          "table": [
           {
            "cells": {
             "fill": {
              "color": "#EBF0F8"
             },
             "line": {
              "color": "white"
             }
            },
            "header": {
             "fill": {
              "color": "#C8D4E3"
             },
             "line": {
              "color": "white"
             }
            },
            "type": "table"
           }
          ]
         },
         "layout": {
          "annotationdefaults": {
           "arrowcolor": "#2a3f5f",
           "arrowhead": 0,
           "arrowwidth": 1
          },
          "coloraxis": {
           "colorbar": {
            "outlinewidth": 0,
            "ticks": ""
           }
          },
          "colorscale": {
           "diverging": [
            [
             0,
             "#8e0152"
            ],
            [
             0.1,
             "#c51b7d"
            ],
            [
             0.2,
             "#de77ae"
            ],
            [
             0.3,
             "#f1b6da"
            ],
            [
             0.4,
             "#fde0ef"
            ],
            [
             0.5,
             "#f7f7f7"
            ],
            [
             0.6,
             "#e6f5d0"
            ],
            [
             0.7,
             "#b8e186"
            ],
            [
             0.8,
             "#7fbc41"
            ],
            [
             0.9,
             "#4d9221"
            ],
            [
             1,
             "#276419"
            ]
           ],
           "sequential": [
            [
             0,
             "#0d0887"
            ],
            [
             0.1111111111111111,
             "#46039f"
            ],
            [
             0.2222222222222222,
             "#7201a8"
            ],
            [
             0.3333333333333333,
             "#9c179e"
            ],
            [
             0.4444444444444444,
             "#bd3786"
            ],
            [
             0.5555555555555556,
             "#d8576b"
            ],
            [
             0.6666666666666666,
             "#ed7953"
            ],
            [
             0.7777777777777778,
             "#fb9f3a"
            ],
            [
             0.8888888888888888,
             "#fdca26"
            ],
            [
             1,
             "#f0f921"
            ]
           ],
           "sequentialminus": [
            [
             0,
             "#0d0887"
            ],
            [
             0.1111111111111111,
             "#46039f"
            ],
            [
             0.2222222222222222,
             "#7201a8"
            ],
            [
             0.3333333333333333,
             "#9c179e"
            ],
            [
             0.4444444444444444,
             "#bd3786"
            ],
            [
             0.5555555555555556,
             "#d8576b"
            ],
            [
             0.6666666666666666,
             "#ed7953"
            ],
            [
             0.7777777777777778,
             "#fb9f3a"
            ],
            [
             0.8888888888888888,
             "#fdca26"
            ],
            [
             1,
             "#f0f921"
            ]
           ]
          },
          "colorway": [
           "#636efa",
           "#EF553B",
           "#00cc96",
           "#ab63fa",
           "#FFA15A",
           "#19d3f3",
           "#FF6692",
           "#B6E880",
           "#FF97FF",
           "#FECB52"
          ],
          "font": {
           "color": "#2a3f5f"
          },
          "geo": {
           "bgcolor": "white",
           "lakecolor": "white",
           "landcolor": "#E5ECF6",
           "showlakes": true,
           "showland": true,
           "subunitcolor": "white"
          },
          "hoverlabel": {
           "align": "left"
          },
          "hovermode": "closest",
          "mapbox": {
           "style": "light"
          },
          "paper_bgcolor": "white",
          "plot_bgcolor": "#E5ECF6",
          "polar": {
           "angularaxis": {
            "gridcolor": "white",
            "linecolor": "white",
            "ticks": ""
           },
           "bgcolor": "#E5ECF6",
           "radialaxis": {
            "gridcolor": "white",
            "linecolor": "white",
            "ticks": ""
           }
          },
          "scene": {
           "xaxis": {
            "backgroundcolor": "#E5ECF6",
            "gridcolor": "white",
            "gridwidth": 2,
            "linecolor": "white",
            "showbackground": true,
            "ticks": "",
            "zerolinecolor": "white"
           },
           "yaxis": {
            "backgroundcolor": "#E5ECF6",
            "gridcolor": "white",
            "gridwidth": 2,
            "linecolor": "white",
            "showbackground": true,
            "ticks": "",
            "zerolinecolor": "white"
           },
           "zaxis": {
            "backgroundcolor": "#E5ECF6",
            "gridcolor": "white",
            "gridwidth": 2,
            "linecolor": "white",
            "showbackground": true,
            "ticks": "",
            "zerolinecolor": "white"
           }
          },
          "shapedefaults": {
           "line": {
            "color": "#2a3f5f"
           }
          },
          "ternary": {
           "aaxis": {
            "gridcolor": "white",
            "linecolor": "white",
            "ticks": ""
           },
           "baxis": {
            "gridcolor": "white",
            "linecolor": "white",
            "ticks": ""
           },
           "bgcolor": "#E5ECF6",
           "caxis": {
            "gridcolor": "white",
            "linecolor": "white",
            "ticks": ""
           }
          },
          "title": {
           "x": 0.05
          },
          "xaxis": {
           "automargin": true,
           "gridcolor": "white",
           "linecolor": "white",
           "ticks": "",
           "title": {
            "standoff": 15
           },
           "zerolinecolor": "white",
           "zerolinewidth": 2
          },
          "yaxis": {
           "automargin": true,
           "gridcolor": "white",
           "linecolor": "white",
           "ticks": "",
           "title": {
            "standoff": 15
           },
           "zerolinecolor": "white",
           "zerolinewidth": 2
          }
         }
        },
        "title": {
         "text": "selon le secteur d'activité"
        },
        "updatemenus": [
         {
          "buttons": [
           {
            "args": [
             {
              "visible": [
               true,
               false,
               false,
               false,
               false,
               false,
               false,
               false,
               false
              ]
             }
            ],
            "label": "2019",
            "method": "update"
           },
           {
            "args": [
             {
              "visible": [
               false,
               true,
               false,
               false,
               false,
               false,
               false,
               false,
               false
              ]
             }
            ],
            "label": "2018",
            "method": "update"
           },
           {
            "args": [
             {
              "visible": [
               false,
               false,
               true,
               false,
               false,
               false,
               false,
               false,
               false
              ]
             }
            ],
            "label": "2017",
            "method": "update"
           },
           {
            "args": [
             {
              "visible": [
               false,
               false,
               false,
               true,
               false,
               false,
               false,
               false,
               false
              ]
             }
            ],
            "label": "2016",
            "method": "update"
           },
           {
            "args": [
             {
              "visible": [
               false,
               false,
               false,
               false,
               true,
               false,
               false,
               false,
               false
              ]
             }
            ],
            "label": "2015",
            "method": "update"
           },
           {
            "args": [
             {
              "visible": [
               false,
               false,
               false,
               false,
               false,
               true,
               false,
               false,
               false
              ]
             }
            ],
            "label": "2014",
            "method": "update"
           },
           {
            "args": [
             {
              "visible": [
               false,
               false,
               false,
               false,
               false,
               false,
               true,
               false,
               false
              ]
             }
            ],
            "label": "2013",
            "method": "update"
           },
           {
            "args": [
             {
              "visible": [
               false,
               false,
               false,
               false,
               false,
               false,
               false,
               true,
               false
              ]
             }
            ],
            "label": "2012",
            "method": "update"
           },
           {
            "args": [
             {
              "visible": [
               false,
               false,
               false,
               false,
               false,
               false,
               false,
               false,
               true
              ]
             }
            ],
            "label": "2011",
            "method": "update"
           }
          ]
         }
        ]
       }
      },
      "text/html": [
       "<div>\n",
       "        \n",
       "        \n",
       "            <div id=\"cf065f34-b30a-4f28-ab02-1d7725642dc2\" class=\"plotly-graph-div\" style=\"height:525px; width:100%;\"></div>\n",
       "            <script type=\"text/javascript\">\n",
       "                require([\"plotly\"], function(Plotly) {\n",
       "                    window.PLOTLYENV=window.PLOTLYENV || {};\n",
       "                    \n",
       "                if (document.getElementById(\"cf065f34-b30a-4f28-ab02-1d7725642dc2\")) {\n",
       "                    Plotly.newPlot(\n",
       "                        'cf065f34-b30a-4f28-ab02-1d7725642dc2',\n",
       "                        [{\"labels\": [\" Agriculture et p\\u00eache\", \" l'Industries manufacturi\\u00e8res\", \" l'Industries agroalimentaires\", \" les mat\\u00e9riaux de constructions\", \"  l'Industries m\\u00e9caniques et \\u00e9lectriques\", \"  l'Industries chimiques\", \" le Textile, l\\u2019habillement et des chaussures\", \" d'Autres industries manufacturi\\u00e8res\", \" l'Industries  non manufacturi\\u00e8res\", \" Mines et \\u00e9nergie\", \" Construction et travaux publics\", \" les Services\", \" le Commerce\", \" le Transport et t\\u00e9l\\u00e9communication\", \" l'H\\u00f4tel et restauration\", \" les Banques et assurances\", \" les Services de r\\u00e9paration et de l'immobilier\", \" les Services sociaux et culturels\", \" les Services de l\\u2019\\u00e9ducation, la sant\\u00e9\", \" des activit\\u00e9 Non d\\u00e9clar\\u00e9s\"], \"type\": \"pie\", \"values\": [491.1, 656.7, 104.0, 37.1, 159.4, 29.2, 234.0, 93.0, 552.5, 41.0, 511.5, 1846.9, 439.8, 196.8, 158.5, 37.2, 186.9, 159.3, 668.4, 19.2]}, {\"labels\": [\" Agriculture et p\\u00eache\", \" l'Industries manufacturi\\u00e8res\", \" l'Industries agroalimentaires\", \" les mat\\u00e9riaux de constructions\", \"  l'Industries m\\u00e9caniques et \\u00e9lectriques\", \"  l'Industries chimiques\", \" le Textile, l\\u2019habillement et des chaussures\", \" d'Autres industries manufacturi\\u00e8res\", \" l'Industries  non manufacturi\\u00e8res\", \" Mines et \\u00e9nergie\", \" Construction et travaux publics\", \" les Services\", \" le Commerce\", \" le Transport et t\\u00e9l\\u00e9communication\", \" l'H\\u00f4tel et restauration\", \" les Banques et assurances\", \" les Services de r\\u00e9paration et de l'immobilier\", \" les Services sociaux et culturels\", \" les Services de l\\u2019\\u00e9ducation, la sant\\u00e9\", \" des activit\\u00e9 Non d\\u00e9clar\\u00e9s\"], \"type\": \"pie\", \"values\": [488.56900000000013, 653.1, 92.998, 40.173, 159.97299999999998, 29.918000000000003, 246.067, 83.971, 534.859, 35.18300000000001, 499.676, 1814.746, 453.35, 192.462, 148.17600000000002, 31.565, 180.577, 150.465, 658.1510000000002, 16.3]}, {\"labels\": [\" Agriculture et p\\u00eache\", \" l'Industries manufacturi\\u00e8res\", \" l'Industries agroalimentaires\", \" les mat\\u00e9riaux de constructions\", \"  l'Industries m\\u00e9caniques et \\u00e9lectriques\", \"  l'Industries chimiques\", \" le Textile, l\\u2019habillement et des chaussures\", \" d'Autres industries manufacturi\\u00e8res\", \" l'Industries  non manufacturi\\u00e8res\", \" Mines et \\u00e9nergie\", \" Construction et travaux publics\", \" les Services\", \" le Commerce\", \" le Transport et t\\u00e9l\\u00e9communication\", \" l'H\\u00f4tel et restauration\", \" les Banques et assurances\", \" les Services de r\\u00e9paration et de l'immobilier\", \" les Services sociaux et culturels\", \" les Services de l\\u2019\\u00e9ducation, la sant\\u00e9\", \" des activit\\u00e9 Non d\\u00e9clar\\u00e9s\"], \"type\": \"pie\", \"values\": [502.8, 644.4, 94.7, 39.8, 156.0, 29.7, 237.0, 87.2, 526.1, 35.3, 490.8, 1804.0, 461.2, 188.1, 130.9, 36.9, 176.8, 146.3, 663.8, 2.7]}, {\"labels\": [\" Agriculture et p\\u00eache\", \" l'Industries manufacturi\\u00e8res\", \" l'Industries agroalimentaires\", \" les mat\\u00e9riaux de constructions\", \"  l'Industries m\\u00e9caniques et \\u00e9lectriques\", \"  l'Industries chimiques\", \" le Textile, l\\u2019habillement et des chaussures\", \" d'Autres industries manufacturi\\u00e8res\", \" l'Industries  non manufacturi\\u00e8res\", \" Mines et \\u00e9nergie\", \" Construction et travaux publics\", \" les Services\", \" le Commerce\", \" le Transport et t\\u00e9l\\u00e9communication\", \" l'H\\u00f4tel et restauration\", \" les Banques et assurances\", \" les Services de r\\u00e9paration et de l'immobilier\", \" les Services sociaux et culturels\", \" les Services de l\\u2019\\u00e9ducation, la sant\\u00e9\", \" des activit\\u00e9 Non d\\u00e9clar\\u00e9s\"], \"type\": \"pie\", \"values\": [515.0, 625.4, 91.0, 38.2, 149.6, 30.5, 232.5, 83.6, 509.0, 38.9, 470.1, 1771.9, 455.6, 189.0, 115.4, 36.1, 174.5, 140.4, 660.9, 15.4]}, {\"labels\": [\" Agriculture et p\\u00eache\", \" l'Industries manufacturi\\u00e8res\", \" l'Industries agroalimentaires\", \" les mat\\u00e9riaux de constructions\", \"  l'Industries m\\u00e9caniques et \\u00e9lectriques\", \"  l'Industries chimiques\", \" le Textile, l\\u2019habillement et des chaussures\", \" d'Autres industries manufacturi\\u00e8res\", \" l'Industries  non manufacturi\\u00e8res\", \" Mines et \\u00e9nergie\", \" Construction et travaux publics\", \" les Services\", \" le Commerce\", \" le Transport et t\\u00e9l\\u00e9communication\", \" l'H\\u00f4tel et restauration\", \" les Banques et assurances\", \" les Services de r\\u00e9paration et de l'immobilier\", \" les Services sociaux et culturels\", \" les Services de l\\u2019\\u00e9ducation, la sant\\u00e9\", \" des activit\\u00e9 Non d\\u00e9clar\\u00e9s\"], \"type\": \"pie\", \"values\": [514.1, 632.4, 87.4, 42.8, 151.8, 28.7, 234.8, 86.9, 490.7, 34.1, 456.6, 1764.3, 459.1, 188.5, 106.7, 32.2, 174.9, 142.1, 660.8, 0.5]}, {\"labels\": [\" Agriculture et p\\u00eache\", \" l'Industries manufacturi\\u00e8res\", \" l'Industries agroalimentaires\", \" les mat\\u00e9riaux de constructions\", \"  l'Industries m\\u00e9caniques et \\u00e9lectriques\", \"  l'Industries chimiques\", \" le Textile, l\\u2019habillement et des chaussures\", \" d'Autres industries manufacturi\\u00e8res\", \" l'Industries  non manufacturi\\u00e8res\", \" Mines et \\u00e9nergie\", \" Construction et travaux publics\", \" les Services\", \" le Commerce\", \" le Transport et t\\u00e9l\\u00e9communication\", \" l'H\\u00f4tel et restauration\", \" les Banques et assurances\", \" les Services de r\\u00e9paration et de l'immobilier\", \" les Services sociaux et culturels\", \" les Services de l\\u2019\\u00e9ducation, la sant\\u00e9\", \" des activit\\u00e9 Non d\\u00e9clar\\u00e9s\"], \"type\": \"pie\", \"values\": [525.7, 634.0, 79.8, 44.4, 149.9, 25.7, 253.3, 80.9, 494.8, 40.6, 454.2, 1758.4, 443.8, 199.1, 128.2, 30.4, 155.4, 138.3, 663.2, 0.8]}, {\"labels\": [\" Agriculture et p\\u00eache\", \" l'Industries manufacturi\\u00e8res\", \" l'Industries agroalimentaires\", \" les mat\\u00e9riaux de constructions\", \"  l'Industries m\\u00e9caniques et \\u00e9lectriques\", \"  l'Industries chimiques\", \" le Textile, l\\u2019habillement et des chaussures\", \" d'Autres industries manufacturi\\u00e8res\", \" l'Industries  non manufacturi\\u00e8res\", \" Mines et \\u00e9nergie\", \" Construction et travaux publics\", \" les Services\", \" le Commerce\", \" le Transport et t\\u00e9l\\u00e9communication\", \" l'H\\u00f4tel et restauration\", \" les Banques et assurances\", \" les Services de r\\u00e9paration et de l'immobilier\", \" les Services sociaux et culturels\", \" les Services de l\\u2019\\u00e9ducation, la sant\\u00e9\", \" des activit\\u00e9 Non d\\u00e9clar\\u00e9s\"], \"type\": \"pie\", \"values\": [517.2, 630.9, 89.7, 35.4, 141.4, 31.9, 250.6, 81.9, 489.3, 40.4, 448.9, 1717.9, 413.4, 194.7, 121.9, 27.7, 153.5, 148.6, 658.1, 13.4]}, {\"labels\": [\" Agriculture et p\\u00eache\", \" l'Industries manufacturi\\u00e8res\", \" l'Industries agroalimentaires\", \" les mat\\u00e9riaux de constructions\", \"  l'Industries m\\u00e9caniques et \\u00e9lectriques\", \"  l'Industries chimiques\", \" le Textile, l\\u2019habillement et des chaussures\", \" d'Autres industries manufacturi\\u00e8res\", \" l'Industries  non manufacturi\\u00e8res\", \" Mines et \\u00e9nergie\", \" Construction et travaux publics\", \" les Services\", \" le Commerce\", \" le Transport et t\\u00e9l\\u00e9communication\", \" l'H\\u00f4tel et restauration\", \" les Banques et assurances\", \" les Services de r\\u00e9paration et de l'immobilier\", \" les Services sociaux et culturels\", \" les Services de l\\u2019\\u00e9ducation, la sant\\u00e9\", \" des activit\\u00e9 Non d\\u00e9clar\\u00e9s\"], \"type\": \"pie\", \"values\": [530.4, 602.6, 80.7, 37.1, 116.7, 33.7, 244.7, 89.7, 465.0, 37.7, 427.3, 1645.4, 402.5, 195.3, 108.4, 24.1, 155.9, 130.2, 629.0, 12.4]}, {\"labels\": [\" Agriculture et p\\u00eache\", \" l'Industries manufacturi\\u00e8res\", \" l'Industries agroalimentaires\", \" les mat\\u00e9riaux de constructions\", \"  l'Industries m\\u00e9caniques et \\u00e9lectriques\", \"  l'Industries chimiques\", \" le Textile, l\\u2019habillement et des chaussures\", \" d'Autres industries manufacturi\\u00e8res\", \" l'Industries  non manufacturi\\u00e8res\", \" Mines et \\u00e9nergie\", \" Construction et travaux publics\", \" les Services\", \" le Commerce\", \" le Transport et t\\u00e9l\\u00e9communication\", \" l'H\\u00f4tel et restauration\", \" les Banques et assurances\", \" les Services de r\\u00e9paration et de l'immobilier\", \" les Services sociaux et culturels\", \" les Services de l\\u2019\\u00e9ducation, la sant\\u00e9\", \" des activit\\u00e9 Non d\\u00e9clar\\u00e9s\"], \"type\": \"pie\", \"values\": [534.5, 572.7, 68.2, 37.1, 124.0, 28.0, 228.4, 87.0, 457.7, 32.0, 425.7, 1595.8, 387.5, 182.8, 114.6, 27.1, 139.9, 132.5, 611.4, 10.0]}],\n",
       "                        {\"template\": {\"data\": {\"bar\": [{\"error_x\": {\"color\": \"#2a3f5f\"}, \"error_y\": {\"color\": \"#2a3f5f\"}, \"marker\": {\"line\": {\"color\": \"#E5ECF6\", \"width\": 0.5}}, \"type\": \"bar\"}], \"barpolar\": [{\"marker\": {\"line\": {\"color\": \"#E5ECF6\", \"width\": 0.5}}, \"type\": \"barpolar\"}], \"carpet\": [{\"aaxis\": {\"endlinecolor\": \"#2a3f5f\", \"gridcolor\": \"white\", \"linecolor\": \"white\", \"minorgridcolor\": \"white\", \"startlinecolor\": \"#2a3f5f\"}, \"baxis\": {\"endlinecolor\": \"#2a3f5f\", \"gridcolor\": \"white\", \"linecolor\": \"white\", \"minorgridcolor\": \"white\", \"startlinecolor\": \"#2a3f5f\"}, \"type\": \"carpet\"}], \"choropleth\": [{\"colorbar\": {\"outlinewidth\": 0, \"ticks\": \"\"}, \"type\": \"choropleth\"}], \"contour\": [{\"colorbar\": {\"outlinewidth\": 0, \"ticks\": \"\"}, \"colorscale\": [[0.0, \"#0d0887\"], [0.1111111111111111, \"#46039f\"], [0.2222222222222222, \"#7201a8\"], [0.3333333333333333, \"#9c179e\"], [0.4444444444444444, \"#bd3786\"], [0.5555555555555556, \"#d8576b\"], [0.6666666666666666, \"#ed7953\"], [0.7777777777777778, \"#fb9f3a\"], [0.8888888888888888, \"#fdca26\"], [1.0, \"#f0f921\"]], \"type\": \"contour\"}], \"contourcarpet\": [{\"colorbar\": {\"outlinewidth\": 0, \"ticks\": \"\"}, \"type\": \"contourcarpet\"}], \"heatmap\": [{\"colorbar\": {\"outlinewidth\": 0, \"ticks\": \"\"}, \"colorscale\": [[0.0, \"#0d0887\"], [0.1111111111111111, \"#46039f\"], [0.2222222222222222, \"#7201a8\"], [0.3333333333333333, \"#9c179e\"], [0.4444444444444444, \"#bd3786\"], [0.5555555555555556, \"#d8576b\"], [0.6666666666666666, \"#ed7953\"], [0.7777777777777778, \"#fb9f3a\"], [0.8888888888888888, \"#fdca26\"], [1.0, \"#f0f921\"]], \"type\": \"heatmap\"}], \"heatmapgl\": [{\"colorbar\": {\"outlinewidth\": 0, \"ticks\": \"\"}, \"colorscale\": [[0.0, \"#0d0887\"], [0.1111111111111111, \"#46039f\"], [0.2222222222222222, \"#7201a8\"], [0.3333333333333333, \"#9c179e\"], [0.4444444444444444, \"#bd3786\"], [0.5555555555555556, \"#d8576b\"], [0.6666666666666666, \"#ed7953\"], [0.7777777777777778, \"#fb9f3a\"], [0.8888888888888888, \"#fdca26\"], [1.0, \"#f0f921\"]], \"type\": \"heatmapgl\"}], \"histogram\": [{\"marker\": {\"colorbar\": {\"outlinewidth\": 0, \"ticks\": \"\"}}, \"type\": \"histogram\"}], \"histogram2d\": [{\"colorbar\": {\"outlinewidth\": 0, \"ticks\": \"\"}, \"colorscale\": [[0.0, \"#0d0887\"], [0.1111111111111111, \"#46039f\"], [0.2222222222222222, \"#7201a8\"], [0.3333333333333333, \"#9c179e\"], [0.4444444444444444, \"#bd3786\"], [0.5555555555555556, \"#d8576b\"], [0.6666666666666666, \"#ed7953\"], [0.7777777777777778, \"#fb9f3a\"], [0.8888888888888888, \"#fdca26\"], [1.0, \"#f0f921\"]], \"type\": \"histogram2d\"}], \"histogram2dcontour\": [{\"colorbar\": {\"outlinewidth\": 0, \"ticks\": \"\"}, \"colorscale\": [[0.0, \"#0d0887\"], [0.1111111111111111, \"#46039f\"], [0.2222222222222222, \"#7201a8\"], [0.3333333333333333, \"#9c179e\"], [0.4444444444444444, \"#bd3786\"], [0.5555555555555556, \"#d8576b\"], [0.6666666666666666, \"#ed7953\"], [0.7777777777777778, \"#fb9f3a\"], [0.8888888888888888, \"#fdca26\"], [1.0, \"#f0f921\"]], \"type\": \"histogram2dcontour\"}], \"mesh3d\": [{\"colorbar\": {\"outlinewidth\": 0, \"ticks\": \"\"}, \"type\": \"mesh3d\"}], \"parcoords\": [{\"line\": {\"colorbar\": {\"outlinewidth\": 0, \"ticks\": \"\"}}, \"type\": \"parcoords\"}], \"pie\": [{\"automargin\": true, \"type\": \"pie\"}], \"scatter\": [{\"marker\": {\"colorbar\": {\"outlinewidth\": 0, \"ticks\": \"\"}}, \"type\": \"scatter\"}], \"scatter3d\": [{\"line\": {\"colorbar\": {\"outlinewidth\": 0, \"ticks\": \"\"}}, \"marker\": {\"colorbar\": {\"outlinewidth\": 0, \"ticks\": \"\"}}, \"type\": \"scatter3d\"}], \"scattercarpet\": [{\"marker\": {\"colorbar\": {\"outlinewidth\": 0, \"ticks\": \"\"}}, \"type\": \"scattercarpet\"}], \"scattergeo\": [{\"marker\": {\"colorbar\": {\"outlinewidth\": 0, \"ticks\": \"\"}}, \"type\": \"scattergeo\"}], \"scattergl\": [{\"marker\": {\"colorbar\": {\"outlinewidth\": 0, \"ticks\": \"\"}}, \"type\": \"scattergl\"}], \"scattermapbox\": [{\"marker\": {\"colorbar\": {\"outlinewidth\": 0, \"ticks\": \"\"}}, \"type\": \"scattermapbox\"}], \"scatterpolar\": [{\"marker\": {\"colorbar\": {\"outlinewidth\": 0, \"ticks\": \"\"}}, \"type\": \"scatterpolar\"}], \"scatterpolargl\": [{\"marker\": {\"colorbar\": {\"outlinewidth\": 0, \"ticks\": \"\"}}, \"type\": \"scatterpolargl\"}], \"scatterternary\": [{\"marker\": {\"colorbar\": {\"outlinewidth\": 0, \"ticks\": \"\"}}, \"type\": \"scatterternary\"}], \"surface\": [{\"colorbar\": {\"outlinewidth\": 0, \"ticks\": \"\"}, \"colorscale\": [[0.0, \"#0d0887\"], [0.1111111111111111, \"#46039f\"], [0.2222222222222222, \"#7201a8\"], [0.3333333333333333, \"#9c179e\"], [0.4444444444444444, \"#bd3786\"], [0.5555555555555556, \"#d8576b\"], [0.6666666666666666, \"#ed7953\"], [0.7777777777777778, \"#fb9f3a\"], [0.8888888888888888, \"#fdca26\"], [1.0, \"#f0f921\"]], \"type\": \"surface\"}], \"table\": [{\"cells\": {\"fill\": {\"color\": \"#EBF0F8\"}, \"line\": {\"color\": \"white\"}}, \"header\": {\"fill\": {\"color\": \"#C8D4E3\"}, \"line\": {\"color\": \"white\"}}, \"type\": \"table\"}]}, \"layout\": {\"annotationdefaults\": {\"arrowcolor\": \"#2a3f5f\", \"arrowhead\": 0, \"arrowwidth\": 1}, \"coloraxis\": {\"colorbar\": {\"outlinewidth\": 0, \"ticks\": \"\"}}, \"colorscale\": {\"diverging\": [[0, \"#8e0152\"], [0.1, \"#c51b7d\"], [0.2, \"#de77ae\"], [0.3, \"#f1b6da\"], [0.4, \"#fde0ef\"], [0.5, \"#f7f7f7\"], [0.6, \"#e6f5d0\"], [0.7, \"#b8e186\"], [0.8, \"#7fbc41\"], [0.9, \"#4d9221\"], [1, \"#276419\"]], \"sequential\": [[0.0, \"#0d0887\"], [0.1111111111111111, \"#46039f\"], [0.2222222222222222, \"#7201a8\"], [0.3333333333333333, \"#9c179e\"], [0.4444444444444444, \"#bd3786\"], [0.5555555555555556, \"#d8576b\"], [0.6666666666666666, \"#ed7953\"], [0.7777777777777778, \"#fb9f3a\"], [0.8888888888888888, \"#fdca26\"], [1.0, \"#f0f921\"]], \"sequentialminus\": [[0.0, \"#0d0887\"], [0.1111111111111111, \"#46039f\"], [0.2222222222222222, \"#7201a8\"], [0.3333333333333333, \"#9c179e\"], [0.4444444444444444, \"#bd3786\"], [0.5555555555555556, \"#d8576b\"], [0.6666666666666666, \"#ed7953\"], [0.7777777777777778, \"#fb9f3a\"], [0.8888888888888888, \"#fdca26\"], [1.0, \"#f0f921\"]]}, \"colorway\": [\"#636efa\", \"#EF553B\", \"#00cc96\", \"#ab63fa\", \"#FFA15A\", \"#19d3f3\", \"#FF6692\", \"#B6E880\", \"#FF97FF\", \"#FECB52\"], \"font\": {\"color\": \"#2a3f5f\"}, \"geo\": {\"bgcolor\": \"white\", \"lakecolor\": \"white\", \"landcolor\": \"#E5ECF6\", \"showlakes\": true, \"showland\": true, \"subunitcolor\": \"white\"}, \"hoverlabel\": {\"align\": \"left\"}, \"hovermode\": \"closest\", \"mapbox\": {\"style\": \"light\"}, \"paper_bgcolor\": \"white\", \"plot_bgcolor\": \"#E5ECF6\", \"polar\": {\"angularaxis\": {\"gridcolor\": \"white\", \"linecolor\": \"white\", \"ticks\": \"\"}, \"bgcolor\": \"#E5ECF6\", \"radialaxis\": {\"gridcolor\": \"white\", \"linecolor\": \"white\", \"ticks\": \"\"}}, \"scene\": {\"xaxis\": {\"backgroundcolor\": \"#E5ECF6\", \"gridcolor\": \"white\", \"gridwidth\": 2, \"linecolor\": \"white\", \"showbackground\": true, \"ticks\": \"\", \"zerolinecolor\": \"white\"}, \"yaxis\": {\"backgroundcolor\": \"#E5ECF6\", \"gridcolor\": \"white\", \"gridwidth\": 2, \"linecolor\": \"white\", \"showbackground\": true, \"ticks\": \"\", \"zerolinecolor\": \"white\"}, \"zaxis\": {\"backgroundcolor\": \"#E5ECF6\", \"gridcolor\": \"white\", \"gridwidth\": 2, \"linecolor\": \"white\", \"showbackground\": true, \"ticks\": \"\", \"zerolinecolor\": \"white\"}}, \"shapedefaults\": {\"line\": {\"color\": \"#2a3f5f\"}}, \"ternary\": {\"aaxis\": {\"gridcolor\": \"white\", \"linecolor\": \"white\", \"ticks\": \"\"}, \"baxis\": {\"gridcolor\": \"white\", \"linecolor\": \"white\", \"ticks\": \"\"}, \"bgcolor\": \"#E5ECF6\", \"caxis\": {\"gridcolor\": \"white\", \"linecolor\": \"white\", \"ticks\": \"\"}}, \"title\": {\"x\": 0.05}, \"xaxis\": {\"automargin\": true, \"gridcolor\": \"white\", \"linecolor\": \"white\", \"ticks\": \"\", \"title\": {\"standoff\": 15}, \"zerolinecolor\": \"white\", \"zerolinewidth\": 2}, \"yaxis\": {\"automargin\": true, \"gridcolor\": \"white\", \"linecolor\": \"white\", \"ticks\": \"\", \"title\": {\"standoff\": 15}, \"zerolinecolor\": \"white\", \"zerolinewidth\": 2}}}, \"title\": {\"text\": \"selon le secteur d'activit\\u00e9\"}, \"updatemenus\": [{\"buttons\": [{\"args\": [{\"visible\": [true, false, false, false, false, false, false, false, false]}], \"label\": \"2019\", \"method\": \"update\"}, {\"args\": [{\"visible\": [false, true, false, false, false, false, false, false, false]}], \"label\": \"2018\", \"method\": \"update\"}, {\"args\": [{\"visible\": [false, false, true, false, false, false, false, false, false]}], \"label\": \"2017\", \"method\": \"update\"}, {\"args\": [{\"visible\": [false, false, false, true, false, false, false, false, false]}], \"label\": \"2016\", \"method\": \"update\"}, {\"args\": [{\"visible\": [false, false, false, false, true, false, false, false, false]}], \"label\": \"2015\", \"method\": \"update\"}, {\"args\": [{\"visible\": [false, false, false, false, false, true, false, false, false]}], \"label\": \"2014\", \"method\": \"update\"}, {\"args\": [{\"visible\": [false, false, false, false, false, false, true, false, false]}], \"label\": \"2013\", \"method\": \"update\"}, {\"args\": [{\"visible\": [false, false, false, false, false, false, false, true, false]}], \"label\": \"2012\", \"method\": \"update\"}, {\"args\": [{\"visible\": [false, false, false, false, false, false, false, false, true]}], \"label\": \"2011\", \"method\": \"update\"}]}]},\n",
       "                        {\"responsive\": true}\n",
       "                    ).then(function(){\n",
       "                            \n",
       "var gd = document.getElementById('cf065f34-b30a-4f28-ab02-1d7725642dc2');\n",
       "var x = new MutationObserver(function (mutations, observer) {{\n",
       "        var display = window.getComputedStyle(gd).display;\n",
       "        if (!display || display === 'none') {{\n",
       "            console.log([gd, 'removed!']);\n",
       "            Plotly.purge(gd);\n",
       "            observer.disconnect();\n",
       "        }}\n",
       "}});\n",
       "\n",
       "// Listen for the removal of the full notebook cells\n",
       "var notebookContainer = gd.closest('#notebook-container');\n",
       "if (notebookContainer) {{\n",
       "    x.observe(notebookContainer, {childList: true});\n",
       "}}\n",
       "\n",
       "// Listen for the clearing of the current output cell\n",
       "var outputEl = gd.closest('.output');\n",
       "if (outputEl) {{\n",
       "    x.observe(outputEl, {childList: true});\n",
       "}}\n",
       "\n",
       "                        })\n",
       "                };\n",
       "                });\n",
       "            </script>\n",
       "        </div>"
      ]
     },
     "metadata": {},
     "output_type": "display_data"
    }
   ],
   "source": [
    "# Add dropdown\n",
    "updatemenus=[\n",
    "        {'args':[{\"visible\":[True,False,False,False,False,False,False,False,False,]}],\n",
    "         'label':\"2019\",\n",
    "         'method':\"update\"},\n",
    "\n",
    "         {'args':[{\"visible\":[False,True,False,False,False,False,False,False,False,]}],\n",
    "         'label':\"2018\",\n",
    "         'method':\"update\"},\n",
    "\n",
    "         {'args':[{\"visible\":[False,False,True,False,False,False,False,False,False,]}],\n",
    "         'label':\"2017\",\n",
    "         'method':\"update\"\n",
    "         },\n",
    "\n",
    "         {'args':[{\"visible\":[False,False,False,True,False,False,False,False,False,]}],\n",
    "         'label':\"2016\",\n",
    "         'method':\"update\"\n",
    "         },\n",
    "\n",
    "         {'args':[{\"visible\":[False,False,False,False,True,False,False,False,False,]}],\n",
    "         'label':\"2015\",\n",
    "         'method':\"update\" \n",
    "         },\n",
    "\n",
    "         {'args':[{\"visible\":[False,False,False,False,False,True,False,False,False,]}],\n",
    "         'label':\"2014\",\n",
    "         'method':\"update\"\n",
    "         },\n",
    "\n",
    "         {'args':[{\"visible\":[False,False,False,False,False,False,True,False,False,]}],\n",
    "         'label':\"2013\",\n",
    "         'method':\"update\"\n",
    "         },\n",
    "\n",
    "         {'args':[{\"visible\":[False,False,False,False,False,False,False,True,False,]}],\n",
    "         'label':\"2012\",\n",
    "         'method':\"update\"\n",
    "         },\n",
    "\n",
    "          {'args':[{\"visible\":[False,False,False,False,False,False,False,False,True]}],\n",
    "           'label':\"2011\",\n",
    "           'method':\"update\"},]\n",
    "                \n",
    "                \n",
    "#defining layout   \n",
    "layout=go.Layout(updatemenus=list([dict(buttons= list_updatemenus)]),title_text=\"selon le secteur d'activité\")\n",
    "#defining figure and plotting\n",
    "fig_pie_ser = go.Figure(data,layout)\n",
    "fig_pie_ser.show()"
   ]
  }
 ],
 "metadata": {
  "kernelspec": {
   "display_name": "Python 3",
   "language": "python",
   "name": "python3"
  },
  "language_info": {
   "codemirror_mode": {
    "name": "ipython",
    "version": 3
   },
   "file_extension": ".py",
   "mimetype": "text/x-python",
   "name": "python",
   "nbconvert_exporter": "python",
   "pygments_lexer": "ipython3",
   "version": "3.7.3"
  }
 },
 "nbformat": 4,
 "nbformat_minor": 2
}
