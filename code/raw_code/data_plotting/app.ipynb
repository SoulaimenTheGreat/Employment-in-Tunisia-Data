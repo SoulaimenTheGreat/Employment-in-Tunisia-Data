{
 "cells": [
  {
   "cell_type": "code",
   "execution_count": 1,
   "metadata": {},
   "outputs": [],
   "source": [
    "from jupyter_plotly_dash import JupyterDash\n",
    "import dash\n",
    "import dash_core_components as dcc\n",
    "import dash_html_components as html\n",
    "import dash_bootstrap_components as dbc\n",
    "from dash.dependencies import Input, Output, State"
   ]
  },
  {
   "cell_type": "code",
   "execution_count": 2,
   "metadata": {},
   "outputs": [],
   "source": [
    "%store -r fig1\n",
    "%store -r fig2\n",
    "%store -r fig3\n",
    "%store -r fig4"
   ]
  },
  {
   "cell_type": "code",
   "execution_count": 22,
   "metadata": {},
   "outputs": [
    {
     "name": "stdout",
     "output_type": "stream",
     "text": [
      "{\n",
      "  \"shell_port\": 50192,\n",
      "  \"iopub_port\": 50193,\n",
      "  \"stdin_port\": 50194,\n",
      "  \"control_port\": 50195,\n",
      "  \"hb_port\": 50196,\n",
      "  \"ip\": \"127.0.0.1\",\n",
      "  \"key\": \"9e3a5377-8a024acbc7a107ef94d68193\",\n",
      "  \"transport\": \"tcp\",\n",
      "  \"signature_scheme\": \"hmac-sha256\",\n",
      "  \"kernel_name\": \"\"\n",
      "}\n",
      "\n",
      "Paste the above JSON into a file, and connect with:\n",
      "    $> jupyter <app> --existing <file>\n",
      "or, if you are local, you can connect with just:\n",
      "    $> jupyter <app> --existing kernel-ebf4e96a-fd83-413b-8597-11d6d221b695.json\n",
      "or even just:\n",
      "    $> jupyter <app> --existing\n",
      "if this is the most recent Jupyter kernel you have started.\n"
     ]
    }
   ],
   "source": [
    "# external_stylesheets=['https://codepen.io/chriddyp/pen/bWLwgP.css',dbc.themes.COSMO]\n",
    "# app=dash.Dash(external_stylesheets=external_stylesheets)\n",
    "# app = JupyterDash('SimpleExample')\n",
    "# buttons = html.Div(\n",
    "#     [\n",
    "#       dbc.Button(\"Analyse\", color=\"success\", className=\"mr-1\"), \n",
    "#       dbc.Button(\"Prédiction\", color=\"primary\", className=\"mr-1\"),\n",
    "#     ])\n",
    "# app.layout = html.Div([\n",
    "#     dbc.Alert(\"This is a primary alert\", color=\"primary\",className=\"alert-link\"),\n",
    "#     html.H1(children='Hello Ya ali'),\n",
    "#     buttons,\n",
    "#     html.Div([\n",
    "#       dcc.Graph(figure=fig1),\n",
    "#       dcc.Graph(figure=fig2)]),\n",
    "#       dcc.Graph(figure=fig3),\n",
    "#       dcc.Graph(figure=fig4)\n",
    "# ])\n",
    "\n",
    "# # if __name__ == '__main__':\n",
    "# #     app.run_server(debug=False,use_reloader=False)\n",
    "# app\n",
    "%connect_info"
   ]
  },
  {
   "cell_type": "code",
   "execution_count": null,
   "metadata": {},
   "outputs": [],
   "source": []
  }
 ],
 "metadata": {
  "kernelspec": {
   "display_name": "Python 3",
   "language": "python",
   "name": "python3"
  },
  "language_info": {
   "codemirror_mode": {
    "name": "ipython",
    "version": 3
   },
   "file_extension": ".py",
   "mimetype": "text/x-python",
   "name": "python",
   "nbconvert_exporter": "python",
   "pygments_lexer": "ipython3",
   "version": "3.7.3"
  }
 },
 "nbformat": 4,
 "nbformat_minor": 4
}
