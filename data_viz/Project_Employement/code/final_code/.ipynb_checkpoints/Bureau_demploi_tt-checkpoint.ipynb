{
 "cells": [
  {
   "cell_type": "code",
   "execution_count": null,
   "metadata": {},
   "outputs": [],
   "source": [
    "import pandas as pd\n",
    "import numpy as np\n",
    "import plotly.express as px\n",
    "import plotly.graph_objects as go\n",
    "from sklearn.preprocessing import MinMaxScaler\n",
    "from plotly.subplots import make_subplots"
   ]
  },
  {
   "cell_type": "code",
   "execution_count": null,
   "metadata": {},
   "outputs": [],
   "source": [
    "df_Population_Be_1=pd.read_csv(\"~/data_viz/Project_Employement/data/tidy_data/bureau d'emploi/Socio économique 02_22_2020 22_04_20.csv\",\n",
    "                                header=1)\n",
    "df_Population_Be_1"
   ]
  },
  {
   "cell_type": "code",
   "execution_count": null,
   "metadata": {},
   "outputs": [],
   "source": [
    "fig1 = go.Figure()\n",
    "fig1.add_trace(go.Scatter(x=df_Population_Be_1[' '], y=df_Population_Be_1[\"Evolution des demandes d'emploi enregistrées\"], name='Total',\n",
    "                         line = dict(color='lightseagreen')))\n",
    "\n",
    "fig1.update_layout(title=\"Evolution des demandes d'emploi entre 2007 et 2017\",template='plotly_white',font=dict(\n",
    "                 family=\" Gravitas One, cursive\",\n",
    "                 size=13))\n",
    "fig1.write_html(\"fig1.html\")\n",
    "fig1.show()"
   ]
  },
  {
   "cell_type": "code",
   "execution_count": null,
   "metadata": {},
   "outputs": [],
   "source": [
    "import plotly.graph_objects as go\n",
    "import plotly.express as px\n",
    "\n",
    "\n",
    "fig2 = go.Figure()\n",
    "fig2.add_trace(go.Bar(\n",
    "    x=df_Population_Be_1[' '], \n",
    "    y=df_Population_Be_1[\"Demandes d'emploi enregistrées des Masculins\"],\n",
    "    name='Homme',\n",
    "    marker_color='royalblue'\n",
    "))\n",
    "fig2.add_trace(go.Bar(\n",
    "    x=df_Population_Be_1[' '],\n",
    "    y=df_Population_Be_1[\"demandes d'emploi enregistrées des Feminins\"],\n",
    "    name='Femme',\n",
    "    marker_color='tomato'\n",
    "))\n",
    "\n",
    "# Here we modify the tickangle of the xaxis, resulting in rotated labels.\n",
    "fig2.update_layout(barmode='group', xaxis_tickangle=-45,title=\"Demandes d'emploi des hommes Vs les femmes\",template=\"plotly_white\",font=dict(\n",
    "                 family=\" Gravitas One, cursive\",\n",
    "                 size=13))\n",
    "fig2.write_html(\"fig2.html\")\n",
    "fig2.show()"
   ]
  },
  {
   "cell_type": "code",
   "execution_count": null,
   "metadata": {},
   "outputs": [],
   "source": [
    "# Initialize figure\n",
    "fig3 = go.Figure()\n",
    "\n",
    "# Add Traces\n",
    "\n",
    "fig3.add_trace(\n",
    "    go.Scatter(x=df_Population_Be_1[' '],\n",
    "               y=df_Population_Be_1[\"Evolution des demandes d'emploi enregistrées\"],\n",
    "               name=\"Total Demandes\",\n",
    "               line=dict(color=\"lightseagreen\")))\n",
    "\n",
    "fig3.add_trace(\n",
    "    go.Scatter(x=df_Population_Be_1[' '],\n",
    "               y=df_Population_Be_1[\"Demandes d'emploi enregistrées des Masculins\"],\n",
    "               name=\"Demandes masculines\",\n",
    "               visible=False,\n",
    "               line=dict(color=\"royalblue\")))\n",
    "\n",
    "fig3.add_trace(\n",
    "    go.Scatter(x=df_Population_Be_1[' '],\n",
    "               y=df_Population_Be_1[\"demandes d'emploi enregistrées des Feminins\"],\n",
    "               name=\"Demandes Féminines\",\n",
    "               line=dict(color=\"tomato\")))\n",
    "\n",
    "fig3.add_trace(\n",
    "    go.Scatter(x=df_Population_Be_1[' '],\n",
    "               y=df_Population_Be_1['Dont première demande'],\n",
    "               name=\"PrD\",\n",
    "               visible=False,\n",
    "               line=dict(color=\"darkturquoise\")))\n",
    "\n",
    "# Add Annotations and Buttons\n",
    "\n",
    "fig3.update_layout(\n",
    "    updatemenus=[\n",
    "        dict(\n",
    "            #active=0,\n",
    "            #bgcolor='#B8F7D4',\n",
    "            #borderwidth =2,\n",
    "            buttons=list([\n",
    "                dict(label=\"Total Demandes\",\n",
    "                     method=\"update\",\n",
    "                     args=[{\"visible\": [True, False, False, False]},\n",
    "                           {\"title\": \"Demandes d'emploi\"\n",
    "                            }]),\n",
    "                dict(label=\"Demandes masculines\",\n",
    "                     method=\"update\",\n",
    "                     args=[{\"visible\": [True, True, False, False]},\n",
    "                           {\"title\": \"Demandes d'emploi\"\n",
    "                           }]),\n",
    "                dict(label=\"Demandes Féminines\",\n",
    "                     method=\"update\",\n",
    "                     args=[{\"visible\": [True, False, True, False]},\n",
    "                           {\"title\": \"Demandes d'emploi\"\n",
    "                            }]),\n",
    "                dict(label=\"PrD\",\n",
    "                     method=\"update\",\n",
    "                     args=[{\"visible\": [True,False,False, True]},\n",
    "                           {\"title\": \"Demandes d'emploi\"\n",
    "                            }]),\n",
    "            ])\n",
    "        )\n",
    "    ])\n",
    "\n",
    "# Set title\n",
    "\n",
    "\n",
    "fig3.update_layout(hovermode=\"x\",template=\"plotly_white\",\n",
    "        title=\"Demandes d'emploi\",\n",
    "        font=dict(\n",
    "        family=\" Gravitas One, cursive\",\n",
    "        size=13))\n",
    "        #color=\"MidnightBlue\" \n",
    "\n",
    "#fig = px.line(df_Population_Be_1,x='year', y=\"lifeExp\")\n",
    "fig3.write_html(\"fig3.html\")\n",
    "fig3.show()"
   ]
  },
  {
   "cell_type": "code",
   "execution_count": null,
   "metadata": {},
   "outputs": [],
   "source": [
    "df_Population_Be_2=pd.read_csv(\"~/data_viz/Project_Employement/data/tidy_data/bureau d'emploi/Socio économique 02_22_2020 22_12_13.csv\",\n",
    "                                header=1)\n",
    "df_Population_Be_2\n",
    "\n"
   ]
  },
  {
   "cell_type": "code",
   "execution_count": null,
   "metadata": {},
   "outputs": [],
   "source": [
    "df_Population_Be_2.columns\n"
   ]
  },
  {
   "cell_type": "code",
   "execution_count": null,
   "metadata": {},
   "outputs": [],
   "source": [
    "fig4 = go.Figure()\n",
    "fig4.add_trace(go.Scatter(x=df_Population_Be_1[' '], y=df_Population_Be_1[\"Evolution des demandes d'emploi enregistrées\"], fill='tonexty',name=\"Demandes enregistrées\",line_color='firebrick')) # fill down to xaxis\n",
    "fig4.add_trace(go.Scatter(x=df_Population_Be_1[' '], y=df_Population_Be_2[\"Evolution des offres d'emploi reçus\"], fill='tozeroy',name=\"Offres reçues\",line_color='darkturquoise')) # fill to trace0 y\n",
    "fig4.update_layout(hovermode=\"x\",title_text=\"Demandes d'emploi Vs Offres reçues\",template=\"plotly_white\",font=dict(\n",
    "                 family=\" Gravitas One, cursive\",\n",
    "                 size=13))\n",
    "fig4.write_html(\"fig4.html\")\n",
    "fig4.show()"
   ]
  },
  {
   "cell_type": "code",
   "execution_count": null,
   "metadata": {},
   "outputs": [],
   "source": [
    "fig = go.Figure(data=[\n",
    "    go.Bar(name=\"Evolution des offres d'emploi reçus\", x=df_Population_Be_2[' '], y=df_Population_Be_2[\"Evolution des offres d'emploi reçus\"],marker_color='darkturquoise'),\n",
    "    go.Bar(name=\"Placements réalisées par Sexe\", x=df_Population_Be_2[' '], y=df_Population_Be_2[\"Placements réalisées par Sexe\"],marker_color='lightseagreen'),\n",
    "    go.Bar(name=\"Placements réalisées  des Masculins\", x=df_Population_Be_2[' '], y=df_Population_Be_2[\"Placements réalisées  des Masculins\"],marker_color='royalblue'),\n",
    "    go.Bar(name=\"Placements réalisées des Feminins\", x=df_Population_Be_2[' '], y=df_Population_Be_2[\"Placements réalisées des Feminins\"],marker_color='tomato'),\n",
    "    go.Bar(name=\"Dont premier emploi\", x=df_Population_Be_2[' '], y=df_Population_Be_2[\"Dont premier emploi\"],marker_color='firebrick')\n",
    "])\n",
    "# Change the bar mode\n",
    "\n",
    "fig.update_layout(barmode='group',template=\"plotly_white\",font=dict(\n",
    "                 family=\" Gravitas One, cursive\",\n",
    "                 size=13))\n",
    "fig.show()"
   ]
  },
  {
   "cell_type": "code",
   "execution_count": null,
   "metadata": {},
   "outputs": [],
   "source": [
    "import plotly.graph_objects as go\n",
    "\n",
    "\n",
    "fig = go.Figure(data=[\n",
    "    go.Bar(name=\"Evolution des offres d'emploi reçus\", x=df_Population_Be_2[' '], y=df_Population_Be_2[\"Evolution des offres d'emploi reçus\"],marker_color='darkturquoise'),\n",
    "    go.Bar(name=\"Placements réalisées par Sexe\", x=df_Population_Be_2[' '], y=df_Population_Be_2[\"Placements réalisées par Sexe\"],marker_color='lightseagreen'),\n",
    "    go.Bar(name=\"Placements réalisées  des Masculins\", x=df_Population_Be_2[' '], y=df_Population_Be_2[\"Placements réalisées  des Masculins\"],marker_color='royalblue'),\n",
    "    go.Bar(name=\"Placements réalisées des Feminins\", x=df_Population_Be_2[' '], y=df_Population_Be_2[\"Placements réalisées des Feminins\"],marker_color='tomato'),\n",
    "    go.Bar(name=\"Dont premier emploi\", x=df_Population_Be_2[' '], y=df_Population_Be_2[\"Dont premier emploi\"],marker_color='firebrick')\n",
    "])\n",
    "# Change the bar mode\n",
    "\n",
    "fig.update_layout(barmode='stack',template=\"plotly_white\",font=dict(\n",
    "                 family=\" Gravitas One, cursive\",\n",
    "                 size=13))\n",
    "fig.show()"
   ]
  },
  {
   "cell_type": "code",
   "execution_count": null,
   "metadata": {},
   "outputs": [],
   "source": []
  }
 ],
 "metadata": {
  "kernelspec": {
   "display_name": "Python 3",
   "language": "python",
   "name": "python3"
  },
  "language_info": {
   "codemirror_mode": {
    "name": "ipython",
    "version": 3
   },
   "file_extension": ".py",
   "mimetype": "text/x-python",
   "name": "python",
   "nbconvert_exporter": "python",
   "pygments_lexer": "ipython3",
   "version": "3.7.4"
  }
 },
 "nbformat": 4,
 "nbformat_minor": 2
}
