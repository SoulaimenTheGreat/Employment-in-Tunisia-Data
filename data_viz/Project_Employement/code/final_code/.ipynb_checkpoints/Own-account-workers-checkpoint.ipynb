{
 "cells": [
  {
   "cell_type": "code",
   "execution_count": 1,
   "metadata": {},
   "outputs": [],
   "source": [
    "import pandas as pd\n",
    "import numpy as np\n",
    "import plotly.express as px\n",
    "import plotly.graph_objects as go\n",
    "from plotly.subplots import make_subplots"
   ]
  },
  {
   "cell_type": "code",
   "execution_count": 2,
   "metadata": {},
   "outputs": [
    {
     "data": {
      "text/html": [
       "<div>\n",
       "<style scoped>\n",
       "    .dataframe tbody tr th:only-of-type {\n",
       "        vertical-align: middle;\n",
       "    }\n",
       "\n",
       "    .dataframe tbody tr th {\n",
       "        vertical-align: top;\n",
       "    }\n",
       "\n",
       "    .dataframe thead th {\n",
       "        text-align: right;\n",
       "    }\n",
       "</style>\n",
       "<table border=\"1\" class=\"dataframe\">\n",
       "  <thead>\n",
       "    <tr style=\"text-align: right;\">\n",
       "      <th></th>\n",
       "      <th>date</th>\n",
       "      <th>value</th>\n",
       "    </tr>\n",
       "  </thead>\n",
       "  <tbody>\n",
       "    <tr>\n",
       "      <th>0</th>\n",
       "      <td>1991</td>\n",
       "      <td>22.807</td>\n",
       "    </tr>\n",
       "    <tr>\n",
       "      <th>1</th>\n",
       "      <td>1992</td>\n",
       "      <td>22.601</td>\n",
       "    </tr>\n",
       "    <tr>\n",
       "      <th>2</th>\n",
       "      <td>1993</td>\n",
       "      <td>21.954</td>\n",
       "    </tr>\n",
       "    <tr>\n",
       "      <th>3</th>\n",
       "      <td>1994</td>\n",
       "      <td>21.109</td>\n",
       "    </tr>\n",
       "    <tr>\n",
       "      <th>4</th>\n",
       "      <td>1995</td>\n",
       "      <td>26.212</td>\n",
       "    </tr>\n",
       "  </tbody>\n",
       "</table>\n",
       "</div>"
      ],
      "text/plain": [
       "   date   value\n",
       "0  1991  22.807\n",
       "1  1992  22.601\n",
       "2  1993  21.954\n",
       "3  1994  21.109\n",
       "4  1995  26.212"
      ]
     },
     "execution_count": 2,
     "metadata": {},
     "output_type": "execute_result"
    }
   ],
   "source": [
    "df_Own_Account_workers=pd.read_csv(\"~/data_viz/Project_Employement/data/tidy_data/Own-account workers/Own-account Workers.csv\",index_col=0)\n",
    "df_Own_Account_workers.head()\n"
   ]
  },
  {
   "cell_type": "code",
   "execution_count": null,
   "metadata": {},
   "outputs": [],
   "source": [
    "fig = go.Figure()\n",
    "fig.add_trace(go.Scatter(x=df_Own_Account_workers['date'], y=df_Own_Account_workers[\"value\"], name='Total',\n",
    "                         line = dict(color='lightseagreen')))\n",
    "\n",
    "fig.update_layout(title=\"Travailleurs indépendants entre 1991 et 2019\",template=\"plotly_white\",font=dict(\n",
    "                 family=\" Gravitas One, cursive\",\n",
    "                 size=13))\n",
    "fig.show()"
   ]
  },
  {
   "cell_type": "code",
   "execution_count": null,
   "metadata": {},
   "outputs": [],
   "source": [
    "df_Own_Account_Female=pd.read_csv(\"~/data_viz/Project_Employement/data/tidy_data/Own-account workers/Own-account Workers, Female.csv\",index_col=0)\n",
    "df_Own_Account_Female.head()\n"
   ]
  },
  {
   "cell_type": "code",
   "execution_count": null,
   "metadata": {},
   "outputs": [],
   "source": [
    "df_Own_Account_male=pd.read_csv(\"~/data_viz/Project_Employement/data/tidy_data/Own-account workers/Own-account Workers, Male.csv\",index_col=0)\n",
    "df_Own_Account_male.head()"
   ]
  },
  {
   "cell_type": "code",
   "execution_count": null,
   "metadata": {},
   "outputs": [],
   "source": [
    "fig = go.Figure()\n",
    "fig.add_trace(go.Bar(x=df_Own_Account_Female[\"date\"],\n",
    "                y=df_Own_Account_Female['value'],\n",
    "                name='Femme',\n",
    "                marker_color='tomato'\n",
    "                ))\n",
    "fig.add_trace(go.Bar(x=df_Own_Account_male[\"date\"],\n",
    "                y=df_Own_Account_male['value'],\n",
    "                name='Homme',\n",
    "                marker_color='royalblue'\n",
    "                ))\n",
    "\n",
    "fig.update_layout(\n",
    "    title='Travailleurs indépendants des hommes Vs les femmes entre 1991 et 2019',template=\"plotly_white\",font=dict(\n",
    "                 family=\" Gravitas One, cursive\",\n",
    "                 size=13))\n",
    "fig.show()"
   ]
  },
  {
   "cell_type": "code",
   "execution_count": null,
   "metadata": {},
   "outputs": [],
   "source": []
  },
  {
   "cell_type": "code",
   "execution_count": null,
   "metadata": {},
   "outputs": [],
   "source": []
  },
  {
   "cell_type": "code",
   "execution_count": null,
   "metadata": {},
   "outputs": [],
   "source": []
  }
 ],
 "metadata": {
  "kernelspec": {
   "display_name": "Python 3",
   "language": "python",
   "name": "python3"
  },
  "language_info": {
   "codemirror_mode": {
    "name": "ipython",
    "version": 3
   },
   "file_extension": ".py",
   "mimetype": "text/x-python",
   "name": "python",
   "nbconvert_exporter": "python",
   "pygments_lexer": "ipython3",
   "version": "3.7.4"
  }
 },
 "nbformat": 4,
 "nbformat_minor": 2
}
