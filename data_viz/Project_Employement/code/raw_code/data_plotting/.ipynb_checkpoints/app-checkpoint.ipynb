{
 "cells": [
  {
   "cell_type": "code",
   "execution_count": 1,
   "metadata": {},
   "outputs": [],
   "source": [
    "from jupyter_plotly_dash import JupyterDash\n",
    "import dash\n",
    "import dash_core_components as dcc\n",
    "import dash_html_components as html\n",
    "import dash_bootstrap_components as dbc\n",
    "from dash.dependencies import Input, Output, State"
   ]
  },
  {
   "cell_type": "code",
   "execution_count": 2,
   "metadata": {},
   "outputs": [],
   "source": [
    "%store -r fig1\n",
    "%store -r fig2\n",
    "%store -r fig3\n",
    "%store -r fig4"
   ]
  },
  {
   "cell_type": "code",
   "execution_count": 17,
   "metadata": {},
   "outputs": [
    {
     "data": {
      "text/html": [
       "<div>\n",
       "  <iframe src=\"/app/endpoints/8454cce6c4664b2d970e25c78c88013a/\" width=800 height=600 frameborder=\"0\"></iframe>\n",
       "  <hr/><a href=\"/app/endpoints/8454cce6c4664b2d970e25c78c88013a/\" target=\"_new\">Open in new window</a> for /app/endpoints/8454cce6c4664b2d970e25c78c88013a/\n",
       "</div>"
      ],
      "text/plain": [
       "<jupyter_plotly_dash.dash_wrapper.JupyterDash at 0x2341f377dd8>"
      ]
     },
     "execution_count": 17,
     "metadata": {},
     "output_type": "execute_result"
    }
   ],
   "source": [
    "external_stylesheets=['https://codepen.io/chriddyp/pen/bWLwgP.css',dbc.themes.COSMO]\n",
    "app=dash.Dash(external_stylesheets=external_stylesheets)\n",
    "app = JupyterDash('SimpleExample')\n",
    "buttons = html.Div(\n",
    "    [\n",
    "      dbc.Button(\"Analyse\", color=\"success\", className=\"mr-1\"), \n",
    "      dbc.Button(\"Prédiction\", color=\"primary\", className=\"mr-1\"),\n",
    "    ])\n",
    "app.layout = html.Div(children=[\n",
    "    dcc.Dropdown(\n",
    "        id='demo-dropdown',\n",
    "        options=[\n",
    "            {'label': 'New York City', 'value': 'NYC'},\n",
    "            {'label': 'Montreal', 'value': 'MTL'},\n",
    "            {'label': 'San Francisco', 'value': 'SF'}\n",
    "        ],\n",
    "        value='NYC'\n",
    "    ),\n",
    "    html.H1(children='Hello Ya ali'),\n",
    "    buttons,\n",
    "    html.Div([\n",
    "      dcc.Graph(figure=fig1),\n",
    "      dcc.Graph(figure=fig2)]),\n",
    "      dcc.Graph(figure=fig3),\n",
    "      dcc.Graph(figure=fig4)\n",
    "])\n",
    "\n",
    "# if __name__ == '__main__':\n",
    "#     app.run_server(debug=False,use_reloader=False)\n",
    "app"
   ]
  },
  {
   "cell_type": "code",
   "execution_count": null,
   "metadata": {},
   "outputs": [],
   "source": []
  }
 ],
 "metadata": {
  "kernelspec": {
   "display_name": "Python 3",
   "language": "python",
   "name": "python3"
  },
  "language_info": {
   "codemirror_mode": {
    "name": "ipython",
    "version": 3
   },
   "file_extension": ".py",
   "mimetype": "text/x-python",
   "name": "python",
   "nbconvert_exporter": "python",
   "pygments_lexer": "ipython3",
   "version": "3.7.3"
  }
 },
 "nbformat": 4,
 "nbformat_minor": 4
}
